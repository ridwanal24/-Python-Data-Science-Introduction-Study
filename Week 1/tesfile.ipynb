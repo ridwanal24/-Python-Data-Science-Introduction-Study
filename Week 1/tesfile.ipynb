{
 "metadata": {
  "language_info": {
   "codemirror_mode": {
    "name": "ipython",
    "version": 3
   },
   "file_extension": ".py",
   "mimetype": "text/x-python",
   "name": "python",
   "nbconvert_exporter": "python",
   "pygments_lexer": "ipython3",
   "version": 3
  },
  "orig_nbformat": 2,
  "kernelspec": {
   "name": "python_defaultSpec_1596693626326",
   "display_name": "Python 3.8.3 64-bit (virtualenv)"
  }
 },
 "nbformat": 4,
 "nbformat_minor": 2,
 "cells": [
  {
   "cell_type": "code",
   "execution_count": 2,
   "metadata": {},
   "outputs": [
    {
     "output_type": "execute_result",
     "data": {
      "text/plain": "[{'': '1',\n  'manufacturer': 'audi',\n  'model': 'a4',\n  'displ': '1.8',\n  'year': '1999',\n  'cyl': '4',\n  'trans': 'auto(l5)',\n  'drv': 'f',\n  'cty': '18',\n  'hwy': '29',\n  'fl': 'p',\n  'class': 'compact'},\n {'': '2',\n  'manufacturer': 'audi',\n  'model': 'a4',\n  'displ': '1.8',\n  'year': '1999',\n  'cyl': '4',\n  'trans': 'manual(m5)',\n  'drv': 'f',\n  'cty': '21',\n  'hwy': '29',\n  'fl': 'p',\n  'class': 'compact'},\n {'': '3',\n  'manufacturer': 'audi',\n  'model': 'a4',\n  'displ': '2',\n  'year': '2008',\n  'cyl': '4',\n  'trans': 'manual(m6)',\n  'drv': 'f',\n  'cty': '20',\n  'hwy': '31',\n  'fl': 'p',\n  'class': 'compact'}]"
     },
     "metadata": {},
     "execution_count": 2
    }
   ],
   "source": [
    "import csv\n",
    "\n",
    "%precision 2\n",
    "\n",
    "with open('Data Files/mpg.csv') as csvFile:\n",
    "    mpg = list(csv.DictReader(csvFile))\n",
    "\n",
    "mpg[:3]"
   ]
  },
  {
   "cell_type": "code",
   "execution_count": 3,
   "metadata": {},
   "outputs": [
    {
     "output_type": "execute_result",
     "data": {
      "text/plain": "16.86"
     },
     "metadata": {},
     "execution_count": 3
    }
   ],
   "source": [
    "sum(float(d['cty']) for d in mpg) / len(mpg)"
   ]
  },
  {
   "cell_type": "code",
   "execution_count": 12,
   "metadata": {
    "tags": []
   },
   "outputs": [
    {
     "output_type": "execute_result",
     "data": {
      "text/plain": "23.44"
     },
     "metadata": {},
     "execution_count": 12
    }
   ],
   "source": [
    "sum(float(d['hwy']) for d in mpg) / len(mpg)"
   ]
  },
  {
   "cell_type": "code",
   "execution_count": 15,
   "metadata": {},
   "outputs": [
    {
     "output_type": "execute_result",
     "data": {
      "text/plain": "{'4', '5', '6', '8'}"
     },
     "metadata": {},
     "execution_count": 15
    }
   ],
   "source": [
    "cylinders = set(d['cyl'] for d in mpg)\n",
    "cylinders"
   ]
  },
  {
   "cell_type": "code",
   "execution_count": 28,
   "metadata": {
    "tags": []
   },
   "outputs": [
    {
     "output_type": "execute_result",
     "data": {
      "text/plain": "[('4', 21.01), ('5', 20.50), ('6', 16.22), ('8', 12.57)]"
     },
     "metadata": {},
     "execution_count": 28
    }
   ],
   "source": [
    "CtyMpgByCyl = []\n",
    "\n",
    "for c in cylinders:\n",
    "    summpg = 0\n",
    "    cyltypecount = 0\n",
    "    for d in mpg:\n",
    "        if d['cyl'] == c:\n",
    "            summpg += float(d['cty'])\n",
    "            cyltypecount += 1\n",
    "    CtyMpgByCyl.append((c,summpg / cyltypecount))\n",
    "\n",
    "CtyMpgByCyl.sort(key=lambda x: x[0])\n",
    "CtyMpgByCyl"
   ]
  },
  {
   "cell_type": "code",
   "execution_count": 39,
   "metadata": {
    "tags": []
   },
   "outputs": [
    {
     "output_type": "execute_result",
     "data": {
      "text/plain": "{'2seater', 'compact', 'midsize', 'minivan', 'pickup', 'subcompact', 'suv'}"
     },
     "metadata": {},
     "execution_count": 39
    }
   ],
   "source": [
    "vehicle_class = set(d['class'] for d in mpg)\n",
    "vehicle_class"
   ]
  },
  {
   "cell_type": "code",
   "execution_count": 42,
   "metadata": {},
   "outputs": [
    {
     "output_type": "execute_result",
     "data": {
      "text/plain": "[['pickup', 16.88],\n ['suv', 18.13],\n ['minivan', 22.36],\n ['2seater', 24.80],\n ['midsize', 27.29],\n ['subcompact', 28.14],\n ['compact', 28.30]]"
     },
     "metadata": {},
     "execution_count": 42
    }
   ],
   "source": [
    "hwy_mpg_by_class = [] # Nyimpan hasil datanya nanti\n",
    "\n",
    "for t in vehicle_class: # Iterasi setiap kelas vehicle\n",
    "    sum_mpg = 0 # Inisiasi variabel jumlah total\n",
    "    vehicle_class_count = 0 # inisiasi variabel jumlah data\n",
    "\n",
    "    for d in mpg: # Mengulang semua data di daataset\n",
    "        if d['class'] == t: # Menentukan kelas yang dihitung\n",
    "            sum_mpg += float(d['hwy']) # Jumlahkan semua sesuai kelas\n",
    "            vehicle_class_count += 1 # Hitung ada berapa data setiap kelas\n",
    "    hwy_mpg_by_class.append([t,sum_mpg / vehicle_class_count]) # Hitung rata-rata per kelas dan masukan ke variabel penampung\n",
    "\n",
    "hwy_mpg_by_class.sort(key=lambda x: x[1])\n",
    "hwy_mpg_by_class"
   ]
  }
 ]
}