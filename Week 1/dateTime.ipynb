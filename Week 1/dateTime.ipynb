{
 "metadata": {
  "language_info": {
   "codemirror_mode": {
    "name": "ipython",
    "version": 3
   },
   "file_extension": ".py",
   "mimetype": "text/x-python",
   "name": "python",
   "nbconvert_exporter": "python",
   "pygments_lexer": "ipython3",
   "version": 3
  },
  "orig_nbformat": 2,
  "kernelspec": {
   "name": "python_defaultSpec_1596696515175",
   "display_name": "Python 3.8.3 64-bit ('base': conda)"
  }
 },
 "nbformat": 4,
 "nbformat_minor": 2,
 "cells": [
  {
   "cell_type": "code",
   "execution_count": 1,
   "metadata": {},
   "outputs": [],
   "source": [
    "# Import library\n",
    "import datetime\n",
    "import time"
   ]
  },
  {
   "cell_type": "code",
   "execution_count": 4,
   "metadata": {},
   "outputs": [
    {
     "output_type": "execute_result",
     "data": {
      "text/plain": "1596696688.3317947"
     },
     "metadata": {},
     "execution_count": 4
    }
   ],
   "source": [
    "# Waktu hari ini dalam second\n",
    "time.time()"
   ]
  },
  {
   "cell_type": "code",
   "execution_count": 22,
   "metadata": {},
   "outputs": [
    {
     "output_type": "execute_result",
     "data": {
      "text/plain": "datetime.datetime(2020, 8, 6, 13, 59, 46, 259146)"
     },
     "metadata": {},
     "execution_count": 22
    }
   ],
   "source": [
    "# Merubah format waktu second ke dalam tanggal yang sesuai\n",
    "date_now = datetime.datetime.fromtimestamp(time.time()\n",
    ")\n",
    "date_now"
   ]
  },
  {
   "cell_type": "code",
   "execution_count": 25,
   "metadata": {},
   "outputs": [
    {
     "output_type": "execute_result",
     "data": {
      "text/plain": "(2020, 8, 6, 13, 59, 46, 259146)"
     },
     "metadata": {},
     "execution_count": 25
    }
   ],
   "source": [
    "# Reveal tanggal, jam, tahun, dsb\n",
    "date_now.year, date_now.month, date_now.day, date_now.hour, date_now.minute, date_now.second, date_now.microsecond"
   ]
  },
  {
   "cell_type": "code",
   "execution_count": 28,
   "metadata": {},
   "outputs": [
    {
     "output_type": "execute_result",
     "data": {
      "text/plain": "datetime.timedelta(days=100)"
     },
     "metadata": {},
     "execution_count": 28
    }
   ],
   "source": [
    "# Object jumlah hari (delta) = 100 hari\n",
    "delta = datetime.timedelta(days=100)\n",
    "delta"
   ]
  },
  {
   "cell_type": "code",
   "execution_count": 32,
   "metadata": {},
   "outputs": [
    {
     "output_type": "execute_result",
     "data": {
      "text/plain": "datetime.date(2020, 8, 6)"
     },
     "metadata": {},
     "execution_count": 32
    }
   ],
   "source": [
    "# Tanggal sekarang\n",
    "today = datetime.date.today()\n",
    "today"
   ]
  },
  {
   "cell_type": "code",
   "execution_count": 36,
   "metadata": {},
   "outputs": [
    {
     "output_type": "execute_result",
     "data": {
      "text/plain": "datetime.date(2020, 4, 28)"
     },
     "metadata": {},
     "execution_count": 36
    }
   ],
   "source": [
    "# Tanggal sekarang dikurangi 100 hari\n",
    "one_hundred_day_ago = today - delta\n",
    "one_hundred_day_ago"
   ]
  },
  {
   "cell_type": "code",
   "execution_count": 37,
   "metadata": {},
   "outputs": [
    {
     "output_type": "execute_result",
     "data": {
      "text/plain": "True"
     },
     "metadata": {},
     "execution_count": 37
    }
   ],
   "source": [
    "# masa lampau :: masa sekarang\n",
    "one_hundred_day_ago < today"
   ]
  }
 ]
}