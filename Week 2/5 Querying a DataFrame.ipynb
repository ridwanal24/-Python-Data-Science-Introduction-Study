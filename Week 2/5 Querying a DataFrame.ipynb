{
 "metadata": {
  "language_info": {
   "codemirror_mode": {
    "name": "ipython",
    "version": 3
   },
   "file_extension": ".py",
   "mimetype": "text/x-python",
   "name": "python",
   "nbconvert_exporter": "python",
   "pygments_lexer": "ipython3",
   "version": 3
  },
  "orig_nbformat": 2,
  "kernelspec": {
   "name": "python_defaultSpec_1597045113795",
   "display_name": "Python 3.8.3 64-bit ('base': conda)"
  }
 },
 "nbformat": 4,
 "nbformat_minor": 2,
 "cells": [
  {
   "cell_type": "code",
   "execution_count": 2,
   "metadata": {},
   "outputs": [
    {
     "output_type": "execute_result",
     "data": {
      "text/plain": "                         # Summer  Gold  Silver  Bronze  Total  # Winter  \\\nAfghanistan (AFG)              13     0       0       2      2         0   \nAlgeria (ALG)                  12     5       2       8     15         3   \nArgentina (ARG)                23    18      24      28     70        18   \nArmenia (ARM)                   5     1       2       9     12         6   \nAustralasia (ANZ) [ANZ]         2     3       4       5     12         0   \n\n                         Gold.1  Silver.1  Bronze.1  Total.1  # Games  Gold.2  \\\nAfghanistan (AFG)             0         0         0        0       13       0   \nAlgeria (ALG)                 0         0         0        0       15       5   \nArgentina (ARG)               0         0         0        0       41      18   \nArmenia (ARM)                 0         0         0        0       11       1   \nAustralasia (ANZ) [ANZ]       0         0         0        0        2       3   \n\n                         Silver.2  Bronze.2  Combined total  \nAfghanistan (AFG)               0         2               2  \nAlgeria (ALG)                   2         8              15  \nArgentina (ARG)                24        28              70  \nArmenia (ARM)                   2         9              12  \nAustralasia (ANZ) [ANZ]         4         5              12  ",
      "text/html": "<div>\n<style scoped>\n    .dataframe tbody tr th:only-of-type {\n        vertical-align: middle;\n    }\n\n    .dataframe tbody tr th {\n        vertical-align: top;\n    }\n\n    .dataframe thead th {\n        text-align: right;\n    }\n</style>\n<table border=\"1\" class=\"dataframe\">\n  <thead>\n    <tr style=\"text-align: right;\">\n      <th></th>\n      <th># Summer</th>\n      <th>Gold</th>\n      <th>Silver</th>\n      <th>Bronze</th>\n      <th>Total</th>\n      <th># Winter</th>\n      <th>Gold.1</th>\n      <th>Silver.1</th>\n      <th>Bronze.1</th>\n      <th>Total.1</th>\n      <th># Games</th>\n      <th>Gold.2</th>\n      <th>Silver.2</th>\n      <th>Bronze.2</th>\n      <th>Combined total</th>\n    </tr>\n  </thead>\n  <tbody>\n    <tr>\n      <th>Afghanistan (AFG)</th>\n      <td>13</td>\n      <td>0</td>\n      <td>0</td>\n      <td>2</td>\n      <td>2</td>\n      <td>0</td>\n      <td>0</td>\n      <td>0</td>\n      <td>0</td>\n      <td>0</td>\n      <td>13</td>\n      <td>0</td>\n      <td>0</td>\n      <td>2</td>\n      <td>2</td>\n    </tr>\n    <tr>\n      <th>Algeria (ALG)</th>\n      <td>12</td>\n      <td>5</td>\n      <td>2</td>\n      <td>8</td>\n      <td>15</td>\n      <td>3</td>\n      <td>0</td>\n      <td>0</td>\n      <td>0</td>\n      <td>0</td>\n      <td>15</td>\n      <td>5</td>\n      <td>2</td>\n      <td>8</td>\n      <td>15</td>\n    </tr>\n    <tr>\n      <th>Argentina (ARG)</th>\n      <td>23</td>\n      <td>18</td>\n      <td>24</td>\n      <td>28</td>\n      <td>70</td>\n      <td>18</td>\n      <td>0</td>\n      <td>0</td>\n      <td>0</td>\n      <td>0</td>\n      <td>41</td>\n      <td>18</td>\n      <td>24</td>\n      <td>28</td>\n      <td>70</td>\n    </tr>\n    <tr>\n      <th>Armenia (ARM)</th>\n      <td>5</td>\n      <td>1</td>\n      <td>2</td>\n      <td>9</td>\n      <td>12</td>\n      <td>6</td>\n      <td>0</td>\n      <td>0</td>\n      <td>0</td>\n      <td>0</td>\n      <td>11</td>\n      <td>1</td>\n      <td>2</td>\n      <td>9</td>\n      <td>12</td>\n    </tr>\n    <tr>\n      <th>Australasia (ANZ) [ANZ]</th>\n      <td>2</td>\n      <td>3</td>\n      <td>4</td>\n      <td>5</td>\n      <td>12</td>\n      <td>0</td>\n      <td>0</td>\n      <td>0</td>\n      <td>0</td>\n      <td>0</td>\n      <td>2</td>\n      <td>3</td>\n      <td>4</td>\n      <td>5</td>\n      <td>12</td>\n    </tr>\n  </tbody>\n</table>\n</div>"
     },
     "metadata": {},
     "execution_count": 2
    }
   ],
   "source": [
    "import pandas as pd\n",
    "\n",
    "df = pd.read_csv('../Data Files/olympics.csv', index_col = 0, skiprows=1)\n",
    "\n",
    "for col in df.columns:\n",
    "    if col[:2]=='01':\n",
    "        df.rename(columns={col:'Gold' + col[4:]}, inplace=True)\n",
    "    if col[:2]=='02':\n",
    "        df.rename(columns={col:'Silver' + col[4:]}, inplace=True)\n",
    "    if col[:2]=='03':\n",
    "        df.rename(columns={col:'Bronze' + col[4:]}, inplace=True)\n",
    "    if col[:1]=='№':\n",
    "        df.rename(columns={col:'#' + col[1:]}, inplace=True) \n",
    "\n",
    "df.head()"
   ]
  },
  {
   "cell_type": "code",
   "execution_count": 9,
   "metadata": {},
   "outputs": [
    {
     "output_type": "execute_result",
     "data": {
      "text/plain": "Afghanistan (AFG)                               False\nAlgeria (ALG)                                    True\nArgentina (ARG)                                  True\nArmenia (ARM)                                    True\nAustralasia (ANZ) [ANZ]                          True\n                                                ...  \nIndependent Olympic Participants (IOP) [IOP]    False\nZambia (ZAM) [ZAM]                              False\nZimbabwe (ZIM) [ZIM]                             True\nMixed team (ZZX) [ZZX]                           True\nTotals                                           True\nName: Gold, Length: 147, dtype: bool"
     },
     "metadata": {},
     "execution_count": 9
    }
   ],
   "source": [
    "# Boolean Masking\n",
    "\n",
    "df['Gold'] > 0"
   ]
  },
  {
   "cell_type": "code",
   "execution_count": 12,
   "metadata": {},
   "outputs": [
    {
     "output_type": "execute_result",
     "data": {
      "text/plain": "                                              # Summer    Gold  Silver  \\\nAfghanistan (AFG)                                  NaN     NaN     NaN   \nAlgeria (ALG)                                     12.0     5.0     2.0   \nArgentina (ARG)                                   23.0    18.0    24.0   \nArmenia (ARM)                                      5.0     1.0     2.0   \nAustralasia (ANZ) [ANZ]                            2.0     3.0     4.0   \n...                                                ...     ...     ...   \nIndependent Olympic Participants (IOP) [IOP]       NaN     NaN     NaN   \nZambia (ZAM) [ZAM]                                 NaN     NaN     NaN   \nZimbabwe (ZIM) [ZIM]                              12.0     3.0     4.0   \nMixed team (ZZX) [ZZX]                             3.0     8.0     5.0   \nTotals                                            27.0  4809.0  4775.0   \n\n                                              Bronze    Total  # Winter  \\\nAfghanistan (AFG)                                NaN      NaN       NaN   \nAlgeria (ALG)                                    8.0     15.0       3.0   \nArgentina (ARG)                                 28.0     70.0      18.0   \nArmenia (ARM)                                    9.0     12.0       6.0   \nAustralasia (ANZ) [ANZ]                          5.0     12.0       0.0   \n...                                              ...      ...       ...   \nIndependent Olympic Participants (IOP) [IOP]     NaN      NaN       NaN   \nZambia (ZAM) [ZAM]                               NaN      NaN       NaN   \nZimbabwe (ZIM) [ZIM]                             1.0      8.0       1.0   \nMixed team (ZZX) [ZZX]                           4.0     17.0       0.0   \nTotals                                        5130.0  14714.0      22.0   \n\n                                              Gold.1  Silver.1  Bronze.1  \\\nAfghanistan (AFG)                                NaN       NaN       NaN   \nAlgeria (ALG)                                    0.0       0.0       0.0   \nArgentina (ARG)                                  0.0       0.0       0.0   \nArmenia (ARM)                                    0.0       0.0       0.0   \nAustralasia (ANZ) [ANZ]                          0.0       0.0       0.0   \n...                                              ...       ...       ...   \nIndependent Olympic Participants (IOP) [IOP]     NaN       NaN       NaN   \nZambia (ZAM) [ZAM]                               NaN       NaN       NaN   \nZimbabwe (ZIM) [ZIM]                             0.0       0.0       0.0   \nMixed team (ZZX) [ZZX]                           0.0       0.0       0.0   \nTotals                                         959.0     958.0     948.0   \n\n                                              Total.1  # Games  Gold.2  \\\nAfghanistan (AFG)                                 NaN      NaN     NaN   \nAlgeria (ALG)                                     0.0     15.0     5.0   \nArgentina (ARG)                                   0.0     41.0    18.0   \nArmenia (ARM)                                     0.0     11.0     1.0   \nAustralasia (ANZ) [ANZ]                           0.0      2.0     3.0   \n...                                               ...      ...     ...   \nIndependent Olympic Participants (IOP) [IOP]      NaN      NaN     NaN   \nZambia (ZAM) [ZAM]                                NaN      NaN     NaN   \nZimbabwe (ZIM) [ZIM]                              0.0     13.0     3.0   \nMixed team (ZZX) [ZZX]                            0.0      3.0     8.0   \nTotals                                         2865.0     49.0  5768.0   \n\n                                              Silver.2  Bronze.2  \\\nAfghanistan (AFG)                                  NaN       NaN   \nAlgeria (ALG)                                      2.0       8.0   \nArgentina (ARG)                                   24.0      28.0   \nArmenia (ARM)                                      2.0       9.0   \nAustralasia (ANZ) [ANZ]                            4.0       5.0   \n...                                                ...       ...   \nIndependent Olympic Participants (IOP) [IOP]       NaN       NaN   \nZambia (ZAM) [ZAM]                                 NaN       NaN   \nZimbabwe (ZIM) [ZIM]                               4.0       1.0   \nMixed team (ZZX) [ZZX]                             5.0       4.0   \nTotals                                          5733.0    6078.0   \n\n                                              Combined total  \nAfghanistan (AFG)                                        NaN  \nAlgeria (ALG)                                           15.0  \nArgentina (ARG)                                         70.0  \nArmenia (ARM)                                           12.0  \nAustralasia (ANZ) [ANZ]                                 12.0  \n...                                                      ...  \nIndependent Olympic Participants (IOP) [IOP]             NaN  \nZambia (ZAM) [ZAM]                                       NaN  \nZimbabwe (ZIM) [ZIM]                                     8.0  \nMixed team (ZZX) [ZZX]                                  17.0  \nTotals                                               17579.0  \n\n[147 rows x 15 columns]",
      "text/html": "<div>\n<style scoped>\n    .dataframe tbody tr th:only-of-type {\n        vertical-align: middle;\n    }\n\n    .dataframe tbody tr th {\n        vertical-align: top;\n    }\n\n    .dataframe thead th {\n        text-align: right;\n    }\n</style>\n<table border=\"1\" class=\"dataframe\">\n  <thead>\n    <tr style=\"text-align: right;\">\n      <th></th>\n      <th># Summer</th>\n      <th>Gold</th>\n      <th>Silver</th>\n      <th>Bronze</th>\n      <th>Total</th>\n      <th># Winter</th>\n      <th>Gold.1</th>\n      <th>Silver.1</th>\n      <th>Bronze.1</th>\n      <th>Total.1</th>\n      <th># Games</th>\n      <th>Gold.2</th>\n      <th>Silver.2</th>\n      <th>Bronze.2</th>\n      <th>Combined total</th>\n    </tr>\n  </thead>\n  <tbody>\n    <tr>\n      <th>Afghanistan (AFG)</th>\n      <td>NaN</td>\n      <td>NaN</td>\n      <td>NaN</td>\n      <td>NaN</td>\n      <td>NaN</td>\n      <td>NaN</td>\n      <td>NaN</td>\n      <td>NaN</td>\n      <td>NaN</td>\n      <td>NaN</td>\n      <td>NaN</td>\n      <td>NaN</td>\n      <td>NaN</td>\n      <td>NaN</td>\n      <td>NaN</td>\n    </tr>\n    <tr>\n      <th>Algeria (ALG)</th>\n      <td>12.0</td>\n      <td>5.0</td>\n      <td>2.0</td>\n      <td>8.0</td>\n      <td>15.0</td>\n      <td>3.0</td>\n      <td>0.0</td>\n      <td>0.0</td>\n      <td>0.0</td>\n      <td>0.0</td>\n      <td>15.0</td>\n      <td>5.0</td>\n      <td>2.0</td>\n      <td>8.0</td>\n      <td>15.0</td>\n    </tr>\n    <tr>\n      <th>Argentina (ARG)</th>\n      <td>23.0</td>\n      <td>18.0</td>\n      <td>24.0</td>\n      <td>28.0</td>\n      <td>70.0</td>\n      <td>18.0</td>\n      <td>0.0</td>\n      <td>0.0</td>\n      <td>0.0</td>\n      <td>0.0</td>\n      <td>41.0</td>\n      <td>18.0</td>\n      <td>24.0</td>\n      <td>28.0</td>\n      <td>70.0</td>\n    </tr>\n    <tr>\n      <th>Armenia (ARM)</th>\n      <td>5.0</td>\n      <td>1.0</td>\n      <td>2.0</td>\n      <td>9.0</td>\n      <td>12.0</td>\n      <td>6.0</td>\n      <td>0.0</td>\n      <td>0.0</td>\n      <td>0.0</td>\n      <td>0.0</td>\n      <td>11.0</td>\n      <td>1.0</td>\n      <td>2.0</td>\n      <td>9.0</td>\n      <td>12.0</td>\n    </tr>\n    <tr>\n      <th>Australasia (ANZ) [ANZ]</th>\n      <td>2.0</td>\n      <td>3.0</td>\n      <td>4.0</td>\n      <td>5.0</td>\n      <td>12.0</td>\n      <td>0.0</td>\n      <td>0.0</td>\n      <td>0.0</td>\n      <td>0.0</td>\n      <td>0.0</td>\n      <td>2.0</td>\n      <td>3.0</td>\n      <td>4.0</td>\n      <td>5.0</td>\n      <td>12.0</td>\n    </tr>\n    <tr>\n      <th>...</th>\n      <td>...</td>\n      <td>...</td>\n      <td>...</td>\n      <td>...</td>\n      <td>...</td>\n      <td>...</td>\n      <td>...</td>\n      <td>...</td>\n      <td>...</td>\n      <td>...</td>\n      <td>...</td>\n      <td>...</td>\n      <td>...</td>\n      <td>...</td>\n      <td>...</td>\n    </tr>\n    <tr>\n      <th>Independent Olympic Participants (IOP) [IOP]</th>\n      <td>NaN</td>\n      <td>NaN</td>\n      <td>NaN</td>\n      <td>NaN</td>\n      <td>NaN</td>\n      <td>NaN</td>\n      <td>NaN</td>\n      <td>NaN</td>\n      <td>NaN</td>\n      <td>NaN</td>\n      <td>NaN</td>\n      <td>NaN</td>\n      <td>NaN</td>\n      <td>NaN</td>\n      <td>NaN</td>\n    </tr>\n    <tr>\n      <th>Zambia (ZAM) [ZAM]</th>\n      <td>NaN</td>\n      <td>NaN</td>\n      <td>NaN</td>\n      <td>NaN</td>\n      <td>NaN</td>\n      <td>NaN</td>\n      <td>NaN</td>\n      <td>NaN</td>\n      <td>NaN</td>\n      <td>NaN</td>\n      <td>NaN</td>\n      <td>NaN</td>\n      <td>NaN</td>\n      <td>NaN</td>\n      <td>NaN</td>\n    </tr>\n    <tr>\n      <th>Zimbabwe (ZIM) [ZIM]</th>\n      <td>12.0</td>\n      <td>3.0</td>\n      <td>4.0</td>\n      <td>1.0</td>\n      <td>8.0</td>\n      <td>1.0</td>\n      <td>0.0</td>\n      <td>0.0</td>\n      <td>0.0</td>\n      <td>0.0</td>\n      <td>13.0</td>\n      <td>3.0</td>\n      <td>4.0</td>\n      <td>1.0</td>\n      <td>8.0</td>\n    </tr>\n    <tr>\n      <th>Mixed team (ZZX) [ZZX]</th>\n      <td>3.0</td>\n      <td>8.0</td>\n      <td>5.0</td>\n      <td>4.0</td>\n      <td>17.0</td>\n      <td>0.0</td>\n      <td>0.0</td>\n      <td>0.0</td>\n      <td>0.0</td>\n      <td>0.0</td>\n      <td>3.0</td>\n      <td>8.0</td>\n      <td>5.0</td>\n      <td>4.0</td>\n      <td>17.0</td>\n    </tr>\n    <tr>\n      <th>Totals</th>\n      <td>27.0</td>\n      <td>4809.0</td>\n      <td>4775.0</td>\n      <td>5130.0</td>\n      <td>14714.0</td>\n      <td>22.0</td>\n      <td>959.0</td>\n      <td>958.0</td>\n      <td>948.0</td>\n      <td>2865.0</td>\n      <td>49.0</td>\n      <td>5768.0</td>\n      <td>5733.0</td>\n      <td>6078.0</td>\n      <td>17579.0</td>\n    </tr>\n  </tbody>\n</table>\n<p>147 rows × 15 columns</p>\n</div>"
     },
     "metadata": {},
     "execution_count": 12
    }
   ],
   "source": [
    "# Ambil dataframe yang 'Gold' nya lebih dari 0\n",
    "\n",
    "only_gold = df.where(df['Gold'] > 0)\n",
    "only_gold"
   ]
  },
  {
   "cell_type": "code",
   "execution_count": 14,
   "metadata": {},
   "outputs": [
    {
     "output_type": "execute_result",
     "data": {
      "text/plain": "                           # Summer    Gold  Silver  Bronze    Total  \\\nAlgeria (ALG)                  12.0     5.0     2.0     8.0     15.0   \nArgentina (ARG)                23.0    18.0    24.0    28.0     70.0   \nArmenia (ARM)                   5.0     1.0     2.0     9.0     12.0   \nAustralasia (ANZ) [ANZ]         2.0     3.0     4.0     5.0     12.0   \nAustralia (AUS) [AUS] [Z]      25.0   139.0   152.0   177.0    468.0   \n...                             ...     ...     ...     ...      ...   \nVenezuela (VEN)                17.0     2.0     2.0     8.0     12.0   \nYugoslavia (YUG) [YUG]         16.0    26.0    29.0    28.0     83.0   \nZimbabwe (ZIM) [ZIM]           12.0     3.0     4.0     1.0      8.0   \nMixed team (ZZX) [ZZX]          3.0     8.0     5.0     4.0     17.0   \nTotals                         27.0  4809.0  4775.0  5130.0  14714.0   \n\n                           # Winter  Gold.1  Silver.1  Bronze.1  Total.1  \\\nAlgeria (ALG)                   3.0     0.0       0.0       0.0      0.0   \nArgentina (ARG)                18.0     0.0       0.0       0.0      0.0   \nArmenia (ARM)                   6.0     0.0       0.0       0.0      0.0   \nAustralasia (ANZ) [ANZ]         0.0     0.0       0.0       0.0      0.0   \nAustralia (AUS) [AUS] [Z]      18.0     5.0       3.0       4.0     12.0   \n...                             ...     ...       ...       ...      ...   \nVenezuela (VEN)                 4.0     0.0       0.0       0.0      0.0   \nYugoslavia (YUG) [YUG]         14.0     0.0       3.0       1.0      4.0   \nZimbabwe (ZIM) [ZIM]            1.0     0.0       0.0       0.0      0.0   \nMixed team (ZZX) [ZZX]          0.0     0.0       0.0       0.0      0.0   \nTotals                         22.0   959.0     958.0     948.0   2865.0   \n\n                           # Games  Gold.2  Silver.2  Bronze.2  Combined total  \nAlgeria (ALG)                 15.0     5.0       2.0       8.0            15.0  \nArgentina (ARG)               41.0    18.0      24.0      28.0            70.0  \nArmenia (ARM)                 11.0     1.0       2.0       9.0            12.0  \nAustralasia (ANZ) [ANZ]        2.0     3.0       4.0       5.0            12.0  \nAustralia (AUS) [AUS] [Z]     43.0   144.0     155.0     181.0           480.0  \n...                            ...     ...       ...       ...             ...  \nVenezuela (VEN)               21.0     2.0       2.0       8.0            12.0  \nYugoslavia (YUG) [YUG]        30.0    26.0      32.0      29.0            87.0  \nZimbabwe (ZIM) [ZIM]          13.0     3.0       4.0       1.0             8.0  \nMixed team (ZZX) [ZZX]         3.0     8.0       5.0       4.0            17.0  \nTotals                        49.0  5768.0    5733.0    6078.0         17579.0  \n\n[100 rows x 15 columns]",
      "text/html": "<div>\n<style scoped>\n    .dataframe tbody tr th:only-of-type {\n        vertical-align: middle;\n    }\n\n    .dataframe tbody tr th {\n        vertical-align: top;\n    }\n\n    .dataframe thead th {\n        text-align: right;\n    }\n</style>\n<table border=\"1\" class=\"dataframe\">\n  <thead>\n    <tr style=\"text-align: right;\">\n      <th></th>\n      <th># Summer</th>\n      <th>Gold</th>\n      <th>Silver</th>\n      <th>Bronze</th>\n      <th>Total</th>\n      <th># Winter</th>\n      <th>Gold.1</th>\n      <th>Silver.1</th>\n      <th>Bronze.1</th>\n      <th>Total.1</th>\n      <th># Games</th>\n      <th>Gold.2</th>\n      <th>Silver.2</th>\n      <th>Bronze.2</th>\n      <th>Combined total</th>\n    </tr>\n  </thead>\n  <tbody>\n    <tr>\n      <th>Algeria (ALG)</th>\n      <td>12.0</td>\n      <td>5.0</td>\n      <td>2.0</td>\n      <td>8.0</td>\n      <td>15.0</td>\n      <td>3.0</td>\n      <td>0.0</td>\n      <td>0.0</td>\n      <td>0.0</td>\n      <td>0.0</td>\n      <td>15.0</td>\n      <td>5.0</td>\n      <td>2.0</td>\n      <td>8.0</td>\n      <td>15.0</td>\n    </tr>\n    <tr>\n      <th>Argentina (ARG)</th>\n      <td>23.0</td>\n      <td>18.0</td>\n      <td>24.0</td>\n      <td>28.0</td>\n      <td>70.0</td>\n      <td>18.0</td>\n      <td>0.0</td>\n      <td>0.0</td>\n      <td>0.0</td>\n      <td>0.0</td>\n      <td>41.0</td>\n      <td>18.0</td>\n      <td>24.0</td>\n      <td>28.0</td>\n      <td>70.0</td>\n    </tr>\n    <tr>\n      <th>Armenia (ARM)</th>\n      <td>5.0</td>\n      <td>1.0</td>\n      <td>2.0</td>\n      <td>9.0</td>\n      <td>12.0</td>\n      <td>6.0</td>\n      <td>0.0</td>\n      <td>0.0</td>\n      <td>0.0</td>\n      <td>0.0</td>\n      <td>11.0</td>\n      <td>1.0</td>\n      <td>2.0</td>\n      <td>9.0</td>\n      <td>12.0</td>\n    </tr>\n    <tr>\n      <th>Australasia (ANZ) [ANZ]</th>\n      <td>2.0</td>\n      <td>3.0</td>\n      <td>4.0</td>\n      <td>5.0</td>\n      <td>12.0</td>\n      <td>0.0</td>\n      <td>0.0</td>\n      <td>0.0</td>\n      <td>0.0</td>\n      <td>0.0</td>\n      <td>2.0</td>\n      <td>3.0</td>\n      <td>4.0</td>\n      <td>5.0</td>\n      <td>12.0</td>\n    </tr>\n    <tr>\n      <th>Australia (AUS) [AUS] [Z]</th>\n      <td>25.0</td>\n      <td>139.0</td>\n      <td>152.0</td>\n      <td>177.0</td>\n      <td>468.0</td>\n      <td>18.0</td>\n      <td>5.0</td>\n      <td>3.0</td>\n      <td>4.0</td>\n      <td>12.0</td>\n      <td>43.0</td>\n      <td>144.0</td>\n      <td>155.0</td>\n      <td>181.0</td>\n      <td>480.0</td>\n    </tr>\n    <tr>\n      <th>...</th>\n      <td>...</td>\n      <td>...</td>\n      <td>...</td>\n      <td>...</td>\n      <td>...</td>\n      <td>...</td>\n      <td>...</td>\n      <td>...</td>\n      <td>...</td>\n      <td>...</td>\n      <td>...</td>\n      <td>...</td>\n      <td>...</td>\n      <td>...</td>\n      <td>...</td>\n    </tr>\n    <tr>\n      <th>Venezuela (VEN)</th>\n      <td>17.0</td>\n      <td>2.0</td>\n      <td>2.0</td>\n      <td>8.0</td>\n      <td>12.0</td>\n      <td>4.0</td>\n      <td>0.0</td>\n      <td>0.0</td>\n      <td>0.0</td>\n      <td>0.0</td>\n      <td>21.0</td>\n      <td>2.0</td>\n      <td>2.0</td>\n      <td>8.0</td>\n      <td>12.0</td>\n    </tr>\n    <tr>\n      <th>Yugoslavia (YUG) [YUG]</th>\n      <td>16.0</td>\n      <td>26.0</td>\n      <td>29.0</td>\n      <td>28.0</td>\n      <td>83.0</td>\n      <td>14.0</td>\n      <td>0.0</td>\n      <td>3.0</td>\n      <td>1.0</td>\n      <td>4.0</td>\n      <td>30.0</td>\n      <td>26.0</td>\n      <td>32.0</td>\n      <td>29.0</td>\n      <td>87.0</td>\n    </tr>\n    <tr>\n      <th>Zimbabwe (ZIM) [ZIM]</th>\n      <td>12.0</td>\n      <td>3.0</td>\n      <td>4.0</td>\n      <td>1.0</td>\n      <td>8.0</td>\n      <td>1.0</td>\n      <td>0.0</td>\n      <td>0.0</td>\n      <td>0.0</td>\n      <td>0.0</td>\n      <td>13.0</td>\n      <td>3.0</td>\n      <td>4.0</td>\n      <td>1.0</td>\n      <td>8.0</td>\n    </tr>\n    <tr>\n      <th>Mixed team (ZZX) [ZZX]</th>\n      <td>3.0</td>\n      <td>8.0</td>\n      <td>5.0</td>\n      <td>4.0</td>\n      <td>17.0</td>\n      <td>0.0</td>\n      <td>0.0</td>\n      <td>0.0</td>\n      <td>0.0</td>\n      <td>0.0</td>\n      <td>3.0</td>\n      <td>8.0</td>\n      <td>5.0</td>\n      <td>4.0</td>\n      <td>17.0</td>\n    </tr>\n    <tr>\n      <th>Totals</th>\n      <td>27.0</td>\n      <td>4809.0</td>\n      <td>4775.0</td>\n      <td>5130.0</td>\n      <td>14714.0</td>\n      <td>22.0</td>\n      <td>959.0</td>\n      <td>958.0</td>\n      <td>948.0</td>\n      <td>2865.0</td>\n      <td>49.0</td>\n      <td>5768.0</td>\n      <td>5733.0</td>\n      <td>6078.0</td>\n      <td>17579.0</td>\n    </tr>\n  </tbody>\n</table>\n<p>100 rows × 15 columns</p>\n</div>"
     },
     "metadata": {},
     "execution_count": 14
    }
   ],
   "source": [
    "# Hapus data NaN\n",
    "\n",
    "only_gold = only_gold.dropna()\n",
    "only_gold"
   ]
  },
  {
   "cell_type": "code",
   "execution_count": 22,
   "metadata": {},
   "outputs": [
    {
     "output_type": "execute_result",
     "data": {
      "text/plain": "91"
     },
     "metadata": {},
     "execution_count": 22
    }
   ],
   "source": [
    "# Pake AND\n",
    "\n",
    "only_gold_silver_bronze = df[(df['Gold'] > 0) & (df['Silver'] > 0) & (df['Bronze'] > 0)]\n",
    "len(only_gold_silver_bronze)"
   ]
  },
  {
   "cell_type": "code",
   "execution_count": 24,
   "metadata": {},
   "outputs": [
    {
     "output_type": "execute_result",
     "data": {
      "text/plain": "                     Gold  Silver  Bronze\nLiechtenstein (LIE)     0       0       0",
      "text/html": "<div>\n<style scoped>\n    .dataframe tbody tr th:only-of-type {\n        vertical-align: middle;\n    }\n\n    .dataframe tbody tr th {\n        vertical-align: top;\n    }\n\n    .dataframe thead th {\n        text-align: right;\n    }\n</style>\n<table border=\"1\" class=\"dataframe\">\n  <thead>\n    <tr style=\"text-align: right;\">\n      <th></th>\n      <th>Gold</th>\n      <th>Silver</th>\n      <th>Bronze</th>\n    </tr>\n  </thead>\n  <tbody>\n    <tr>\n      <th>Liechtenstein (LIE)</th>\n      <td>0</td>\n      <td>0</td>\n      <td>0</td>\n    </tr>\n  </tbody>\n</table>\n</div>"
     },
     "metadata": {},
     "execution_count": 24
    }
   ],
   "source": [
    "# Digabung ( Tampilkan kolom gold, silver, bronze dan baris yang nilai 'total' nya == 0)\n",
    "\n",
    "df[['Gold','Silver','Bronze']][df['Total'] == 0]"
   ]
  },
  {
   "cell_type": "code",
   "execution_count": null,
   "metadata": {},
   "outputs": [],
   "source": []
  }
 ]
}