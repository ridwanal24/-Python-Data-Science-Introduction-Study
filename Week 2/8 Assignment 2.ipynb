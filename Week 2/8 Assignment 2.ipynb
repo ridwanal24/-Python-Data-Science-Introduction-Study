{
 "metadata": {
  "language_info": {
   "codemirror_mode": {
    "name": "ipython",
    "version": 3
   },
   "file_extension": ".py",
   "mimetype": "text/x-python",
   "name": "python",
   "nbconvert_exporter": "python",
   "pygments_lexer": "ipython3",
   "version": 3
  },
  "orig_nbformat": 2,
  "kernelspec": {
   "name": "python_defaultSpec_1597201810915",
   "display_name": "Python 3.8.3 64-bit ('base': conda)"
  }
 },
 "nbformat": 4,
 "nbformat_minor": 2,
 "cells": [
  {
   "cell_type": "code",
   "execution_count": 8,
   "metadata": {},
   "outputs": [
    {
     "output_type": "execute_result",
     "data": {
      "text/plain": "             # Summer  Gold  Silver  Bronze  Total  # Winter  Gold.1  \\\nAfghanistan        13     0       0       2      2         0       0   \nAlgeria            12     5       2       8     15         3       0   \nArgentina          23    18      24      28     70        18       0   \nArmenia             5     1       2       9     12         6       0   \nAustralasia         2     3       4       5     12         0       0   \n\n             Silver.1  Bronze.1  Total.1  # Games  Gold.2  Silver.2  Bronze.2  \\\nAfghanistan         0         0        0       13       0         0         2   \nAlgeria             0         0        0       15       5         2         8   \nArgentina           0         0        0       41      18        24        28   \nArmenia             0         0        0       11       1         2         9   \nAustralasia         0         0        0        2       3         4         5   \n\n             Combined total   ID  \nAfghanistan               2  AFG  \nAlgeria                  15  ALG  \nArgentina                70  ARG  \nArmenia                  12  ARM  \nAustralasia              12  ANZ  ",
      "text/html": "<div>\n<style scoped>\n    .dataframe tbody tr th:only-of-type {\n        vertical-align: middle;\n    }\n\n    .dataframe tbody tr th {\n        vertical-align: top;\n    }\n\n    .dataframe thead th {\n        text-align: right;\n    }\n</style>\n<table border=\"1\" class=\"dataframe\">\n  <thead>\n    <tr style=\"text-align: right;\">\n      <th></th>\n      <th># Summer</th>\n      <th>Gold</th>\n      <th>Silver</th>\n      <th>Bronze</th>\n      <th>Total</th>\n      <th># Winter</th>\n      <th>Gold.1</th>\n      <th>Silver.1</th>\n      <th>Bronze.1</th>\n      <th>Total.1</th>\n      <th># Games</th>\n      <th>Gold.2</th>\n      <th>Silver.2</th>\n      <th>Bronze.2</th>\n      <th>Combined total</th>\n      <th>ID</th>\n    </tr>\n  </thead>\n  <tbody>\n    <tr>\n      <th>Afghanistan</th>\n      <td>13</td>\n      <td>0</td>\n      <td>0</td>\n      <td>2</td>\n      <td>2</td>\n      <td>0</td>\n      <td>0</td>\n      <td>0</td>\n      <td>0</td>\n      <td>0</td>\n      <td>13</td>\n      <td>0</td>\n      <td>0</td>\n      <td>2</td>\n      <td>2</td>\n      <td>AFG</td>\n    </tr>\n    <tr>\n      <th>Algeria</th>\n      <td>12</td>\n      <td>5</td>\n      <td>2</td>\n      <td>8</td>\n      <td>15</td>\n      <td>3</td>\n      <td>0</td>\n      <td>0</td>\n      <td>0</td>\n      <td>0</td>\n      <td>15</td>\n      <td>5</td>\n      <td>2</td>\n      <td>8</td>\n      <td>15</td>\n      <td>ALG</td>\n    </tr>\n    <tr>\n      <th>Argentina</th>\n      <td>23</td>\n      <td>18</td>\n      <td>24</td>\n      <td>28</td>\n      <td>70</td>\n      <td>18</td>\n      <td>0</td>\n      <td>0</td>\n      <td>0</td>\n      <td>0</td>\n      <td>41</td>\n      <td>18</td>\n      <td>24</td>\n      <td>28</td>\n      <td>70</td>\n      <td>ARG</td>\n    </tr>\n    <tr>\n      <th>Armenia</th>\n      <td>5</td>\n      <td>1</td>\n      <td>2</td>\n      <td>9</td>\n      <td>12</td>\n      <td>6</td>\n      <td>0</td>\n      <td>0</td>\n      <td>0</td>\n      <td>0</td>\n      <td>11</td>\n      <td>1</td>\n      <td>2</td>\n      <td>9</td>\n      <td>12</td>\n      <td>ARM</td>\n    </tr>\n    <tr>\n      <th>Australasia</th>\n      <td>2</td>\n      <td>3</td>\n      <td>4</td>\n      <td>5</td>\n      <td>12</td>\n      <td>0</td>\n      <td>0</td>\n      <td>0</td>\n      <td>0</td>\n      <td>0</td>\n      <td>2</td>\n      <td>3</td>\n      <td>4</td>\n      <td>5</td>\n      <td>12</td>\n      <td>ANZ</td>\n    </tr>\n  </tbody>\n</table>\n</div>"
     },
     "metadata": {},
     "execution_count": 8
    }
   ],
   "source": [
    "# Part 1\n",
    "\n",
    "import pandas as pd\n",
    "\n",
    "df = pd.read_csv('../Data Files/olympics.csv', index_col=0, skiprows=1)\n",
    "\n",
    "for col in df.columns:\n",
    "    if col[:2]=='01':\n",
    "        df.rename(columns={col:'Gold'+col[4:]}, inplace=True)\n",
    "    if col[:2]=='02':\n",
    "        df.rename(columns={col:'Silver'+col[4:]}, inplace=True)\n",
    "    if col[:2]=='03':\n",
    "        df.rename(columns={col:'Bronze'+col[4:]}, inplace=True)\n",
    "    if col[:1]=='№':\n",
    "        df.rename(columns={col:'#'+col[1:]}, inplace=True)\n",
    "\n",
    "names_ids = df.index.str.split('\\s\\(') # split the index by '('\n",
    "\n",
    "df.index = names_ids.str[0] # the [0] element is the country name (new index) \n",
    "df['ID'] = names_ids.str[1].str[:3] # the [1] element is the abbreviation or ID (take first 3 characters from that)\n",
    "\n",
    "df = df.drop('Totals')\n",
    "df.head()"
   ]
  },
  {
   "cell_type": "code",
   "execution_count": 9,
   "metadata": {
    "tags": []
   },
   "outputs": [
    {
     "output_type": "execute_result",
     "data": {
      "text/plain": "'United States'"
     },
     "metadata": {},
     "execution_count": 9
    }
   ],
   "source": [
    "# Nama negara yang dapat gold terbanyak\n",
    "df.index[df['Gold'] == max(df['Gold'])].values[0]"
   ]
  },
  {
   "cell_type": "code",
   "execution_count": 10,
   "metadata": {},
   "outputs": [
    {
     "output_type": "execute_result",
     "data": {
      "text/plain": "'United States'"
     },
     "metadata": {},
     "execution_count": 10
    }
   ],
   "source": [
    "# Negara dengan selisih gold summer dengan winter terbanyak\n",
    "df.index[abs(df['Gold'] - df['Gold.1']) == max(abs(df['Gold'] - df['Gold.1']))].values[0]"
   ]
  },
  {
   "cell_type": "code",
   "execution_count": 11,
   "metadata": {},
   "outputs": [
    {
     "output_type": "execute_result",
     "data": {
      "text/plain": "'Australia'"
     },
     "metadata": {},
     "execution_count": 11
    }
   ],
   "source": [
    "# Negara dengan selisih gold winter dan summer terbanyak relative dengan total gold\n",
    "\n",
    "menaruh_urutan_bawang = []\n",
    "index_maximalnya = 0\n",
    "\n",
    "for i in df.values:\n",
    "    if (i[11] != 0) & (i[1] != 0) & (i[6] != 0):\n",
    "        menaruh_urutan_bawang.append(abs((i[1]-i[6])/i[11]))\n",
    "    else:\n",
    "        menaruh_urutan_bawang.append(0.0)\n",
    "\n",
    "for i, data in enumerate(menaruh_urutan_bawang):\n",
    "    if data > index_maximalnya:\n",
    "        index_maximalnya = i\n",
    "\n",
    "df.index.values[index_maximalnya]"
   ]
  },
  {
   "cell_type": "code",
   "execution_count": 12,
   "metadata": {},
   "outputs": [
    {
     "output_type": "execute_result",
     "data": {
      "text/plain": "Afghanistan                           2\nAlgeria                              27\nArgentina                           130\nArmenia                              16\nAustralasia                          22\n                                   ... \nYugoslavia                          171\nIndependent Olympic Participants      4\nZambia                                3\nZimbabwe                             18\nMixed team                           38\nName: Points, Length: 146, dtype: int64"
     },
     "metadata": {},
     "execution_count": 12
    }
   ],
   "source": [
    "# Membuat Series dari dataframe dengan bobot Gold.2 == 3, Silver.2 == 2, Bronze.2 == 1\n",
    "\n",
    "pd.Series(df['Gold.2'].values*3 + df['Silver.2'].values*2 + df['Bronze.2'].values*1, index=df.index, name='Points')"
   ]
  },
  {
   "cell_type": "code",
   "execution_count": 13,
   "metadata": {},
   "outputs": [
    {
     "output_type": "execute_result",
     "data": {
      "text/plain": "   SUMLEV  REGION  DIVISION  STATE  COUNTY   STNAME          CTYNAME  \\\n0      40       3         6      1       0  Alabama          Alabama   \n1      50       3         6      1       1  Alabama   Autauga County   \n2      50       3         6      1       3  Alabama   Baldwin County   \n3      50       3         6      1       5  Alabama   Barbour County   \n4      50       3         6      1       7  Alabama      Bibb County   \n5      50       3         6      1       9  Alabama    Blount County   \n6      50       3         6      1      11  Alabama   Bullock County   \n7      50       3         6      1      13  Alabama    Butler County   \n8      50       3         6      1      15  Alabama   Calhoun County   \n9      50       3         6      1      17  Alabama  Chambers County   \n\n   CENSUS2010POP  ESTIMATESBASE2010  POPESTIMATE2010  ...  RDOMESTICMIG2011  \\\n0        4779736            4780127          4785161  ...          0.002295   \n1          54571              54571            54660  ...          7.242091   \n2         182265             182265           183193  ...         14.832960   \n3          27457              27457            27341  ...         -4.728132   \n4          22915              22919            22861  ...         -5.527043   \n5          57322              57322            57373  ...          1.807375   \n6          10914              10915            10887  ...        -30.953709   \n7          20947              20946            20944  ...        -14.032727   \n8         118572             118586           118437  ...         -6.155670   \n9          34215              34170            34098  ...         -2.731639   \n\n   RDOMESTICMIG2012  RDOMESTICMIG2013  RDOMESTICMIG2014  RDOMESTICMIG2015  \\\n0         -0.193196          0.381066          0.582002         -0.467369   \n1         -2.915927         -3.012349          2.265971         -2.530799   \n2         17.647293         21.845705         19.243287         17.197872   \n3         -2.500690         -7.056824         -3.904217        -10.543299   \n4         -5.068871         -6.201001         -0.177537          0.177258   \n5         -1.177622         -1.748766         -2.062535         -1.369970   \n6         -5.180127         -1.130263         14.354290        -16.167247   \n7        -11.684234         -5.655413          1.085428         -6.529805   \n8         -4.611706         -5.524649         -4.463211         -3.376322   \n9          3.849092          2.872721         -2.287222          1.349468   \n\n   RNETMIG2011  RNETMIG2012  RNETMIG2013  RNETMIG2014  RNETMIG2015  \n0     1.030015     0.826644     1.383282     1.724718     0.712594  \n1     7.606016    -2.626146    -2.722002     2.592270    -2.187333  \n2    15.844176    18.559627    22.727626    20.317142    18.293499  \n3    -4.874741    -2.758113    -7.167664    -3.978583   -10.543299  \n4    -5.088389    -4.363636    -5.403729     0.754533     1.107861  \n5     1.859511    -0.848580    -1.402476    -1.577232    -0.884411  \n6   -29.001673    -2.825524     1.507017    17.243790   -13.193961  \n7   -13.936612   -11.586865    -5.557058     1.184103    -6.430868  \n8    -5.791579    -4.092677    -5.062836    -3.912834    -2.806406  \n9    -1.821092     4.701181     3.781439    -1.290228     2.346901  \n\n[10 rows x 100 columns]",
      "text/html": "<div>\n<style scoped>\n    .dataframe tbody tr th:only-of-type {\n        vertical-align: middle;\n    }\n\n    .dataframe tbody tr th {\n        vertical-align: top;\n    }\n\n    .dataframe thead th {\n        text-align: right;\n    }\n</style>\n<table border=\"1\" class=\"dataframe\">\n  <thead>\n    <tr style=\"text-align: right;\">\n      <th></th>\n      <th>SUMLEV</th>\n      <th>REGION</th>\n      <th>DIVISION</th>\n      <th>STATE</th>\n      <th>COUNTY</th>\n      <th>STNAME</th>\n      <th>CTYNAME</th>\n      <th>CENSUS2010POP</th>\n      <th>ESTIMATESBASE2010</th>\n      <th>POPESTIMATE2010</th>\n      <th>...</th>\n      <th>RDOMESTICMIG2011</th>\n      <th>RDOMESTICMIG2012</th>\n      <th>RDOMESTICMIG2013</th>\n      <th>RDOMESTICMIG2014</th>\n      <th>RDOMESTICMIG2015</th>\n      <th>RNETMIG2011</th>\n      <th>RNETMIG2012</th>\n      <th>RNETMIG2013</th>\n      <th>RNETMIG2014</th>\n      <th>RNETMIG2015</th>\n    </tr>\n  </thead>\n  <tbody>\n    <tr>\n      <th>0</th>\n      <td>40</td>\n      <td>3</td>\n      <td>6</td>\n      <td>1</td>\n      <td>0</td>\n      <td>Alabama</td>\n      <td>Alabama</td>\n      <td>4779736</td>\n      <td>4780127</td>\n      <td>4785161</td>\n      <td>...</td>\n      <td>0.002295</td>\n      <td>-0.193196</td>\n      <td>0.381066</td>\n      <td>0.582002</td>\n      <td>-0.467369</td>\n      <td>1.030015</td>\n      <td>0.826644</td>\n      <td>1.383282</td>\n      <td>1.724718</td>\n      <td>0.712594</td>\n    </tr>\n    <tr>\n      <th>1</th>\n      <td>50</td>\n      <td>3</td>\n      <td>6</td>\n      <td>1</td>\n      <td>1</td>\n      <td>Alabama</td>\n      <td>Autauga County</td>\n      <td>54571</td>\n      <td>54571</td>\n      <td>54660</td>\n      <td>...</td>\n      <td>7.242091</td>\n      <td>-2.915927</td>\n      <td>-3.012349</td>\n      <td>2.265971</td>\n      <td>-2.530799</td>\n      <td>7.606016</td>\n      <td>-2.626146</td>\n      <td>-2.722002</td>\n      <td>2.592270</td>\n      <td>-2.187333</td>\n    </tr>\n    <tr>\n      <th>2</th>\n      <td>50</td>\n      <td>3</td>\n      <td>6</td>\n      <td>1</td>\n      <td>3</td>\n      <td>Alabama</td>\n      <td>Baldwin County</td>\n      <td>182265</td>\n      <td>182265</td>\n      <td>183193</td>\n      <td>...</td>\n      <td>14.832960</td>\n      <td>17.647293</td>\n      <td>21.845705</td>\n      <td>19.243287</td>\n      <td>17.197872</td>\n      <td>15.844176</td>\n      <td>18.559627</td>\n      <td>22.727626</td>\n      <td>20.317142</td>\n      <td>18.293499</td>\n    </tr>\n    <tr>\n      <th>3</th>\n      <td>50</td>\n      <td>3</td>\n      <td>6</td>\n      <td>1</td>\n      <td>5</td>\n      <td>Alabama</td>\n      <td>Barbour County</td>\n      <td>27457</td>\n      <td>27457</td>\n      <td>27341</td>\n      <td>...</td>\n      <td>-4.728132</td>\n      <td>-2.500690</td>\n      <td>-7.056824</td>\n      <td>-3.904217</td>\n      <td>-10.543299</td>\n      <td>-4.874741</td>\n      <td>-2.758113</td>\n      <td>-7.167664</td>\n      <td>-3.978583</td>\n      <td>-10.543299</td>\n    </tr>\n    <tr>\n      <th>4</th>\n      <td>50</td>\n      <td>3</td>\n      <td>6</td>\n      <td>1</td>\n      <td>7</td>\n      <td>Alabama</td>\n      <td>Bibb County</td>\n      <td>22915</td>\n      <td>22919</td>\n      <td>22861</td>\n      <td>...</td>\n      <td>-5.527043</td>\n      <td>-5.068871</td>\n      <td>-6.201001</td>\n      <td>-0.177537</td>\n      <td>0.177258</td>\n      <td>-5.088389</td>\n      <td>-4.363636</td>\n      <td>-5.403729</td>\n      <td>0.754533</td>\n      <td>1.107861</td>\n    </tr>\n    <tr>\n      <th>5</th>\n      <td>50</td>\n      <td>3</td>\n      <td>6</td>\n      <td>1</td>\n      <td>9</td>\n      <td>Alabama</td>\n      <td>Blount County</td>\n      <td>57322</td>\n      <td>57322</td>\n      <td>57373</td>\n      <td>...</td>\n      <td>1.807375</td>\n      <td>-1.177622</td>\n      <td>-1.748766</td>\n      <td>-2.062535</td>\n      <td>-1.369970</td>\n      <td>1.859511</td>\n      <td>-0.848580</td>\n      <td>-1.402476</td>\n      <td>-1.577232</td>\n      <td>-0.884411</td>\n    </tr>\n    <tr>\n      <th>6</th>\n      <td>50</td>\n      <td>3</td>\n      <td>6</td>\n      <td>1</td>\n      <td>11</td>\n      <td>Alabama</td>\n      <td>Bullock County</td>\n      <td>10914</td>\n      <td>10915</td>\n      <td>10887</td>\n      <td>...</td>\n      <td>-30.953709</td>\n      <td>-5.180127</td>\n      <td>-1.130263</td>\n      <td>14.354290</td>\n      <td>-16.167247</td>\n      <td>-29.001673</td>\n      <td>-2.825524</td>\n      <td>1.507017</td>\n      <td>17.243790</td>\n      <td>-13.193961</td>\n    </tr>\n    <tr>\n      <th>7</th>\n      <td>50</td>\n      <td>3</td>\n      <td>6</td>\n      <td>1</td>\n      <td>13</td>\n      <td>Alabama</td>\n      <td>Butler County</td>\n      <td>20947</td>\n      <td>20946</td>\n      <td>20944</td>\n      <td>...</td>\n      <td>-14.032727</td>\n      <td>-11.684234</td>\n      <td>-5.655413</td>\n      <td>1.085428</td>\n      <td>-6.529805</td>\n      <td>-13.936612</td>\n      <td>-11.586865</td>\n      <td>-5.557058</td>\n      <td>1.184103</td>\n      <td>-6.430868</td>\n    </tr>\n    <tr>\n      <th>8</th>\n      <td>50</td>\n      <td>3</td>\n      <td>6</td>\n      <td>1</td>\n      <td>15</td>\n      <td>Alabama</td>\n      <td>Calhoun County</td>\n      <td>118572</td>\n      <td>118586</td>\n      <td>118437</td>\n      <td>...</td>\n      <td>-6.155670</td>\n      <td>-4.611706</td>\n      <td>-5.524649</td>\n      <td>-4.463211</td>\n      <td>-3.376322</td>\n      <td>-5.791579</td>\n      <td>-4.092677</td>\n      <td>-5.062836</td>\n      <td>-3.912834</td>\n      <td>-2.806406</td>\n    </tr>\n    <tr>\n      <th>9</th>\n      <td>50</td>\n      <td>3</td>\n      <td>6</td>\n      <td>1</td>\n      <td>17</td>\n      <td>Alabama</td>\n      <td>Chambers County</td>\n      <td>34215</td>\n      <td>34170</td>\n      <td>34098</td>\n      <td>...</td>\n      <td>-2.731639</td>\n      <td>3.849092</td>\n      <td>2.872721</td>\n      <td>-2.287222</td>\n      <td>1.349468</td>\n      <td>-1.821092</td>\n      <td>4.701181</td>\n      <td>3.781439</td>\n      <td>-1.290228</td>\n      <td>2.346901</td>\n    </tr>\n  </tbody>\n</table>\n<p>10 rows × 100 columns</p>\n</div>"
     },
     "metadata": {},
     "execution_count": 13
    }
   ],
   "source": [
    "# Part 2\n",
    "\n",
    "census_df = pd.read_csv(\"../Data Files/census.csv\")\n",
    "census_df.head(10)"
   ]
  },
  {
   "cell_type": "code",
   "execution_count": 14,
   "metadata": {
    "tags": []
   },
   "outputs": [
    {
     "output_type": "stream",
     "name": "stdout",
     "text": "Texas\n"
    }
   ],
   "source": [
    "# State yang memiliki paling banyak county\n",
    "\n",
    "sensus = census_df[census_df['SUMLEV'] != 40]\n",
    "\n",
    "stname = census_df['STNAME'].unique()\n",
    "\n",
    "penampung = []\n",
    "max_count = 0\n",
    "\n",
    "for state in stname:\n",
    "    count = 0\n",
    "\n",
    "    for data in sensus.values:\n",
    "        if data[5] == state:\n",
    "            count += 1\n",
    "    penampung.append([state, count])\n",
    "    \n",
    "    if count > max_count:\n",
    "        max_count = count\n",
    "\n",
    "for d in penampung:\n",
    "    if d[1] == max_count:\n",
    "        print(d[0])"
   ]
  },
  {
   "cell_type": "code",
   "execution_count": 15,
   "metadata": {
    "tags": []
   },
   "outputs": [
    {
     "output_type": "execute_result",
     "data": {
      "text/plain": "['California', 'Texas', 'Illinois']"
     },
     "metadata": {},
     "execution_count": 15
    }
   ],
   "source": [
    "# Menampilkan daftar 3 state paling banyak penduduk (berdasarkan CENSUS2010POP) dengan hanya menghitung 3 daftar teratas county dari masing masing state\n",
    "\n",
    "# VERSI 2 (YANG DIPAKAI)\n",
    "sensus = census_df[census_df['SUMLEV'] != 40]\n",
    "st_name = sensus['STNAME'].unique()\n",
    "\n",
    "sensus = sensus.sort_values(by=['STNAME', 'CENSUS2010POP'], ascending=False)\n",
    "sensus[['STNAME','CTYNAME','CENSUS2010POP']].values\n",
    "\n",
    "penampungan = []\n",
    "\n",
    "for st in st_name:\n",
    "    count = 0\n",
    "    summary = 0\n",
    "\n",
    "    for data in sensus[['STNAME','CTYNAME','CENSUS2010POP']].values:\n",
    "        if st == data[0]:\n",
    "            if count < 3:\n",
    "                summary += data[2]\n",
    "            count += 1\n",
    "    penampungan.append([st, summary])\n",
    "\n",
    "penampungan.sort(key=lambda x: x[1], reverse=True)\n",
    "penampungan = penampungan[:3]\n",
    "\n",
    "result = [d[0] for d in penampungan]\n",
    "result"
   ]
  },
  {
   "cell_type": "code",
   "execution_count": 30,
   "metadata": {
    "tags": []
   },
   "outputs": [
    {
     "output_type": "execute_result",
     "data": {
      "text/plain": "'Harris County'"
     },
     "metadata": {},
     "execution_count": 30
    }
   ],
   "source": [
    "# Menampilkan nama county dengan perubahan terbesar dalam jangka waktu 2010-2015\n",
    "\n",
    "sensus = census_df[census_df['SUMLEV'] != 40]\n",
    "sensus = sensus[['CTYNAME','POPESTIMATE2010','POPESTIMATE2011','POPESTIMATE2012','POPESTIMATE2013','POPESTIMATE2014','POPESTIMATE2015']]\n",
    "\n",
    "column_change = []\n",
    "\n",
    "for data in sensus.values:\n",
    "    change_count = max(data[1:]) - min(data[1:])\n",
    "    column_change.append([data[0], change_count])\n",
    "\n",
    "column_change.sort(key=lambda x: x[1], reverse=True)\n",
    "column_change[0][0]"
   ]
  },
  {
   "cell_type": "code",
   "execution_count": 62,
   "metadata": {},
   "outputs": [
    {
     "output_type": "execute_result",
     "data": {
      "text/plain": "            STNAME            CTYNAME\n896           Iowa  Washington County\n1419     Minnesota  Washington County\n2345  Pennsylvania  Washington County\n2355  Rhode Island  Washington County\n3163     Wisconsin  Washington County",
      "text/html": "<div>\n<style scoped>\n    .dataframe tbody tr th:only-of-type {\n        vertical-align: middle;\n    }\n\n    .dataframe tbody tr th {\n        vertical-align: top;\n    }\n\n    .dataframe thead th {\n        text-align: right;\n    }\n</style>\n<table border=\"1\" class=\"dataframe\">\n  <thead>\n    <tr style=\"text-align: right;\">\n      <th></th>\n      <th>STNAME</th>\n      <th>CTYNAME</th>\n    </tr>\n  </thead>\n  <tbody>\n    <tr>\n      <th>896</th>\n      <td>Iowa</td>\n      <td>Washington County</td>\n    </tr>\n    <tr>\n      <th>1419</th>\n      <td>Minnesota</td>\n      <td>Washington County</td>\n    </tr>\n    <tr>\n      <th>2345</th>\n      <td>Pennsylvania</td>\n      <td>Washington County</td>\n    </tr>\n    <tr>\n      <th>2355</th>\n      <td>Rhode Island</td>\n      <td>Washington County</td>\n    </tr>\n    <tr>\n      <th>3163</th>\n      <td>Wisconsin</td>\n      <td>Washington County</td>\n    </tr>\n  </tbody>\n</table>\n</div>"
     },
     "metadata": {},
     "execution_count": 62
    }
   ],
   "source": [
    "# Data di region 1 atau 2 dengan \"COUNTY\" diawali kata Washington dan populasi 2015 lebih dari populasi 2014\n",
    "\n",
    "sensus = census_df[census_df['SUMLEV'] != 40]\n",
    "region = sensus[(sensus['REGION'] == 1) | (sensus['REGION'] == 2)]\n",
    "\n",
    "washington = region[region['CTYNAME'].str.startswith('Washington')]\n",
    "lebih_dari = washington[washington['POPESTIMATE2015'] > washington['POPESTIMATE2014']]\n",
    "lebih_dari[['STNAME','CTYNAME']]"
   ]
  },
  {
   "cell_type": "code",
   "execution_count": 63,
   "metadata": {
    "tags": []
   },
   "outputs": [
    {
     "output_type": "stream",
     "name": "stdout",
     "text": "1\n"
    }
   ],
   "source": [
    "print(1)"
   ]
  }
 ]
}