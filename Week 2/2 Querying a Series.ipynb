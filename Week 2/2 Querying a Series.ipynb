{
 "metadata": {
  "language_info": {
   "codemirror_mode": {
    "name": "ipython",
    "version": 3
   },
   "file_extension": ".py",
   "mimetype": "text/x-python",
   "name": "python",
   "nbconvert_exporter": "python",
   "pygments_lexer": "ipython3",
   "version": 3
  },
  "orig_nbformat": 2,
  "kernelspec": {
   "name": "python_defaultSpec_1597036601401",
   "display_name": "Python 3.8.3 64-bit ('base': conda)"
  }
 },
 "nbformat": 4,
 "nbformat_minor": 2,
 "cells": [
  {
   "cell_type": "code",
   "execution_count": 1,
   "metadata": {},
   "outputs": [],
   "source": [
    "import pandas as pd\n",
    "\n",
    "sports = {\n",
    "    'Archer' : 'Bhutan',\n",
    "    'Golf' : 'Scotland',\n",
    "    'Sumo' : 'Japan',\n",
    "    'Taekwondo' : 'South Korea'\n",
    "}"
   ]
  },
  {
   "cell_type": "code",
   "execution_count": 3,
   "metadata": {},
   "outputs": [
    {
     "output_type": "execute_result",
     "data": {
      "text/plain": "Archer            Bhutan\nGolf            Scotland\nSumo               Japan\nTaekwondo    South Korea\ndtype: object"
     },
     "metadata": {},
     "execution_count": 3
    }
   ],
   "source": [
    "sportt = pd.Series(sports)\n",
    "sportt"
   ]
  },
  {
   "cell_type": "code",
   "execution_count": 5,
   "metadata": {},
   "outputs": [
    {
     "output_type": "execute_result",
     "data": {
      "text/plain": "'South Korea'"
     },
     "metadata": {},
     "execution_count": 5
    }
   ],
   "source": [
    "# Index data ke 3 (berdasar nomor)\n",
    "\n",
    "sportt.iloc[3]"
   ]
  },
  {
   "cell_type": "code",
   "execution_count": 7,
   "metadata": {},
   "outputs": [
    {
     "output_type": "execute_result",
     "data": {
      "text/plain": "'Japan'"
     },
     "metadata": {},
     "execution_count": 7
    }
   ],
   "source": [
    "# Index data di 'Sumo' berdasar nama index\n",
    "\n",
    "sportt.loc['Sumo']"
   ]
  },
  {
   "cell_type": "code",
   "execution_count": 8,
   "metadata": {},
   "outputs": [
    {
     "output_type": "execute_result",
     "data": {
      "text/plain": "'Scotland'"
     },
     "metadata": {},
     "execution_count": 8
    }
   ],
   "source": [
    "# Langsung gak pake loc atau iloc\n",
    "\n",
    "sportt[1]"
   ]
  },
  {
   "cell_type": "code",
   "execution_count": 9,
   "metadata": {},
   "outputs": [
    {
     "output_type": "execute_result",
     "data": {
      "text/plain": "'Scotland'"
     },
     "metadata": {},
     "execution_count": 9
    }
   ],
   "source": [
    "sportt['Golf']"
   ]
  },
  {
   "cell_type": "code",
   "execution_count": 18,
   "metadata": {},
   "outputs": [
    {
     "output_type": "execute_result",
     "data": {
      "text/plain": "4950"
     },
     "metadata": {},
     "execution_count": 18
    }
   ],
   "source": [
    "# Membuat  dan iterasi datafram\n",
    "\n",
    "df_nya = [i for i in range(100)]\n",
    "\n",
    "count = 0\n",
    "jumlah = 0\n",
    "\n",
    "for data in df_nya:\n",
    "    count += 1\n",
    "    jumlah += data\n",
    "\n",
    "jumlah"
   ]
  },
  {
   "cell_type": "code",
   "execution_count": 15,
   "metadata": {},
   "outputs": [
    {
     "output_type": "execute_result",
     "data": {
      "text/plain": "4950"
     },
     "metadata": {},
     "execution_count": 15
    }
   ],
   "source": [
    "sum(df_nya)"
   ]
  },
  {
   "cell_type": "code",
   "execution_count": 32,
   "metadata": {},
   "outputs": [
    {
     "output_type": "execute_result",
     "data": {
      "text/plain": "0    357\n1     15\n2    405\n3    277\n4    429\ndtype: int32"
     },
     "metadata": {},
     "execution_count": 32
    }
   ],
   "source": [
    "# Membuat 1000 angka random antara 1-500\n",
    "\n",
    "import numpy as np \n",
    "\n",
    "angka = pd.Series(np.random.randint(1,500,1000))\n",
    "angka.head(5)"
   ]
  },
  {
   "cell_type": "code",
   "execution_count": 37,
   "metadata": {},
   "outputs": [],
   "source": [
    "# Mencoba menghitung waktu\n",
    "# Membandingkan SUM dengan for vs SUM dengan function di numpy\n",
    "\n",
    "import time"
   ]
  },
  {
   "cell_type": "code",
   "execution_count": 45,
   "metadata": {
    "tags": []
   },
   "outputs": [
    {
     "output_type": "stream",
     "name": "stdout",
     "text": "247902 dalam waktu 0.0010006427764892578 s\n"
    }
   ],
   "source": [
    "# Dengan for\n",
    "\n",
    "# %%timeit -n 100 # waktu yang dibutuhkan untuk menghitung 100 iterasi\n",
    "\n",
    "summary = 0\n",
    "\n",
    "start_time = time.time()\n",
    "\n",
    "for data in angka:\n",
    "    summary += data\n",
    "\n",
    "end_time = time.time()\n",
    "\n",
    "print(summary,'dalam waktu', end_time-start_time, 's')"
   ]
  },
  {
   "cell_type": "code",
   "execution_count": 46,
   "metadata": {
    "tags": []
   },
   "outputs": [
    {
     "output_type": "stream",
     "name": "stdout",
     "text": "247902 dalam waktu 0.0 s\n"
    }
   ],
   "source": [
    "# dengan function nya numpy\n",
    "\n",
    "# %%timeit -n 100\n",
    "\n",
    "start_time = time.time()\n",
    "\n",
    "summary = np.sum(angka)\n",
    "\n",
    "end_time = time.time()\n",
    "\n",
    "print(summary,'dalam waktu', end_time-start_time, 's')"
   ]
  },
  {
   "cell_type": "code",
   "execution_count": 60,
   "metadata": {},
   "outputs": [
    {
     "output_type": "execute_result",
     "data": {
      "text/plain": "0    497\n1    155\n2    545\n3    417\n4    569\ndtype: int32"
     },
     "metadata": {},
     "execution_count": 60
    }
   ],
   "source": [
    "# menambah setiap angka dengan angka 11\n",
    "\n",
    "angka += 11\n",
    "angka.head()"
   ]
  },
  {
   "cell_type": "code",
   "execution_count": null,
   "metadata": {},
   "outputs": [],
   "source": []
  },
  {
   "cell_type": "code",
   "execution_count": null,
   "metadata": {},
   "outputs": [],
   "source": []
  }
 ]
}