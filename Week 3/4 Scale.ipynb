{
 "metadata": {
  "language_info": {
   "codemirror_mode": {
    "name": "ipython",
    "version": 3
   },
   "file_extension": ".py",
   "mimetype": "text/x-python",
   "name": "python",
   "nbconvert_exporter": "python",
   "pygments_lexer": "ipython3",
   "version": "3.8.3-final"
  },
  "orig_nbformat": 2,
  "kernelspec": {
   "name": "python_defaultSpec_1597893566650",
   "display_name": "Python 3.8.3 64-bit ('base': conda)"
  }
 },
 "nbformat": 4,
 "nbformat_minor": 2,
 "cells": [
  {
   "cell_type": "code",
   "execution_count": 41,
   "metadata": {},
   "outputs": [
    {
     "output_type": "execute_result",
     "data": {
      "text/plain": "          Grades\nexcellent     A+\nexcellent      A\nexcellent     A-\ngood          B+\ngood           B\ngood          B-\nok            C+\nok             C\nok            C-\npoor          D+\npoor           D",
      "text/html": "<div>\n<style scoped>\n    .dataframe tbody tr th:only-of-type {\n        vertical-align: middle;\n    }\n\n    .dataframe tbody tr th {\n        vertical-align: top;\n    }\n\n    .dataframe thead th {\n        text-align: right;\n    }\n</style>\n<table border=\"1\" class=\"dataframe\">\n  <thead>\n    <tr style=\"text-align: right;\">\n      <th></th>\n      <th>Grades</th>\n    </tr>\n  </thead>\n  <tbody>\n    <tr>\n      <th>excellent</th>\n      <td>A+</td>\n    </tr>\n    <tr>\n      <th>excellent</th>\n      <td>A</td>\n    </tr>\n    <tr>\n      <th>excellent</th>\n      <td>A-</td>\n    </tr>\n    <tr>\n      <th>good</th>\n      <td>B+</td>\n    </tr>\n    <tr>\n      <th>good</th>\n      <td>B</td>\n    </tr>\n    <tr>\n      <th>good</th>\n      <td>B-</td>\n    </tr>\n    <tr>\n      <th>ok</th>\n      <td>C+</td>\n    </tr>\n    <tr>\n      <th>ok</th>\n      <td>C</td>\n    </tr>\n    <tr>\n      <th>ok</th>\n      <td>C-</td>\n    </tr>\n    <tr>\n      <th>poor</th>\n      <td>D+</td>\n    </tr>\n    <tr>\n      <th>poor</th>\n      <td>D</td>\n    </tr>\n  </tbody>\n</table>\n</div>"
     },
     "metadata": {},
     "execution_count": 41
    }
   ],
   "source": [
    "# Buat dataframe nilai\n",
    "\n",
    "import pandas as pd\n",
    "df = pd.DataFrame(\n",
    "    ['A+', 'A', 'A-', 'B+', 'B', 'B-', 'C+', 'C', 'C-', 'D+', 'D'],\n",
    "    index=['excellent', 'excellent', 'excellent', 'good', 'good', 'good', 'ok', 'ok', 'ok', 'poor', 'poor']\n",
    "    )\n",
    "df.rename(columns={0:'Grades'}, inplace=True)\n",
    "df"
   ]
  },
  {
   "cell_type": "code",
   "execution_count": 42,
   "metadata": {},
   "outputs": [
    {
     "output_type": "execute_result",
     "data": {
      "text/plain": "excellent    A+\nexcellent     A\nexcellent    A-\ngood         B+\ngood          B\ngood         B-\nok           C+\nok            C\nok           C-\npoor         D+\npoor          D\nName: Grades, dtype: category\nCategories (11, object): [A, A+, A-, B, ..., C+, C-, D, D+]"
     },
     "metadata": {},
     "execution_count": 42
    }
   ],
   "source": [
    "# Buat menjadi data ketegorikal\n",
    "\n",
    "df['Grades'].astype('category')"
   ]
  },
  {
   "cell_type": "code",
   "execution_count": 57,
   "metadata": {},
   "outputs": [
    {
     "output_type": "execute_result",
     "data": {
      "text/plain": "STNAME\nAlabama                 Small\nAlaska                  Small\nArizona                 Large\nArkansas                Small\nCalifornia              Large\nColorado                Small\nConnecticut             Large\nDelaware                Small\nDistrict of Columbia    Large\nFlorida                 Small\nGeorgia                 Small\nHawaii                  Small\nIdaho                   Small\nIllinois                Small\nIndiana                 Small\nIowa                    Small\nKansas                  Small\nKentucky                Small\nLouisiana               Small\nMaine                   Small\nMaryland                Small\nMassachusetts           Large\nMichigan                Small\nMinnesota               Small\nMississippi             Small\nMissouri                Small\nMontana                 Small\nNebraska                Small\nNevada                  Small\nNew Hampshire           Small\nNew Jersey              Large\nNew Mexico              Small\nNew York                Small\nNorth Carolina          Small\nNorth Dakota            Small\nOhio                    Small\nOklahoma                Small\nOregon                  Small\nPennsylvania            Small\nRhode Island            Small\nSouth Carolina          Small\nSouth Dakota            Small\nTennessee               Small\nTexas                   Small\nUtah                    Small\nVermont                 Small\nVirginia                Small\nWashington              Small\nWest Virginia           Small\nWisconsin               Small\nWyoming                 Small\nName: CENSUS2010POP, dtype: category\nCategories (2, object): [Small < Large]"
     },
     "metadata": {},
     "execution_count": 57
    }
   ],
   "source": [
    "# Membagi data bangak menjadi kategori\n",
    "import numpy as np\n",
    "\n",
    "df = pd.read_csv('../Data Files/census.csv')\n",
    "df = df[df['SUMLEV'] == 50]\n",
    "df = df.set_index('STNAME').groupby(level=0).agg({'CENSUS2010POP' : np.average})\n",
    "pd.cut(df['CENSUS2010POP'], 2, labels=['Small', 'Large'])"
   ]
  },
  {
   "cell_type": "code",
   "execution_count": 53,
   "metadata": {
    "tags": []
   },
   "outputs": [
    {
     "output_type": "stream",
     "name": "stdout",
     "text": "k\n"
    }
   ],
   "source": [
    "print('k')"
   ]
  },
  {
   "cell_type": "code",
   "execution_count": null,
   "metadata": {},
   "outputs": [],
   "source": []
  }
 ]
}