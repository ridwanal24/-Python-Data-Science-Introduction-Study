{
 "metadata": {
  "language_info": {
   "codemirror_mode": {
    "name": "ipython",
    "version": 3
   },
   "file_extension": ".py",
   "mimetype": "text/x-python",
   "name": "python",
   "nbconvert_exporter": "python",
   "pygments_lexer": "ipython3",
   "version": 3
  },
  "orig_nbformat": 2,
  "kernelspec": {
   "name": "python_defaultSpec_1597761161079",
   "display_name": "Python 3.8.3 64-bit ('base': conda)"
  }
 },
 "nbformat": 4,
 "nbformat_minor": 2,
 "cells": [
  {
   "cell_type": "code",
   "execution_count": 13,
   "metadata": {},
   "outputs": [
    {
     "output_type": "execute_result",
     "data": {
      "text/plain": "      SUMLEV  REGION  DIVISION  STATE  COUNTY   STNAME            CTYNAME  \\\n1         50       3         6      1       1  Alabama     Autauga County   \n2         50       3         6      1       3  Alabama     Baldwin County   \n3         50       3         6      1       5  Alabama     Barbour County   \n4         50       3         6      1       7  Alabama        Bibb County   \n5         50       3         6      1       9  Alabama      Blount County   \n...      ...     ...       ...    ...     ...      ...                ...   \n3188      50       4         8     56      37  Wyoming  Sweetwater County   \n3189      50       4         8     56      39  Wyoming       Teton County   \n3190      50       4         8     56      41  Wyoming       Uinta County   \n3191      50       4         8     56      43  Wyoming    Washakie County   \n3192      50       4         8     56      45  Wyoming      Weston County   \n\n      CENSUS2010POP  ESTIMATESBASE2010  POPESTIMATE2010  ...  \\\n1             54571              54571            54660  ...   \n2            182265             182265           183193  ...   \n3             27457              27457            27341  ...   \n4             22915              22919            22861  ...   \n5             57322              57322            57373  ...   \n...             ...                ...              ...  ...   \n3188          43806              43806            43593  ...   \n3189          21294              21294            21297  ...   \n3190          21118              21118            21102  ...   \n3191           8533               8533             8545  ...   \n3192           7208               7208             7181  ...   \n\n      RDOMESTICMIG2011  RDOMESTICMIG2012  RDOMESTICMIG2013  RDOMESTICMIG2014  \\\n1             7.242091         -2.915927         -3.012349          2.265971   \n2            14.832960         17.647293         21.845705         19.243287   \n3            -4.728132         -2.500690         -7.056824         -3.904217   \n4            -5.527043         -5.068871         -6.201001         -0.177537   \n5             1.807375         -1.177622         -1.748766         -2.062535   \n...                ...               ...               ...               ...   \n3188          1.072643         16.243199         -5.339774        -14.252889   \n3189         -1.589565          0.972695         19.525929         14.143021   \n3190        -17.755986         -4.916350         -6.902954        -14.215862   \n3191        -11.637475         -0.827815         -2.013502        -17.781491   \n3192        -11.752361         -8.040059         12.372583          1.533635   \n\n      RDOMESTICMIG2015  RNETMIG2011  RNETMIG2012  RNETMIG2013  RNETMIG2014  \\\n1            -2.530799     7.606016    -2.626146    -2.722002     2.592270   \n2            17.197872    15.844176    18.559627    22.727626    20.317142   \n3           -10.543299    -4.874741    -2.758113    -7.167664    -3.978583   \n4             0.177258    -5.088389    -4.363636    -5.403729     0.754533   \n5            -1.369970     1.859511    -0.848580    -1.402476    -1.577232   \n...                ...          ...          ...          ...          ...   \n3188        -14.248864     1.255221    16.243199    -5.295460   -14.075283   \n3189         -0.564849     0.654527     2.408578    21.160658    16.308671   \n3190        -12.127022   -18.136812    -5.536861    -7.521840   -14.740608   \n3191          1.682288   -11.990126    -1.182592    -2.250385   -18.020168   \n3192          6.935294   -12.032179    -8.040059    12.372583     1.533635   \n\n      RNETMIG2015  \n1       -2.187333  \n2       18.293499  \n3      -10.543299  \n4        1.107861  \n5       -0.884411  \n...           ...  \n3188   -14.070195  \n3189     1.520747  \n3190   -12.606351  \n3191     1.441961  \n3192     6.935294  \n\n[3142 rows x 100 columns]",
      "text/html": "<div>\n<style scoped>\n    .dataframe tbody tr th:only-of-type {\n        vertical-align: middle;\n    }\n\n    .dataframe tbody tr th {\n        vertical-align: top;\n    }\n\n    .dataframe thead th {\n        text-align: right;\n    }\n</style>\n<table border=\"1\" class=\"dataframe\">\n  <thead>\n    <tr style=\"text-align: right;\">\n      <th></th>\n      <th>SUMLEV</th>\n      <th>REGION</th>\n      <th>DIVISION</th>\n      <th>STATE</th>\n      <th>COUNTY</th>\n      <th>STNAME</th>\n      <th>CTYNAME</th>\n      <th>CENSUS2010POP</th>\n      <th>ESTIMATESBASE2010</th>\n      <th>POPESTIMATE2010</th>\n      <th>...</th>\n      <th>RDOMESTICMIG2011</th>\n      <th>RDOMESTICMIG2012</th>\n      <th>RDOMESTICMIG2013</th>\n      <th>RDOMESTICMIG2014</th>\n      <th>RDOMESTICMIG2015</th>\n      <th>RNETMIG2011</th>\n      <th>RNETMIG2012</th>\n      <th>RNETMIG2013</th>\n      <th>RNETMIG2014</th>\n      <th>RNETMIG2015</th>\n    </tr>\n  </thead>\n  <tbody>\n    <tr>\n      <th>1</th>\n      <td>50</td>\n      <td>3</td>\n      <td>6</td>\n      <td>1</td>\n      <td>1</td>\n      <td>Alabama</td>\n      <td>Autauga County</td>\n      <td>54571</td>\n      <td>54571</td>\n      <td>54660</td>\n      <td>...</td>\n      <td>7.242091</td>\n      <td>-2.915927</td>\n      <td>-3.012349</td>\n      <td>2.265971</td>\n      <td>-2.530799</td>\n      <td>7.606016</td>\n      <td>-2.626146</td>\n      <td>-2.722002</td>\n      <td>2.592270</td>\n      <td>-2.187333</td>\n    </tr>\n    <tr>\n      <th>2</th>\n      <td>50</td>\n      <td>3</td>\n      <td>6</td>\n      <td>1</td>\n      <td>3</td>\n      <td>Alabama</td>\n      <td>Baldwin County</td>\n      <td>182265</td>\n      <td>182265</td>\n      <td>183193</td>\n      <td>...</td>\n      <td>14.832960</td>\n      <td>17.647293</td>\n      <td>21.845705</td>\n      <td>19.243287</td>\n      <td>17.197872</td>\n      <td>15.844176</td>\n      <td>18.559627</td>\n      <td>22.727626</td>\n      <td>20.317142</td>\n      <td>18.293499</td>\n    </tr>\n    <tr>\n      <th>3</th>\n      <td>50</td>\n      <td>3</td>\n      <td>6</td>\n      <td>1</td>\n      <td>5</td>\n      <td>Alabama</td>\n      <td>Barbour County</td>\n      <td>27457</td>\n      <td>27457</td>\n      <td>27341</td>\n      <td>...</td>\n      <td>-4.728132</td>\n      <td>-2.500690</td>\n      <td>-7.056824</td>\n      <td>-3.904217</td>\n      <td>-10.543299</td>\n      <td>-4.874741</td>\n      <td>-2.758113</td>\n      <td>-7.167664</td>\n      <td>-3.978583</td>\n      <td>-10.543299</td>\n    </tr>\n    <tr>\n      <th>4</th>\n      <td>50</td>\n      <td>3</td>\n      <td>6</td>\n      <td>1</td>\n      <td>7</td>\n      <td>Alabama</td>\n      <td>Bibb County</td>\n      <td>22915</td>\n      <td>22919</td>\n      <td>22861</td>\n      <td>...</td>\n      <td>-5.527043</td>\n      <td>-5.068871</td>\n      <td>-6.201001</td>\n      <td>-0.177537</td>\n      <td>0.177258</td>\n      <td>-5.088389</td>\n      <td>-4.363636</td>\n      <td>-5.403729</td>\n      <td>0.754533</td>\n      <td>1.107861</td>\n    </tr>\n    <tr>\n      <th>5</th>\n      <td>50</td>\n      <td>3</td>\n      <td>6</td>\n      <td>1</td>\n      <td>9</td>\n      <td>Alabama</td>\n      <td>Blount County</td>\n      <td>57322</td>\n      <td>57322</td>\n      <td>57373</td>\n      <td>...</td>\n      <td>1.807375</td>\n      <td>-1.177622</td>\n      <td>-1.748766</td>\n      <td>-2.062535</td>\n      <td>-1.369970</td>\n      <td>1.859511</td>\n      <td>-0.848580</td>\n      <td>-1.402476</td>\n      <td>-1.577232</td>\n      <td>-0.884411</td>\n    </tr>\n    <tr>\n      <th>...</th>\n      <td>...</td>\n      <td>...</td>\n      <td>...</td>\n      <td>...</td>\n      <td>...</td>\n      <td>...</td>\n      <td>...</td>\n      <td>...</td>\n      <td>...</td>\n      <td>...</td>\n      <td>...</td>\n      <td>...</td>\n      <td>...</td>\n      <td>...</td>\n      <td>...</td>\n      <td>...</td>\n      <td>...</td>\n      <td>...</td>\n      <td>...</td>\n      <td>...</td>\n      <td>...</td>\n    </tr>\n    <tr>\n      <th>3188</th>\n      <td>50</td>\n      <td>4</td>\n      <td>8</td>\n      <td>56</td>\n      <td>37</td>\n      <td>Wyoming</td>\n      <td>Sweetwater County</td>\n      <td>43806</td>\n      <td>43806</td>\n      <td>43593</td>\n      <td>...</td>\n      <td>1.072643</td>\n      <td>16.243199</td>\n      <td>-5.339774</td>\n      <td>-14.252889</td>\n      <td>-14.248864</td>\n      <td>1.255221</td>\n      <td>16.243199</td>\n      <td>-5.295460</td>\n      <td>-14.075283</td>\n      <td>-14.070195</td>\n    </tr>\n    <tr>\n      <th>3189</th>\n      <td>50</td>\n      <td>4</td>\n      <td>8</td>\n      <td>56</td>\n      <td>39</td>\n      <td>Wyoming</td>\n      <td>Teton County</td>\n      <td>21294</td>\n      <td>21294</td>\n      <td>21297</td>\n      <td>...</td>\n      <td>-1.589565</td>\n      <td>0.972695</td>\n      <td>19.525929</td>\n      <td>14.143021</td>\n      <td>-0.564849</td>\n      <td>0.654527</td>\n      <td>2.408578</td>\n      <td>21.160658</td>\n      <td>16.308671</td>\n      <td>1.520747</td>\n    </tr>\n    <tr>\n      <th>3190</th>\n      <td>50</td>\n      <td>4</td>\n      <td>8</td>\n      <td>56</td>\n      <td>41</td>\n      <td>Wyoming</td>\n      <td>Uinta County</td>\n      <td>21118</td>\n      <td>21118</td>\n      <td>21102</td>\n      <td>...</td>\n      <td>-17.755986</td>\n      <td>-4.916350</td>\n      <td>-6.902954</td>\n      <td>-14.215862</td>\n      <td>-12.127022</td>\n      <td>-18.136812</td>\n      <td>-5.536861</td>\n      <td>-7.521840</td>\n      <td>-14.740608</td>\n      <td>-12.606351</td>\n    </tr>\n    <tr>\n      <th>3191</th>\n      <td>50</td>\n      <td>4</td>\n      <td>8</td>\n      <td>56</td>\n      <td>43</td>\n      <td>Wyoming</td>\n      <td>Washakie County</td>\n      <td>8533</td>\n      <td>8533</td>\n      <td>8545</td>\n      <td>...</td>\n      <td>-11.637475</td>\n      <td>-0.827815</td>\n      <td>-2.013502</td>\n      <td>-17.781491</td>\n      <td>1.682288</td>\n      <td>-11.990126</td>\n      <td>-1.182592</td>\n      <td>-2.250385</td>\n      <td>-18.020168</td>\n      <td>1.441961</td>\n    </tr>\n    <tr>\n      <th>3192</th>\n      <td>50</td>\n      <td>4</td>\n      <td>8</td>\n      <td>56</td>\n      <td>45</td>\n      <td>Wyoming</td>\n      <td>Weston County</td>\n      <td>7208</td>\n      <td>7208</td>\n      <td>7181</td>\n      <td>...</td>\n      <td>-11.752361</td>\n      <td>-8.040059</td>\n      <td>12.372583</td>\n      <td>1.533635</td>\n      <td>6.935294</td>\n      <td>-12.032179</td>\n      <td>-8.040059</td>\n      <td>12.372583</td>\n      <td>1.533635</td>\n      <td>6.935294</td>\n    </tr>\n  </tbody>\n</table>\n<p>3142 rows × 100 columns</p>\n</div>"
     },
     "metadata": {},
     "execution_count": 13
    }
   ],
   "source": [
    "import pandas as pd\n",
    "import numpy as np\n",
    "\n",
    "df = pd.read_csv('../Data Files/census.csv')\n",
    "df = df[df['SUMLEV'] == 50]\n",
    "df"
   ]
  },
  {
   "cell_type": "code",
   "execution_count": 14,
   "metadata": {
    "tags": []
   },
   "outputs": [
    {
     "output_type": "stream",
     "name": "stdout",
     "text": "STATE : Alabama AVERAGE: 71339.34328358209\nSTATE : Alaska AVERAGE: 24490.724137931036\nSTATE : Arizona AVERAGE: 426134.4666666667\nSTATE : Arkansas AVERAGE: 38878.90666666667\nSTATE : California AVERAGE: 642309.5862068966\nSTATE : Colorado AVERAGE: 78581.1875\nSTATE : Connecticut AVERAGE: 446762.125\nSTATE : Delaware AVERAGE: 299311.3333333333\nSTATE : District of Columbia AVERAGE: 601723.0\nSTATE : Florida AVERAGE: 280616.5671641791\nSTATE : Georgia AVERAGE: 60928.63522012578\nSTATE : Hawaii AVERAGE: 272060.2\nSTATE : Idaho AVERAGE: 35626.86363636364\nSTATE : Illinois AVERAGE: 125790.50980392157\nSTATE : Indiana AVERAGE: 70476.10869565218\nSTATE : Iowa AVERAGE: 30771.262626262625\nSTATE : Kansas AVERAGE: 27172.55238095238\nSTATE : Kentucky AVERAGE: 36161.39166666667\nSTATE : Louisiana AVERAGE: 70833.9375\nSTATE : Maine AVERAGE: 83022.5625\nSTATE : Maryland AVERAGE: 240564.66666666666\nSTATE : Massachusetts AVERAGE: 467687.78571428574\nSTATE : Michigan AVERAGE: 119080.0\nSTATE : Minnesota AVERAGE: 60964.65517241379\nSTATE : Mississippi AVERAGE: 36186.54878048781\nSTATE : Missouri AVERAGE: 52077.62608695652\nSTATE : Montana AVERAGE: 17668.125\nSTATE : Nebraska AVERAGE: 19638.075268817203\nSTATE : Nevada AVERAGE: 158855.9411764706\nSTATE : New Hampshire AVERAGE: 131647.0\nSTATE : New Jersey AVERAGE: 418661.61904761905\nSTATE : New Mexico AVERAGE: 62399.36363636364\nSTATE : New York AVERAGE: 312550.03225806454\nSTATE : North Carolina AVERAGE: 95354.83\nSTATE : North Dakota AVERAGE: 12690.396226415094\nSTATE : Ohio AVERAGE: 131096.63636363635\nSTATE : Oklahoma AVERAGE: 48718.844155844155\nSTATE : Oregon AVERAGE: 106418.72222222222\nSTATE : Pennsylvania AVERAGE: 189587.74626865672\nSTATE : Rhode Island AVERAGE: 210513.4\nSTATE : South Carolina AVERAGE: 100551.39130434782\nSTATE : South Dakota AVERAGE: 12336.060606060606\nSTATE : Tennessee AVERAGE: 66801.1052631579\nSTATE : Texas AVERAGE: 98998.27165354331\nSTATE : Utah AVERAGE: 95306.37931034483\nSTATE : Vermont AVERAGE: 44695.78571428572\nSTATE :Virginia AVERAGE: 60111.29323308271\nSTATE : Washington AVERAGE: 172424.10256410256\nSTATE : West Virginia AVERAGE: 33690.8\nSTATE : Wisconsin AVERAGE: 78985.91666666667\nSTATE : Wyoming AVERAGE: 24505.478260869564\n"
    }
   ],
   "source": [
    "# Mencari rata-rata jumlah penduduk setiap county di masing-masing state\n",
    "\n",
    "# Memakai cara loop\n",
    "\n",
    "for state in df['STNAME'].unique():\n",
    "    avg = np.average(df.where(df['STNAME'] == state).dropna()['CENSUS2010POP'])\n",
    "    print('STATE :', state, 'AVERAGE:', str(avg))"
   ]
  },
  {
   "cell_type": "code",
   "execution_count": 15,
   "metadata": {},
   "outputs": [
    {
     "output_type": "execute_result",
     "data": {
      "text/plain": "71339.34328358209"
     },
     "metadata": {},
     "execution_count": 15
    }
   ],
   "source": [
    "# Hanya mencari pemahaman\n",
    "\n",
    "np.average(df.where(df['STNAME'] == 'Alabama').dropna()['CENSUS2010POP'])"
   ]
  },
  {
   "cell_type": "code",
   "execution_count": 16,
   "metadata": {
    "tags": []
   },
   "outputs": [
    {
     "output_type": "stream",
     "name": "stdout",
     "text": "STATE : Alabama AVERAGE: 71339.34328358209\nSTATE : Alaska AVERAGE: 24490.724137931036\nSTATE : Arizona AVERAGE: 426134.4666666667\nSTATE : Arkansas AVERAGE: 38878.90666666667\nSTATE : California AVERAGE: 642309.5862068966\nSTATE : Colorado AVERAGE: 78581.1875\nSTATE : Connecticut AVERAGE: 446762.125\nSTATE : Delaware AVERAGE: 299311.3333333333\nSTATE : District of Columbia AVERAGE: 601723.0\nSTATE : Florida AVERAGE: 280616.5671641791\nSTATE : Georgia AVERAGE: 60928.63522012578\nSTATE : Hawaii AVERAGE: 272060.2\nSTATE : Idaho AVERAGE: 35626.86363636364\nSTATE : Illinois AVERAGE: 125790.50980392157\nSTATE : Indiana AVERAGE: 70476.10869565218\nSTATE : Iowa AVERAGE: 30771.262626262625\nSTATE : Kansas AVERAGE: 27172.55238095238\nSTATE : Kentucky AVERAGE: 36161.39166666667\nSTATE : Louisiana AVERAGE: 70833.9375\nSTATE : Maine AVERAGE: 83022.5625\nSTATE : Maryland AVERAGE: 240564.66666666666\nSTATE : Massachusetts AVERAGE: 467687.78571428574\nSTATE : Michigan AVERAGE: 119080.0\nSTATE : Minnesota AVERAGE: 60964.65517241379\nSTATE : Mississippi AVERAGE: 36186.54878048781\nSTATE : Missouri AVERAGE: 52077.62608695652\nSTATE : Montana AVERAGE: 17668.125\nSTATE : Nebraska AVERAGE: 19638.075268817203\nSTATE : Nevada AVERAGE: 158855.9411764706\nSTATE : New Hampshire AVERAGE: 131647.0\nSTATE : New Jersey AVERAGE: 418661.61904761905\nSTATE : New Mexico AVERAGE: 62399.36363636364\nSTATE : New York AVERAGE: 312550.03225806454\nSTATE : North Carolina AVERAGE: 95354.83\nSTATE : North Dakota AVERAGE: 12690.396226415094\nSTATE : Ohio AVERAGE: 131096.63636363635\nSTATE : Oklahoma AVERAGE: 48718.844155844155\nSTATE : Oregon AVERAGE: 106418.72222222222\nSTATE : Pennsylvania AVERAGE: 189587.74626865672\nSTATE : Rhode Island AVERAGE: 210513.4\nSTATE : South Carolina AVERAGE: 100551.39130434782\nSTATE : South Dakota AVERAGE: 12336.060606060606\nSTATE : Tennessee AVERAGE: 66801.1052631579\nSTATE : Texas AVERAGE: 98998.27165354331\nSTATE : Utah AVERAGE: 95306.37931034483\nSTATE : Vermont AVERAGE: 44695.78571428572\nSTATE : Virginia AVERAGE: 60111.29323308271\nSTATE : Washington AVERAGE: 172424.10256410256\nSTATE : West Virginia AVERAGE: 33690.8\nSTATE : Wisconsin AVERAGE: 78985.91666666667\nSTATE : Wyoming AVERAGE: 24505.478260869564\n"
    }
   ],
   "source": [
    "# Menggunakan group by\n",
    "\n",
    "for group, frame in df.groupby('STNAME'):\n",
    "    avg = np.average(frame['CENSUS2010POP'])\n",
    "    print('STATE :', group, 'AVERAGE:', str(avg))"
   ]
  },
  {
   "cell_type": "code",
   "execution_count": 17,
   "metadata": {
    "tags": []
   },
   "outputs": [
    {
     "output_type": "stream",
     "name": "stdout",
     "text": "There are 1177 records in group 0 for processing\nThere are 1134 records in group 1 for processing\nThere are 831 records in group 2 for processing\n"
    }
   ],
   "source": [
    "# Membagi group berdasar huruf pertama dari nama state\n",
    "\n",
    "df = df.set_index('STNAME')\n",
    "\n",
    "def fun(item):\n",
    "    if item[0] < 'M':\n",
    "        return 0\n",
    "    if item[0] < 'Q':\n",
    "        return 1\n",
    "    else:\n",
    "        return 2\n",
    "\n",
    "for group, frame in df.groupby(fun):\n",
    "    print('There are',str(len(frame)),'records in group',str(group), 'for processing')"
   ]
  },
  {
   "cell_type": "code",
   "execution_count": 27,
   "metadata": {
    "tags": []
   },
   "outputs": [
    {
     "output_type": "execute_result",
     "data": {
      "text/plain": "                      CENSUS2010POP\nSTNAME                             \nAlabama                71339.343284\nAlaska                 24490.724138\nArizona               426134.466667\nArkansas               38878.906667\nCalifornia            642309.586207\nColorado               78581.187500\nConnecticut           446762.125000\nDelaware              299311.333333\nDistrict of Columbia  601723.000000\nFlorida               280616.567164\nGeorgia                60928.635220\nHawaii                272060.200000\nIdaho                  35626.863636\nIllinois              125790.509804\nIndiana                70476.108696\nIowa                   30771.262626\nKansas                 27172.552381\nKentucky               36161.391667\nLouisiana              70833.937500\nMaine                  83022.562500\nMaryland              240564.666667\nMassachusetts         467687.785714\nMichigan              119080.000000\nMinnesota              60964.655172\nMississippi            36186.548780\nMissouri               52077.626087\nMontana                17668.125000\nNebraska               19638.075269\nNevada                158855.941176\nNew Hampshire         131647.000000\nNew Jersey            418661.619048\nNew Mexico             62399.363636\nNew York              312550.032258\nNorth Carolina         95354.830000\nNorth Dakota           12690.396226\nOhio                  131096.636364\nOklahoma               48718.844156\nOregon                106418.722222\nPennsylvania          189587.746269\nRhode Island          210513.400000\nSouth Carolina        100551.391304\nSouth Dakota           12336.060606\nTennessee              66801.105263\nTexas                  98998.271654\nUtah                   95306.379310\nVermont                44695.785714\nVirginia               60111.293233\nWashington            172424.102564\nWest Virginia          33690.800000\nWisconsin              78985.916667\nWyoming                24505.478261",
      "text/html": "<div>\n<style scoped>\n    .dataframe tbody tr th:only-of-type {\n        vertical-align: middle;\n    }\n\n    .dataframe tbody tr th {\n        vertical-align: top;\n    }\n\n    .dataframe thead th {\n        text-align: right;\n    }\n</style>\n<table border=\"1\" class=\"dataframe\">\n  <thead>\n    <tr style=\"text-align: right;\">\n      <th></th>\n      <th>CENSUS2010POP</th>\n    </tr>\n    <tr>\n      <th>STNAME</th>\n      <th></th>\n    </tr>\n  </thead>\n  <tbody>\n    <tr>\n      <th>Alabama</th>\n      <td>71339.343284</td>\n    </tr>\n    <tr>\n      <th>Alaska</th>\n      <td>24490.724138</td>\n    </tr>\n    <tr>\n      <th>Arizona</th>\n      <td>426134.466667</td>\n    </tr>\n    <tr>\n      <th>Arkansas</th>\n      <td>38878.906667</td>\n    </tr>\n    <tr>\n      <th>California</th>\n      <td>642309.586207</td>\n    </tr>\n    <tr>\n      <th>Colorado</th>\n      <td>78581.187500</td>\n    </tr>\n    <tr>\n      <th>Connecticut</th>\n      <td>446762.125000</td>\n    </tr>\n    <tr>\n      <th>Delaware</th>\n      <td>299311.333333</td>\n    </tr>\n    <tr>\n      <th>District of Columbia</th>\n      <td>601723.000000</td>\n    </tr>\n    <tr>\n      <th>Florida</th>\n      <td>280616.567164</td>\n    </tr>\n    <tr>\n      <th>Georgia</th>\n      <td>60928.635220</td>\n    </tr>\n    <tr>\n      <th>Hawaii</th>\n      <td>272060.200000</td>\n    </tr>\n    <tr>\n      <th>Idaho</th>\n      <td>35626.863636</td>\n    </tr>\n    <tr>\n      <th>Illinois</th>\n      <td>125790.509804</td>\n    </tr>\n    <tr>\n      <th>Indiana</th>\n      <td>70476.108696</td>\n    </tr>\n    <tr>\n      <th>Iowa</th>\n      <td>30771.262626</td>\n    </tr>\n    <tr>\n      <th>Kansas</th>\n      <td>27172.552381</td>\n    </tr>\n    <tr>\n      <th>Kentucky</th>\n      <td>36161.391667</td>\n    </tr>\n    <tr>\n      <th>Louisiana</th>\n      <td>70833.937500</td>\n    </tr>\n    <tr>\n      <th>Maine</th>\n      <td>83022.562500</td>\n    </tr>\n    <tr>\n      <th>Maryland</th>\n      <td>240564.666667</td>\n    </tr>\n    <tr>\n      <th>Massachusetts</th>\n      <td>467687.785714</td>\n    </tr>\n    <tr>\n      <th>Michigan</th>\n      <td>119080.000000</td>\n    </tr>\n    <tr>\n      <th>Minnesota</th>\n      <td>60964.655172</td>\n    </tr>\n    <tr>\n      <th>Mississippi</th>\n      <td>36186.548780</td>\n    </tr>\n    <tr>\n      <th>Missouri</th>\n      <td>52077.626087</td>\n    </tr>\n    <tr>\n      <th>Montana</th>\n      <td>17668.125000</td>\n    </tr>\n    <tr>\n      <th>Nebraska</th>\n      <td>19638.075269</td>\n    </tr>\n    <tr>\n      <th>Nevada</th>\n      <td>158855.941176</td>\n    </tr>\n    <tr>\n      <th>New Hampshire</th>\n      <td>131647.000000</td>\n    </tr>\n    <tr>\n      <th>New Jersey</th>\n      <td>418661.619048</td>\n    </tr>\n    <tr>\n      <th>New Mexico</th>\n      <td>62399.363636</td>\n    </tr>\n    <tr>\n      <th>New York</th>\n      <td>312550.032258</td>\n    </tr>\n    <tr>\n      <th>North Carolina</th>\n      <td>95354.830000</td>\n    </tr>\n    <tr>\n      <th>North Dakota</th>\n      <td>12690.396226</td>\n    </tr>\n    <tr>\n      <th>Ohio</th>\n      <td>131096.636364</td>\n    </tr>\n    <tr>\n      <th>Oklahoma</th>\n      <td>48718.844156</td>\n    </tr>\n    <tr>\n      <th>Oregon</th>\n      <td>106418.722222</td>\n    </tr>\n    <tr>\n      <th>Pennsylvania</th>\n      <td>189587.746269</td>\n    </tr>\n    <tr>\n      <th>Rhode Island</th>\n      <td>210513.400000</td>\n    </tr>\n    <tr>\n      <th>South Carolina</th>\n      <td>100551.391304</td>\n    </tr>\n    <tr>\n      <th>South Dakota</th>\n      <td>12336.060606</td>\n    </tr>\n    <tr>\n      <th>Tennessee</th>\n      <td>66801.105263</td>\n    </tr>\n    <tr>\n      <th>Texas</th>\n      <td>98998.271654</td>\n    </tr>\n    <tr>\n      <th>Utah</th>\n      <td>95306.379310</td>\n    </tr>\n    <tr>\n      <th>Vermont</th>\n      <td>44695.785714</td>\n    </tr>\n    <tr>\n      <th>Virginia</th>\n      <td>60111.293233</td>\n    </tr>\n    <tr>\n      <th>Washington</th>\n      <td>172424.102564</td>\n    </tr>\n    <tr>\n      <th>West Virginia</th>\n      <td>33690.800000</td>\n    </tr>\n    <tr>\n      <th>Wisconsin</th>\n      <td>78985.916667</td>\n    </tr>\n    <tr>\n      <th>Wyoming</th>\n      <td>24505.478261</td>\n    </tr>\n  </tbody>\n</table>\n</div>"
     },
     "metadata": {},
     "execution_count": 27
    }
   ],
   "source": [
    "# Mencari rata-rata jumlah penduduk yang ada di county dan di group berdasar state name\n",
    "\n",
    "# Cara singkat pake aggregation\n",
    "\n",
    "df = pd.read_csv('../Data Files/census.csv')\n",
    "df = df[df['SUMLEV'] == 50]\n",
    "df.groupby('STNAME').agg({'CENSUS2010POP' : np.average})"
   ]
  },
  {
   "cell_type": "code",
   "execution_count": null,
   "metadata": {},
   "outputs": [],
   "source": [
    "# Exercise nya \n",
    "# print(df.groupby('Category').apply(lambda df,a,b: sum(df[a] * df[b]), 'Weight (oz.)', 'Quantity'))\n",
    "\n",
    "\n",
    "# Or alternatively without using a lambda:\n",
    "# def totalweight(df, w, q):\n",
    "#         return sum(df[w] * df[q])\n",
    "        \n",
    "# print(df.groupby('Category').apply(totalweight, 'Weight (oz.)', 'Quantity'))\n",
    "\n",
    "\n",
    "\n",
    "\n",
    "\n",
    "\n",
    "\n"
   ]
  }
 ]
}