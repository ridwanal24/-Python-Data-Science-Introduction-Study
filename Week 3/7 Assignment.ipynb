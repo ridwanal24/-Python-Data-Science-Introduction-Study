{
 "metadata": {
  "language_info": {
   "codemirror_mode": {
    "name": "ipython",
    "version": 3
   },
   "file_extension": ".py",
   "mimetype": "text/x-python",
   "name": "python",
   "nbconvert_exporter": "python",
   "pygments_lexer": "ipython3",
   "version": "3.8.3-final"
  },
  "orig_nbformat": 2,
  "kernelspec": {
   "name": "python_defaultSpec_1597993080636",
   "display_name": "Python 3.8.3 64-bit ('base': conda)"
  }
 },
 "nbformat": 4,
 "nbformat_minor": 2,
 "cells": [
  {
   "cell_type": "code",
   "execution_count": 34,
   "metadata": {
    "tags": []
   },
   "outputs": [
    {
     "output_type": "execute_result",
     "data": {
      "text/plain": "                    Rank  Documents  Citable documents  Citations  \\\nCountry                                                             \nChina                  1     127050             126767     597237   \nUnited States          2      96661              94747     792274   \nJapan                  3      30504              30287     223024   \nUnited Kingdom         4      20944              20357     206091   \nRussian Federation     5      18534              18301      34266   \nCanada                 6      17899              17620     215003   \nGermany                7      17027              16831     140566   \nIndia                  8      15005              14841     128763   \nFrance                 9      13153              12973     130632   \nSouth Korea           10      11983              11923     114675   \nItaly                 11      10964              10794     111850   \nSpain                 12       9428               9330     123336   \nIran                  13       8896               8819      57470   \nAustralia             14       8831               8725      90765   \nBrazil                15       8668               8596      60702   \n\n                    Self-citations  Citations per document  H index  \\\nCountry                                                               \nChina                       411683                    4.70      138   \nUnited States               265436                    8.20      230   \nJapan                        61554                    7.31      134   \nUnited Kingdom               37874                    9.84      139   \nRussian Federation           12422                    1.85       57   \nCanada                       40930                   12.01      149   \nGermany                      27426                    8.26      126   \nIndia                        37209                    8.58      115   \nFrance                       28601                    9.93      114   \nSouth Korea                  22595                    9.57      104   \nItaly                        26661                   10.20      106   \nSpain                        23964                   13.08      115   \nIran                         19125                    6.46       72   \nAustralia                    15606                   10.28      107   \nBrazil                       14396                    7.00       86   \n\n                    Energy Supply  Energy Supply per Capita  % Renewable  \\\nCountry                                                                    \nChina                1.271910e+11                      93.0    19.754910   \nUnited States        9.083800e+10                     286.0    11.570980   \nJapan                1.898400e+10                     149.0    10.232820   \nUnited Kingdom       7.920000e+09                     124.0    10.600470   \nRussian Federation   3.070900e+10                     214.0    17.288680   \nCanada               1.043100e+10                     296.0    61.945430   \nGermany              1.326100e+10                     165.0    17.901530   \nIndia                3.319500e+10                      26.0    14.969080   \nFrance               1.059700e+10                     166.0    17.020280   \nSouth Korea          1.100700e+10                     221.0     2.279353   \nItaly                6.530000e+09                     109.0    33.667230   \nSpain                4.923000e+09                     106.0    37.968590   \nIran                 9.172000e+09                     119.0     5.707721   \nAustralia            5.386000e+09                     231.0    11.810810   \nBrazil               1.214900e+10                      59.0    69.648030   \n\n                            2006          2007          2008          2009  \\\nCountry                                                                      \nChina               3.992331e+12  4.559041e+12  4.997775e+12  5.459247e+12   \nUnited States       1.479230e+13  1.505540e+13  1.501149e+13  1.459484e+13   \nJapan               5.496542e+12  5.617036e+12  5.558527e+12  5.251308e+12   \nUnited Kingdom      2.419631e+12  2.482203e+12  2.470614e+12  2.367048e+12   \nRussian Federation  1.385793e+12  1.504071e+12  1.583004e+12  1.459199e+12   \nCanada              1.564469e+12  1.596740e+12  1.612713e+12  1.565145e+12   \nGermany             3.332891e+12  3.441561e+12  3.478809e+12  3.283340e+12   \nIndia               1.265894e+12  1.374865e+12  1.428361e+12  1.549483e+12   \nFrance              2.607840e+12  2.669424e+12  2.674637e+12  2.595967e+12   \nSouth Korea         9.410199e+11  9.924316e+11  1.020510e+12  1.027730e+12   \nItaly               2.202170e+12  2.234627e+12  2.211154e+12  2.089938e+12   \nSpain               1.414823e+12  1.468146e+12  1.484530e+12  1.431475e+12   \nIran                3.895523e+11  4.250646e+11  4.289909e+11  4.389208e+11   \nAustralia           1.021939e+12  1.060340e+12  1.099644e+12  1.119654e+12   \nBrazil              1.845080e+12  1.957118e+12  2.056809e+12  2.054215e+12   \n\n                            2010          2011          2012          2013  \\\nCountry                                                                      \nChina               6.039659e+12  6.612490e+12  7.124978e+12  7.672448e+12   \nUnited States       1.496437e+13  1.520402e+13  1.554216e+13  1.577367e+13   \nJapan               5.498718e+12  5.473738e+12  5.569102e+12  5.644659e+12   \nUnited Kingdom      2.403504e+12  2.450911e+12  2.479809e+12  2.533370e+12   \nRussian Federation  1.524917e+12  1.589943e+12  1.645876e+12  1.666934e+12   \nCanada              1.613406e+12  1.664087e+12  1.693133e+12  1.730688e+12   \nGermany             3.417298e+12  3.542371e+12  3.556724e+12  3.567317e+12   \nIndia               1.708459e+12  1.821872e+12  1.924235e+12  2.051982e+12   \nFrance              2.646995e+12  2.702032e+12  2.706968e+12  2.722567e+12   \nSouth Korea         1.094499e+12  1.134796e+12  1.160809e+12  1.194429e+12   \nItaly               2.125185e+12  2.137439e+12  2.077184e+12  2.040871e+12   \nSpain               1.431673e+12  1.417355e+12  1.380216e+12  1.357139e+12   \nIran                4.677902e+11  4.853309e+11  4.532569e+11  4.445926e+11   \nAustralia           1.142251e+12  1.169431e+12  1.211913e+12  1.241484e+12   \nBrazil              2.208872e+12  2.295245e+12  2.339209e+12  2.409740e+12   \n\n                            2014          2015  \nCountry                                         \nChina               8.230121e+12  8.797999e+12  \nUnited States       1.615662e+13  1.654857e+13  \nJapan               5.642884e+12  5.669563e+12  \nUnited Kingdom      2.605643e+12  2.666333e+12  \nRussian Federation  1.678709e+12  1.616149e+12  \nCanada              1.773486e+12  1.792609e+12  \nGermany             3.624386e+12  3.685556e+12  \nIndia               2.200617e+12  2.367206e+12  \nFrance              2.729632e+12  2.761185e+12  \nSouth Korea         1.234340e+12  1.266580e+12  \nItaly               2.033868e+12  2.049316e+12  \nSpain               1.375605e+12  1.419821e+12  \nIran                4.639027e+11           NaN  \nAustralia           1.272520e+12  1.301251e+12  \nBrazil              2.412231e+12  2.319423e+12  ",
      "text/html": "<div>\n<style scoped>\n    .dataframe tbody tr th:only-of-type {\n        vertical-align: middle;\n    }\n\n    .dataframe tbody tr th {\n        vertical-align: top;\n    }\n\n    .dataframe thead th {\n        text-align: right;\n    }\n</style>\n<table border=\"1\" class=\"dataframe\">\n  <thead>\n    <tr style=\"text-align: right;\">\n      <th></th>\n      <th>Rank</th>\n      <th>Documents</th>\n      <th>Citable documents</th>\n      <th>Citations</th>\n      <th>Self-citations</th>\n      <th>Citations per document</th>\n      <th>H index</th>\n      <th>Energy Supply</th>\n      <th>Energy Supply per Capita</th>\n      <th>% Renewable</th>\n      <th>2006</th>\n      <th>2007</th>\n      <th>2008</th>\n      <th>2009</th>\n      <th>2010</th>\n      <th>2011</th>\n      <th>2012</th>\n      <th>2013</th>\n      <th>2014</th>\n      <th>2015</th>\n    </tr>\n    <tr>\n      <th>Country</th>\n      <th></th>\n      <th></th>\n      <th></th>\n      <th></th>\n      <th></th>\n      <th></th>\n      <th></th>\n      <th></th>\n      <th></th>\n      <th></th>\n      <th></th>\n      <th></th>\n      <th></th>\n      <th></th>\n      <th></th>\n      <th></th>\n      <th></th>\n      <th></th>\n      <th></th>\n      <th></th>\n    </tr>\n  </thead>\n  <tbody>\n    <tr>\n      <th>China</th>\n      <td>1</td>\n      <td>127050</td>\n      <td>126767</td>\n      <td>597237</td>\n      <td>411683</td>\n      <td>4.70</td>\n      <td>138</td>\n      <td>1.271910e+11</td>\n      <td>93.0</td>\n      <td>19.754910</td>\n      <td>3.992331e+12</td>\n      <td>4.559041e+12</td>\n      <td>4.997775e+12</td>\n      <td>5.459247e+12</td>\n      <td>6.039659e+12</td>\n      <td>6.612490e+12</td>\n      <td>7.124978e+12</td>\n      <td>7.672448e+12</td>\n      <td>8.230121e+12</td>\n      <td>8.797999e+12</td>\n    </tr>\n    <tr>\n      <th>United States</th>\n      <td>2</td>\n      <td>96661</td>\n      <td>94747</td>\n      <td>792274</td>\n      <td>265436</td>\n      <td>8.20</td>\n      <td>230</td>\n      <td>9.083800e+10</td>\n      <td>286.0</td>\n      <td>11.570980</td>\n      <td>1.479230e+13</td>\n      <td>1.505540e+13</td>\n      <td>1.501149e+13</td>\n      <td>1.459484e+13</td>\n      <td>1.496437e+13</td>\n      <td>1.520402e+13</td>\n      <td>1.554216e+13</td>\n      <td>1.577367e+13</td>\n      <td>1.615662e+13</td>\n      <td>1.654857e+13</td>\n    </tr>\n    <tr>\n      <th>Japan</th>\n      <td>3</td>\n      <td>30504</td>\n      <td>30287</td>\n      <td>223024</td>\n      <td>61554</td>\n      <td>7.31</td>\n      <td>134</td>\n      <td>1.898400e+10</td>\n      <td>149.0</td>\n      <td>10.232820</td>\n      <td>5.496542e+12</td>\n      <td>5.617036e+12</td>\n      <td>5.558527e+12</td>\n      <td>5.251308e+12</td>\n      <td>5.498718e+12</td>\n      <td>5.473738e+12</td>\n      <td>5.569102e+12</td>\n      <td>5.644659e+12</td>\n      <td>5.642884e+12</td>\n      <td>5.669563e+12</td>\n    </tr>\n    <tr>\n      <th>United Kingdom</th>\n      <td>4</td>\n      <td>20944</td>\n      <td>20357</td>\n      <td>206091</td>\n      <td>37874</td>\n      <td>9.84</td>\n      <td>139</td>\n      <td>7.920000e+09</td>\n      <td>124.0</td>\n      <td>10.600470</td>\n      <td>2.419631e+12</td>\n      <td>2.482203e+12</td>\n      <td>2.470614e+12</td>\n      <td>2.367048e+12</td>\n      <td>2.403504e+12</td>\n      <td>2.450911e+12</td>\n      <td>2.479809e+12</td>\n      <td>2.533370e+12</td>\n      <td>2.605643e+12</td>\n      <td>2.666333e+12</td>\n    </tr>\n    <tr>\n      <th>Russian Federation</th>\n      <td>5</td>\n      <td>18534</td>\n      <td>18301</td>\n      <td>34266</td>\n      <td>12422</td>\n      <td>1.85</td>\n      <td>57</td>\n      <td>3.070900e+10</td>\n      <td>214.0</td>\n      <td>17.288680</td>\n      <td>1.385793e+12</td>\n      <td>1.504071e+12</td>\n      <td>1.583004e+12</td>\n      <td>1.459199e+12</td>\n      <td>1.524917e+12</td>\n      <td>1.589943e+12</td>\n      <td>1.645876e+12</td>\n      <td>1.666934e+12</td>\n      <td>1.678709e+12</td>\n      <td>1.616149e+12</td>\n    </tr>\n    <tr>\n      <th>Canada</th>\n      <td>6</td>\n      <td>17899</td>\n      <td>17620</td>\n      <td>215003</td>\n      <td>40930</td>\n      <td>12.01</td>\n      <td>149</td>\n      <td>1.043100e+10</td>\n      <td>296.0</td>\n      <td>61.945430</td>\n      <td>1.564469e+12</td>\n      <td>1.596740e+12</td>\n      <td>1.612713e+12</td>\n      <td>1.565145e+12</td>\n      <td>1.613406e+12</td>\n      <td>1.664087e+12</td>\n      <td>1.693133e+12</td>\n      <td>1.730688e+12</td>\n      <td>1.773486e+12</td>\n      <td>1.792609e+12</td>\n    </tr>\n    <tr>\n      <th>Germany</th>\n      <td>7</td>\n      <td>17027</td>\n      <td>16831</td>\n      <td>140566</td>\n      <td>27426</td>\n      <td>8.26</td>\n      <td>126</td>\n      <td>1.326100e+10</td>\n      <td>165.0</td>\n      <td>17.901530</td>\n      <td>3.332891e+12</td>\n      <td>3.441561e+12</td>\n      <td>3.478809e+12</td>\n      <td>3.283340e+12</td>\n      <td>3.417298e+12</td>\n      <td>3.542371e+12</td>\n      <td>3.556724e+12</td>\n      <td>3.567317e+12</td>\n      <td>3.624386e+12</td>\n      <td>3.685556e+12</td>\n    </tr>\n    <tr>\n      <th>India</th>\n      <td>8</td>\n      <td>15005</td>\n      <td>14841</td>\n      <td>128763</td>\n      <td>37209</td>\n      <td>8.58</td>\n      <td>115</td>\n      <td>3.319500e+10</td>\n      <td>26.0</td>\n      <td>14.969080</td>\n      <td>1.265894e+12</td>\n      <td>1.374865e+12</td>\n      <td>1.428361e+12</td>\n      <td>1.549483e+12</td>\n      <td>1.708459e+12</td>\n      <td>1.821872e+12</td>\n      <td>1.924235e+12</td>\n      <td>2.051982e+12</td>\n      <td>2.200617e+12</td>\n      <td>2.367206e+12</td>\n    </tr>\n    <tr>\n      <th>France</th>\n      <td>9</td>\n      <td>13153</td>\n      <td>12973</td>\n      <td>130632</td>\n      <td>28601</td>\n      <td>9.93</td>\n      <td>114</td>\n      <td>1.059700e+10</td>\n      <td>166.0</td>\n      <td>17.020280</td>\n      <td>2.607840e+12</td>\n      <td>2.669424e+12</td>\n      <td>2.674637e+12</td>\n      <td>2.595967e+12</td>\n      <td>2.646995e+12</td>\n      <td>2.702032e+12</td>\n      <td>2.706968e+12</td>\n      <td>2.722567e+12</td>\n      <td>2.729632e+12</td>\n      <td>2.761185e+12</td>\n    </tr>\n    <tr>\n      <th>South Korea</th>\n      <td>10</td>\n      <td>11983</td>\n      <td>11923</td>\n      <td>114675</td>\n      <td>22595</td>\n      <td>9.57</td>\n      <td>104</td>\n      <td>1.100700e+10</td>\n      <td>221.0</td>\n      <td>2.279353</td>\n      <td>9.410199e+11</td>\n      <td>9.924316e+11</td>\n      <td>1.020510e+12</td>\n      <td>1.027730e+12</td>\n      <td>1.094499e+12</td>\n      <td>1.134796e+12</td>\n      <td>1.160809e+12</td>\n      <td>1.194429e+12</td>\n      <td>1.234340e+12</td>\n      <td>1.266580e+12</td>\n    </tr>\n    <tr>\n      <th>Italy</th>\n      <td>11</td>\n      <td>10964</td>\n      <td>10794</td>\n      <td>111850</td>\n      <td>26661</td>\n      <td>10.20</td>\n      <td>106</td>\n      <td>6.530000e+09</td>\n      <td>109.0</td>\n      <td>33.667230</td>\n      <td>2.202170e+12</td>\n      <td>2.234627e+12</td>\n      <td>2.211154e+12</td>\n      <td>2.089938e+12</td>\n      <td>2.125185e+12</td>\n      <td>2.137439e+12</td>\n      <td>2.077184e+12</td>\n      <td>2.040871e+12</td>\n      <td>2.033868e+12</td>\n      <td>2.049316e+12</td>\n    </tr>\n    <tr>\n      <th>Spain</th>\n      <td>12</td>\n      <td>9428</td>\n      <td>9330</td>\n      <td>123336</td>\n      <td>23964</td>\n      <td>13.08</td>\n      <td>115</td>\n      <td>4.923000e+09</td>\n      <td>106.0</td>\n      <td>37.968590</td>\n      <td>1.414823e+12</td>\n      <td>1.468146e+12</td>\n      <td>1.484530e+12</td>\n      <td>1.431475e+12</td>\n      <td>1.431673e+12</td>\n      <td>1.417355e+12</td>\n      <td>1.380216e+12</td>\n      <td>1.357139e+12</td>\n      <td>1.375605e+12</td>\n      <td>1.419821e+12</td>\n    </tr>\n    <tr>\n      <th>Iran</th>\n      <td>13</td>\n      <td>8896</td>\n      <td>8819</td>\n      <td>57470</td>\n      <td>19125</td>\n      <td>6.46</td>\n      <td>72</td>\n      <td>9.172000e+09</td>\n      <td>119.0</td>\n      <td>5.707721</td>\n      <td>3.895523e+11</td>\n      <td>4.250646e+11</td>\n      <td>4.289909e+11</td>\n      <td>4.389208e+11</td>\n      <td>4.677902e+11</td>\n      <td>4.853309e+11</td>\n      <td>4.532569e+11</td>\n      <td>4.445926e+11</td>\n      <td>4.639027e+11</td>\n      <td>NaN</td>\n    </tr>\n    <tr>\n      <th>Australia</th>\n      <td>14</td>\n      <td>8831</td>\n      <td>8725</td>\n      <td>90765</td>\n      <td>15606</td>\n      <td>10.28</td>\n      <td>107</td>\n      <td>5.386000e+09</td>\n      <td>231.0</td>\n      <td>11.810810</td>\n      <td>1.021939e+12</td>\n      <td>1.060340e+12</td>\n      <td>1.099644e+12</td>\n      <td>1.119654e+12</td>\n      <td>1.142251e+12</td>\n      <td>1.169431e+12</td>\n      <td>1.211913e+12</td>\n      <td>1.241484e+12</td>\n      <td>1.272520e+12</td>\n      <td>1.301251e+12</td>\n    </tr>\n    <tr>\n      <th>Brazil</th>\n      <td>15</td>\n      <td>8668</td>\n      <td>8596</td>\n      <td>60702</td>\n      <td>14396</td>\n      <td>7.00</td>\n      <td>86</td>\n      <td>1.214900e+10</td>\n      <td>59.0</td>\n      <td>69.648030</td>\n      <td>1.845080e+12</td>\n      <td>1.957118e+12</td>\n      <td>2.056809e+12</td>\n      <td>2.054215e+12</td>\n      <td>2.208872e+12</td>\n      <td>2.295245e+12</td>\n      <td>2.339209e+12</td>\n      <td>2.409740e+12</td>\n      <td>2.412231e+12</td>\n      <td>2.319423e+12</td>\n    </tr>\n  </tbody>\n</table>\n</div>"
     },
     "metadata": {},
     "execution_count": 34
    }
   ],
   "source": [
    "    # Nomor 1\n",
    "    \n",
    "    import pandas as pd\n",
    "    import numpy as np\n",
    "\n",
    "    energy = pd.read_excel('../Data Files/Energy+Indicators.xls', skiprows=17)\n",
    "    energy = energy.drop(['Unnamed: 0', 'Unnamed: 2'], axis=1)\n",
    "    energy = energy.iloc[0:227]\n",
    "    energy = energy.rename(columns={\n",
    "        'Unnamed: 1' : 'Country',\n",
    "        'Petajoules' : 'Energy Supply',\n",
    "        'Gigajoules' : 'Energy Supply per Capita',\n",
    "        '%' : '% Renewable'\n",
    "        })\n",
    "    energy = energy.replace('...', np.NaN)\n",
    "    energy = energy.replace({\n",
    "        \"Republic of Korea\": \"South Korea\",\n",
    "        \"United States of America\": \"United States\",\n",
    "        \"United Kingdom of Great Britain and Northern Ireland\": \"United Kingdom\",\n",
    "        \"China, Hong Kong Special Administrative Region\": \"Hong Kong\",\n",
    "        'Iran (Islamic Republic of)':'Iran'\n",
    "    })\n",
    "    energy[['Energy Supply', 'Energy Supply per Capita', '% Renewable']] = energy[['Energy Supply', 'Energy Supply per Capita', '% Renewable']].apply(pd.to_numeric)\n",
    "    energy['Country'] = energy['Country'].str.replace(r\" \\(.*\\)\",\"\")\n",
    "    energy['Country'] = energy['Country'].str.replace('\\d+','')\n",
    "    energy['Energy Supply'] = energy['Energy Supply']*1000000\n",
    "\n",
    "    GDP = pd.read_csv('../Data Files/world_bank.csv', skiprows=4)\n",
    "    GDP['Country Name'] = GDP['Country Name'].replace({\n",
    "        \"Korea, Rep.\": \"South Korea\", \n",
    "        \"Iran, Islamic Rep.\": \"Iran\",\n",
    "        \"Hong Kong SAR, China\": \"Hong Kong\"\n",
    "    })\n",
    "\n",
    "    GDP = GDP[['Country Name','2006','2007','2008','2009','2010','2011','2012','2013','2014','2015']]\n",
    "    GDP.columns = ['Country','2006','2007','2008','2009','2010','2011','2012','2013','2014','2015']\n",
    "\n",
    "    ScimEn = pd.read_excel('../Data Files/scimagojr-3.xlsx')\n",
    "    ScimEn = ScimEn[:15]\n",
    "    ScimEn\n",
    "\n",
    "    df_beta = pd.merge(ScimEn, energy, how='inner', left_on='Country', right_on='Country')\n",
    "    df = pd.merge(df_beta, GDP, how='inner', left_on='Country', right_on='Country')\n",
    "    df = df.set_index('Country')\n",
    "    df"
   ]
  },
  {
   "cell_type": "code",
   "execution_count": 35,
   "metadata": {},
   "outputs": [
    {
     "output_type": "execute_result",
     "data": {
      "text/plain": "156"
     },
     "metadata": {},
     "execution_count": 35
    }
   ],
   "source": [
    "# Nomor 2\n",
    "\n",
    "156 # :v"
   ]
  },
  {
   "cell_type": "code",
   "execution_count": 36,
   "metadata": {},
   "outputs": [
    {
     "output_type": "execute_result",
     "data": {
      "text/plain": "Country\nUnited States         1.536434e+13\nChina                 6.348609e+12\nJapan                 5.542208e+12\nGermany               3.493025e+12\nFrance                2.681725e+12\nUnited Kingdom        2.487907e+12\nBrazil                2.189794e+12\nItaly                 2.120175e+12\nIndia                 1.769297e+12\nCanada                1.660647e+12\nRussian Federation    1.565459e+12\nSpain                 1.418078e+12\nAustralia             1.164043e+12\nSouth Korea           1.106715e+12\nIran                  4.441558e+11\nName: avgGDP, dtype: float64"
     },
     "metadata": {},
     "execution_count": 36
    }
   ],
   "source": [
    "# Nomor 3\n",
    "\n",
    "# Rata-rata setiap country di 10 tahun terakhir\n",
    "\n",
    "Top15 = df\n",
    "average_GDP = Top15[['2006', '2007', '2008', '2009', '2010', '2011', '2012', '2013', '2014', '2015']]\n",
    "average_GDP = average_GDP.mean(axis=1).sort_values(ascending=False).rename('avgGDP')\n",
    "average_GDP"
   ]
  },
  {
   "cell_type": "code",
   "execution_count": 37,
   "metadata": {},
   "outputs": [
    {
     "output_type": "execute_result",
     "data": {
      "text/plain": "246702696075.3999"
     },
     "metadata": {},
     "execution_count": 37
    }
   ],
   "source": [
    "# Nomor 4\n",
    "\n",
    "Top15 = df\n",
    "selisih = Top15[Top15['Rank'] == 4]['2015'] - Top15[Top15['Rank'] == 4]['2006']\n",
    "\n",
    "selisih.values[0]"
   ]
  },
  {
   "cell_type": "code",
   "execution_count": 38,
   "metadata": {},
   "outputs": [
    {
     "output_type": "execute_result",
     "data": {
      "text/plain": "157.6"
     },
     "metadata": {},
     "execution_count": 38
    }
   ],
   "source": [
    "# Nomor 5\n",
    "\n",
    "Top15 = df\n",
    "Top15['Energy Supply per Capita'].mean()"
   ]
  },
  {
   "cell_type": "code",
   "execution_count": 51,
   "metadata": {},
   "outputs": [
    {
     "output_type": "execute_result",
     "data": {
      "text/plain": "('Brazil', 69.64803)"
     },
     "metadata": {},
     "execution_count": 51
    }
   ],
   "source": [
    "# Nomor 6\n",
    "\n",
    "Top15 = df\n",
    "maxAVG = Top15[Top15['% Renewable'] == Top15['% Renewable'].max()]\n",
    "(maxAVG['% Renewable'].index.values[0], maxAVG['% Renewable'].values[0])"
   ]
  },
  {
   "cell_type": "code",
   "execution_count": 62,
   "metadata": {},
   "outputs": [
    {
     "output_type": "execute_result",
     "data": {
      "text/plain": "('China', 0.6893126179389422)"
     },
     "metadata": {},
     "execution_count": 62
    }
   ],
   "source": [
    "# Nomor 7\n",
    "\n",
    "Top15 = df\n",
    "Top15['Ratio Citations'] = Top15['Self-citations'] / Top15['Citations']\n",
    "maxRatio = Top15[Top15['Ratio Citations'] == Top15['Ratio Citations'].max()]['Ratio Citations']\n",
    "(maxRatio.index.values[0], maxRatio.values[0])"
   ]
  },
  {
   "cell_type": "code",
   "execution_count": 75,
   "metadata": {},
   "outputs": [
    {
     "output_type": "execute_result",
     "data": {
      "text/plain": "'United States'"
     },
     "metadata": {},
     "execution_count": 75
    }
   ],
   "source": [
    "# Nomor 8\n",
    "\n",
    "Top15 = df\n",
    "Top15['Estimate Population'] = Top15['Energy Supply'] / Top15['Energy Supply per Capita']\n",
    "Top15['Estimate Population']\n",
    "estimate = Top15['Estimate Population'].sort_values(ascending=False)\n",
    "estimate.reset_index().iloc[2]['Country']\n"
   ]
  },
  {
   "cell_type": "code",
   "execution_count": 78,
   "metadata": {},
   "outputs": [],
   "source": [
    "# Nomor 9\n",
    "\n",
    "Top15 = df\n",
    "Top15['PopEst'] = Top15['Energy Supply'] / Top15['Energy Supply per Capita']\n",
    "Top15['Citable Doc per Capita'] = Top15['Citable documents'] / Top15['PopEst']\n",
    "answer = Top15['Citable Doc per Capita'].corr(Top15['Energy Supply per Capita'])"
   ]
  },
  {
   "cell_type": "code",
   "execution_count": 80,
   "metadata": {},
   "outputs": [
    {
     "output_type": "execute_result",
     "data": {
      "text/plain": "<matplotlib.axes._subplots.AxesSubplot at 0x1d6160c2190>"
     },
     "metadata": {},
     "execution_count": 80
    },
    {
     "output_type": "display_data",
     "data": {
      "text/plain": "<Figure size 432x288 with 1 Axes>",
      "image/svg+xml": "<?xml version=\"1.0\" encoding=\"utf-8\" standalone=\"no\"?>\r\n<!DOCTYPE svg PUBLIC \"-//W3C//DTD SVG 1.1//EN\"\r\n  \"http://www.w3.org/Graphics/SVG/1.1/DTD/svg11.dtd\">\r\n<!-- Created with matplotlib (https://matplotlib.org/) -->\r\n<svg height=\"262.19625pt\" version=\"1.1\" viewBox=\"0 0 406.460938 262.19625\" width=\"406.460938pt\" xmlns=\"http://www.w3.org/2000/svg\" xmlns:xlink=\"http://www.w3.org/1999/xlink\">\r\n <defs>\r\n  <style type=\"text/css\">\r\n*{stroke-linecap:butt;stroke-linejoin:round;}\r\n  </style>\r\n </defs>\r\n <g id=\"figure_1\">\r\n  <g id=\"patch_1\">\r\n   <path d=\"M 0 262.19625 \r\nL 406.460938 262.19625 \r\nL 406.460938 0 \r\nL 0 0 \r\nz\r\n\" style=\"fill:none;\"/>\r\n  </g>\r\n  <g id=\"axes_1\">\r\n   <g id=\"patch_2\">\r\n    <path d=\"M 46.965625 224.64 \r\nL 381.765625 224.64 \r\nL 381.765625 7.2 \r\nL 46.965625 7.2 \r\nz\r\n\" style=\"fill:#ffffff;\"/>\r\n   </g>\r\n   <g id=\"PathCollection_1\">\r\n    <defs>\r\n     <path d=\"M 0 2.236068 \r\nC 0.593012 2.236068 1.161816 2.000462 1.581139 1.581139 \r\nC 2.000462 1.161816 2.236068 0.593012 2.236068 0 \r\nC 2.236068 -0.593012 2.000462 -1.161816 1.581139 -1.581139 \r\nC 1.161816 -2.000462 0.593012 -2.236068 0 -2.236068 \r\nC -0.593012 -2.236068 -1.161816 -2.000462 -1.581139 -1.581139 \r\nC -2.000462 -1.161816 -2.236068 -0.593012 -2.236068 0 \r\nC -2.236068 0.593012 -2.000462 1.161816 -1.581139 1.581139 \r\nC -1.161816 2.000462 -0.593012 2.236068 0 2.236068 \r\nz\r\n\" id=\"m8d28eff4ce\" style=\"stroke:#1f77b4;\"/>\r\n    </defs>\r\n    <g clip-path=\"url(#p8445502c12)\">\r\n     <use style=\"fill:#1f77b4;stroke:#1f77b4;\" x=\"98.686633\" xlink:href=\"#m8d28eff4ce\" y=\"165.704242\"/>\r\n     <use style=\"fill:#1f77b4;stroke:#1f77b4;\" x=\"213.42112\" xlink:href=\"#m8d28eff4ce\" y=\"24.404848\"/>\r\n     <use style=\"fill:#1f77b4;stroke:#1f77b4;\" x=\"179.610049\" xlink:href=\"#m8d28eff4ce\" y=\"124.705455\"/>\r\n     <use style=\"fill:#1f77b4;stroke:#1f77b4;\" x=\"224.81178\" xlink:href=\"#m8d28eff4ce\" y=\"143.008485\"/>\r\n     <use style=\"fill:#1f77b4;stroke:#1f77b4;\" x=\"118.129095\" xlink:href=\"#m8d28eff4ce\" y=\"77.117576\"/>\r\n     <use style=\"fill:#1f77b4;stroke:#1f77b4;\" x=\"325.966695\" xlink:href=\"#m8d28eff4ce\" y=\"17.083636\"/>\r\n     <use style=\"fill:#1f77b4;stroke:#1f77b4;\" x=\"163.821833\" xlink:href=\"#m8d28eff4ce\" y=\"112.991515\"/>\r\n     <use style=\"fill:#1f77b4;stroke:#1f77b4;\" x=\"53.45194\" xlink:href=\"#m8d28eff4ce\" y=\"214.756364\"/>\r\n     <use style=\"fill:#1f77b4;stroke:#1f77b4;\" x=\"160.362156\" xlink:href=\"#m8d28eff4ce\" y=\"112.259394\"/>\r\n     <use style=\"fill:#1f77b4;stroke:#1f77b4;\" x=\"180.546121\" xlink:href=\"#m8d28eff4ce\" y=\"71.992727\"/>\r\n     <use style=\"fill:#1f77b4;stroke:#1f77b4;\" x=\"147.503553\" xlink:href=\"#m8d28eff4ce\" y=\"153.990303\"/>\r\n     <use style=\"fill:#1f77b4;stroke:#1f77b4;\" x=\"159.062078\" xlink:href=\"#m8d28eff4ce\" y=\"156.186667\"/>\r\n     <use style=\"fill:#1f77b4;stroke:#1f77b4;\" x=\"110.812031\" xlink:href=\"#m8d28eff4ce\" y=\"146.669091\"/>\r\n     <use style=\"fill:#1f77b4;stroke:#1f77b4;\" x=\"255.772727\" xlink:href=\"#m8d28eff4ce\" y=\"64.671515\"/>\r\n     <use style=\"fill:#1f77b4;stroke:#1f77b4;\" x=\"70.259518\" xlink:href=\"#m8d28eff4ce\" y=\"190.596364\"/>\r\n    </g>\r\n   </g>\r\n   <g id=\"matplotlib.axis_1\">\r\n    <g id=\"xtick_1\">\r\n     <g id=\"line2d_1\">\r\n      <defs>\r\n       <path d=\"M 0 0 \r\nL 0 3.5 \r\n\" id=\"m806f32725d\" style=\"stroke:#000000;stroke-width:0.8;\"/>\r\n      </defs>\r\n      <g>\r\n       <use style=\"stroke:#000000;stroke-width:0.8;\" x=\"46.965625\" xlink:href=\"#m806f32725d\" y=\"224.64\"/>\r\n      </g>\r\n     </g>\r\n     <g id=\"text_1\">\r\n      <!-- 0.0000 -->\r\n      <defs>\r\n       <path d=\"M 31.78125 66.40625 \r\nQ 24.171875 66.40625 20.328125 58.90625 \r\nQ 16.5 51.421875 16.5 36.375 \r\nQ 16.5 21.390625 20.328125 13.890625 \r\nQ 24.171875 6.390625 31.78125 6.390625 \r\nQ 39.453125 6.390625 43.28125 13.890625 \r\nQ 47.125 21.390625 47.125 36.375 \r\nQ 47.125 51.421875 43.28125 58.90625 \r\nQ 39.453125 66.40625 31.78125 66.40625 \r\nz\r\nM 31.78125 74.21875 \r\nQ 44.046875 74.21875 50.515625 64.515625 \r\nQ 56.984375 54.828125 56.984375 36.375 \r\nQ 56.984375 17.96875 50.515625 8.265625 \r\nQ 44.046875 -1.421875 31.78125 -1.421875 \r\nQ 19.53125 -1.421875 13.0625 8.265625 \r\nQ 6.59375 17.96875 6.59375 36.375 \r\nQ 6.59375 54.828125 13.0625 64.515625 \r\nQ 19.53125 74.21875 31.78125 74.21875 \r\nz\r\n\" id=\"DejaVuSans-48\"/>\r\n       <path d=\"M 10.6875 12.40625 \r\nL 21 12.40625 \r\nL 21 0 \r\nL 10.6875 0 \r\nz\r\n\" id=\"DejaVuSans-46\"/>\r\n      </defs>\r\n      <g transform=\"translate(29.470313 239.238437)scale(0.1 -0.1)\">\r\n       <use xlink:href=\"#DejaVuSans-48\"/>\r\n       <use x=\"63.623047\" xlink:href=\"#DejaVuSans-46\"/>\r\n       <use x=\"95.410156\" xlink:href=\"#DejaVuSans-48\"/>\r\n       <use x=\"159.033203\" xlink:href=\"#DejaVuSans-48\"/>\r\n       <use x=\"222.65625\" xlink:href=\"#DejaVuSans-48\"/>\r\n       <use x=\"286.279297\" xlink:href=\"#DejaVuSans-48\"/>\r\n      </g>\r\n     </g>\r\n    </g>\r\n    <g id=\"xtick_2\">\r\n     <g id=\"line2d_2\">\r\n      <g>\r\n       <use style=\"stroke:#000000;stroke-width:0.8;\" x=\"102.765625\" xlink:href=\"#m806f32725d\" y=\"224.64\"/>\r\n      </g>\r\n     </g>\r\n     <g id=\"text_2\">\r\n      <!-- 0.0001 -->\r\n      <defs>\r\n       <path d=\"M 12.40625 8.296875 \r\nL 28.515625 8.296875 \r\nL 28.515625 63.921875 \r\nL 10.984375 60.40625 \r\nL 10.984375 69.390625 \r\nL 28.421875 72.90625 \r\nL 38.28125 72.90625 \r\nL 38.28125 8.296875 \r\nL 54.390625 8.296875 \r\nL 54.390625 0 \r\nL 12.40625 0 \r\nz\r\n\" id=\"DejaVuSans-49\"/>\r\n      </defs>\r\n      <g transform=\"translate(85.270313 239.238437)scale(0.1 -0.1)\">\r\n       <use xlink:href=\"#DejaVuSans-48\"/>\r\n       <use x=\"63.623047\" xlink:href=\"#DejaVuSans-46\"/>\r\n       <use x=\"95.410156\" xlink:href=\"#DejaVuSans-48\"/>\r\n       <use x=\"159.033203\" xlink:href=\"#DejaVuSans-48\"/>\r\n       <use x=\"222.65625\" xlink:href=\"#DejaVuSans-48\"/>\r\n       <use x=\"286.279297\" xlink:href=\"#DejaVuSans-49\"/>\r\n      </g>\r\n     </g>\r\n    </g>\r\n    <g id=\"xtick_3\">\r\n     <g id=\"line2d_3\">\r\n      <g>\r\n       <use style=\"stroke:#000000;stroke-width:0.8;\" x=\"158.565625\" xlink:href=\"#m806f32725d\" y=\"224.64\"/>\r\n      </g>\r\n     </g>\r\n     <g id=\"text_3\">\r\n      <!-- 0.0002 -->\r\n      <defs>\r\n       <path d=\"M 19.1875 8.296875 \r\nL 53.609375 8.296875 \r\nL 53.609375 0 \r\nL 7.328125 0 \r\nL 7.328125 8.296875 \r\nQ 12.9375 14.109375 22.625 23.890625 \r\nQ 32.328125 33.6875 34.8125 36.53125 \r\nQ 39.546875 41.84375 41.421875 45.53125 \r\nQ 43.3125 49.21875 43.3125 52.78125 \r\nQ 43.3125 58.59375 39.234375 62.25 \r\nQ 35.15625 65.921875 28.609375 65.921875 \r\nQ 23.96875 65.921875 18.8125 64.3125 \r\nQ 13.671875 62.703125 7.8125 59.421875 \r\nL 7.8125 69.390625 \r\nQ 13.765625 71.78125 18.9375 73 \r\nQ 24.125 74.21875 28.421875 74.21875 \r\nQ 39.75 74.21875 46.484375 68.546875 \r\nQ 53.21875 62.890625 53.21875 53.421875 \r\nQ 53.21875 48.921875 51.53125 44.890625 \r\nQ 49.859375 40.875 45.40625 35.40625 \r\nQ 44.1875 33.984375 37.640625 27.21875 \r\nQ 31.109375 20.453125 19.1875 8.296875 \r\nz\r\n\" id=\"DejaVuSans-50\"/>\r\n      </defs>\r\n      <g transform=\"translate(141.070312 239.238437)scale(0.1 -0.1)\">\r\n       <use xlink:href=\"#DejaVuSans-48\"/>\r\n       <use x=\"63.623047\" xlink:href=\"#DejaVuSans-46\"/>\r\n       <use x=\"95.410156\" xlink:href=\"#DejaVuSans-48\"/>\r\n       <use x=\"159.033203\" xlink:href=\"#DejaVuSans-48\"/>\r\n       <use x=\"222.65625\" xlink:href=\"#DejaVuSans-48\"/>\r\n       <use x=\"286.279297\" xlink:href=\"#DejaVuSans-50\"/>\r\n      </g>\r\n     </g>\r\n    </g>\r\n    <g id=\"xtick_4\">\r\n     <g id=\"line2d_4\">\r\n      <g>\r\n       <use style=\"stroke:#000000;stroke-width:0.8;\" x=\"214.365625\" xlink:href=\"#m806f32725d\" y=\"224.64\"/>\r\n      </g>\r\n     </g>\r\n     <g id=\"text_4\">\r\n      <!-- 0.0003 -->\r\n      <defs>\r\n       <path d=\"M 40.578125 39.3125 \r\nQ 47.65625 37.796875 51.625 33 \r\nQ 55.609375 28.21875 55.609375 21.1875 \r\nQ 55.609375 10.40625 48.1875 4.484375 \r\nQ 40.765625 -1.421875 27.09375 -1.421875 \r\nQ 22.515625 -1.421875 17.65625 -0.515625 \r\nQ 12.796875 0.390625 7.625 2.203125 \r\nL 7.625 11.71875 \r\nQ 11.71875 9.328125 16.59375 8.109375 \r\nQ 21.484375 6.890625 26.8125 6.890625 \r\nQ 36.078125 6.890625 40.9375 10.546875 \r\nQ 45.796875 14.203125 45.796875 21.1875 \r\nQ 45.796875 27.640625 41.28125 31.265625 \r\nQ 36.765625 34.90625 28.71875 34.90625 \r\nL 20.21875 34.90625 \r\nL 20.21875 43.015625 \r\nL 29.109375 43.015625 \r\nQ 36.375 43.015625 40.234375 45.921875 \r\nQ 44.09375 48.828125 44.09375 54.296875 \r\nQ 44.09375 59.90625 40.109375 62.90625 \r\nQ 36.140625 65.921875 28.71875 65.921875 \r\nQ 24.65625 65.921875 20.015625 65.03125 \r\nQ 15.375 64.15625 9.8125 62.3125 \r\nL 9.8125 71.09375 \r\nQ 15.4375 72.65625 20.34375 73.4375 \r\nQ 25.25 74.21875 29.59375 74.21875 \r\nQ 40.828125 74.21875 47.359375 69.109375 \r\nQ 53.90625 64.015625 53.90625 55.328125 \r\nQ 53.90625 49.265625 50.4375 45.09375 \r\nQ 46.96875 40.921875 40.578125 39.3125 \r\nz\r\n\" id=\"DejaVuSans-51\"/>\r\n      </defs>\r\n      <g transform=\"translate(196.870313 239.238437)scale(0.1 -0.1)\">\r\n       <use xlink:href=\"#DejaVuSans-48\"/>\r\n       <use x=\"63.623047\" xlink:href=\"#DejaVuSans-46\"/>\r\n       <use x=\"95.410156\" xlink:href=\"#DejaVuSans-48\"/>\r\n       <use x=\"159.033203\" xlink:href=\"#DejaVuSans-48\"/>\r\n       <use x=\"222.65625\" xlink:href=\"#DejaVuSans-48\"/>\r\n       <use x=\"286.279297\" xlink:href=\"#DejaVuSans-51\"/>\r\n      </g>\r\n     </g>\r\n    </g>\r\n    <g id=\"xtick_5\">\r\n     <g id=\"line2d_5\">\r\n      <g>\r\n       <use style=\"stroke:#000000;stroke-width:0.8;\" x=\"270.165625\" xlink:href=\"#m806f32725d\" y=\"224.64\"/>\r\n      </g>\r\n     </g>\r\n     <g id=\"text_5\">\r\n      <!-- 0.0004 -->\r\n      <defs>\r\n       <path d=\"M 37.796875 64.3125 \r\nL 12.890625 25.390625 \r\nL 37.796875 25.390625 \r\nz\r\nM 35.203125 72.90625 \r\nL 47.609375 72.90625 \r\nL 47.609375 25.390625 \r\nL 58.015625 25.390625 \r\nL 58.015625 17.1875 \r\nL 47.609375 17.1875 \r\nL 47.609375 0 \r\nL 37.796875 0 \r\nL 37.796875 17.1875 \r\nL 4.890625 17.1875 \r\nL 4.890625 26.703125 \r\nz\r\n\" id=\"DejaVuSans-52\"/>\r\n      </defs>\r\n      <g transform=\"translate(252.670313 239.238437)scale(0.1 -0.1)\">\r\n       <use xlink:href=\"#DejaVuSans-48\"/>\r\n       <use x=\"63.623047\" xlink:href=\"#DejaVuSans-46\"/>\r\n       <use x=\"95.410156\" xlink:href=\"#DejaVuSans-48\"/>\r\n       <use x=\"159.033203\" xlink:href=\"#DejaVuSans-48\"/>\r\n       <use x=\"222.65625\" xlink:href=\"#DejaVuSans-48\"/>\r\n       <use x=\"286.279297\" xlink:href=\"#DejaVuSans-52\"/>\r\n      </g>\r\n     </g>\r\n    </g>\r\n    <g id=\"xtick_6\">\r\n     <g id=\"line2d_6\">\r\n      <g>\r\n       <use style=\"stroke:#000000;stroke-width:0.8;\" x=\"325.965625\" xlink:href=\"#m806f32725d\" y=\"224.64\"/>\r\n      </g>\r\n     </g>\r\n     <g id=\"text_6\">\r\n      <!-- 0.0005 -->\r\n      <defs>\r\n       <path d=\"M 10.796875 72.90625 \r\nL 49.515625 72.90625 \r\nL 49.515625 64.59375 \r\nL 19.828125 64.59375 \r\nL 19.828125 46.734375 \r\nQ 21.96875 47.46875 24.109375 47.828125 \r\nQ 26.265625 48.1875 28.421875 48.1875 \r\nQ 40.625 48.1875 47.75 41.5 \r\nQ 54.890625 34.8125 54.890625 23.390625 \r\nQ 54.890625 11.625 47.5625 5.09375 \r\nQ 40.234375 -1.421875 26.90625 -1.421875 \r\nQ 22.3125 -1.421875 17.546875 -0.640625 \r\nQ 12.796875 0.140625 7.71875 1.703125 \r\nL 7.71875 11.625 \r\nQ 12.109375 9.234375 16.796875 8.0625 \r\nQ 21.484375 6.890625 26.703125 6.890625 \r\nQ 35.15625 6.890625 40.078125 11.328125 \r\nQ 45.015625 15.765625 45.015625 23.390625 \r\nQ 45.015625 31 40.078125 35.4375 \r\nQ 35.15625 39.890625 26.703125 39.890625 \r\nQ 22.75 39.890625 18.8125 39.015625 \r\nQ 14.890625 38.140625 10.796875 36.28125 \r\nz\r\n\" id=\"DejaVuSans-53\"/>\r\n      </defs>\r\n      <g transform=\"translate(308.470312 239.238437)scale(0.1 -0.1)\">\r\n       <use xlink:href=\"#DejaVuSans-48\"/>\r\n       <use x=\"63.623047\" xlink:href=\"#DejaVuSans-46\"/>\r\n       <use x=\"95.410156\" xlink:href=\"#DejaVuSans-48\"/>\r\n       <use x=\"159.033203\" xlink:href=\"#DejaVuSans-48\"/>\r\n       <use x=\"222.65625\" xlink:href=\"#DejaVuSans-48\"/>\r\n       <use x=\"286.279297\" xlink:href=\"#DejaVuSans-53\"/>\r\n      </g>\r\n     </g>\r\n    </g>\r\n    <g id=\"xtick_7\">\r\n     <g id=\"line2d_7\">\r\n      <g>\r\n       <use style=\"stroke:#000000;stroke-width:0.8;\" x=\"381.765625\" xlink:href=\"#m806f32725d\" y=\"224.64\"/>\r\n      </g>\r\n     </g>\r\n     <g id=\"text_7\">\r\n      <!-- 0.0006 -->\r\n      <defs>\r\n       <path d=\"M 33.015625 40.375 \r\nQ 26.375 40.375 22.484375 35.828125 \r\nQ 18.609375 31.296875 18.609375 23.390625 \r\nQ 18.609375 15.53125 22.484375 10.953125 \r\nQ 26.375 6.390625 33.015625 6.390625 \r\nQ 39.65625 6.390625 43.53125 10.953125 \r\nQ 47.40625 15.53125 47.40625 23.390625 \r\nQ 47.40625 31.296875 43.53125 35.828125 \r\nQ 39.65625 40.375 33.015625 40.375 \r\nz\r\nM 52.59375 71.296875 \r\nL 52.59375 62.3125 \r\nQ 48.875 64.0625 45.09375 64.984375 \r\nQ 41.3125 65.921875 37.59375 65.921875 \r\nQ 27.828125 65.921875 22.671875 59.328125 \r\nQ 17.53125 52.734375 16.796875 39.40625 \r\nQ 19.671875 43.65625 24.015625 45.921875 \r\nQ 28.375 48.1875 33.59375 48.1875 \r\nQ 44.578125 48.1875 50.953125 41.515625 \r\nQ 57.328125 34.859375 57.328125 23.390625 \r\nQ 57.328125 12.15625 50.6875 5.359375 \r\nQ 44.046875 -1.421875 33.015625 -1.421875 \r\nQ 20.359375 -1.421875 13.671875 8.265625 \r\nQ 6.984375 17.96875 6.984375 36.375 \r\nQ 6.984375 53.65625 15.1875 63.9375 \r\nQ 23.390625 74.21875 37.203125 74.21875 \r\nQ 40.921875 74.21875 44.703125 73.484375 \r\nQ 48.484375 72.75 52.59375 71.296875 \r\nz\r\n\" id=\"DejaVuSans-54\"/>\r\n      </defs>\r\n      <g transform=\"translate(364.270312 239.238437)scale(0.1 -0.1)\">\r\n       <use xlink:href=\"#DejaVuSans-48\"/>\r\n       <use x=\"63.623047\" xlink:href=\"#DejaVuSans-46\"/>\r\n       <use x=\"95.410156\" xlink:href=\"#DejaVuSans-48\"/>\r\n       <use x=\"159.033203\" xlink:href=\"#DejaVuSans-48\"/>\r\n       <use x=\"222.65625\" xlink:href=\"#DejaVuSans-48\"/>\r\n       <use x=\"286.279297\" xlink:href=\"#DejaVuSans-54\"/>\r\n      </g>\r\n     </g>\r\n    </g>\r\n    <g id=\"text_8\">\r\n     <!-- Citable docs per Capita -->\r\n     <defs>\r\n      <path d=\"M 64.40625 67.28125 \r\nL 64.40625 56.890625 \r\nQ 59.421875 61.53125 53.78125 63.8125 \r\nQ 48.140625 66.109375 41.796875 66.109375 \r\nQ 29.296875 66.109375 22.65625 58.46875 \r\nQ 16.015625 50.828125 16.015625 36.375 \r\nQ 16.015625 21.96875 22.65625 14.328125 \r\nQ 29.296875 6.6875 41.796875 6.6875 \r\nQ 48.140625 6.6875 53.78125 8.984375 \r\nQ 59.421875 11.28125 64.40625 15.921875 \r\nL 64.40625 5.609375 \r\nQ 59.234375 2.09375 53.4375 0.328125 \r\nQ 47.65625 -1.421875 41.21875 -1.421875 \r\nQ 24.65625 -1.421875 15.125 8.703125 \r\nQ 5.609375 18.84375 5.609375 36.375 \r\nQ 5.609375 53.953125 15.125 64.078125 \r\nQ 24.65625 74.21875 41.21875 74.21875 \r\nQ 47.75 74.21875 53.53125 72.484375 \r\nQ 59.328125 70.75 64.40625 67.28125 \r\nz\r\n\" id=\"DejaVuSans-67\"/>\r\n      <path d=\"M 9.421875 54.6875 \r\nL 18.40625 54.6875 \r\nL 18.40625 0 \r\nL 9.421875 0 \r\nz\r\nM 9.421875 75.984375 \r\nL 18.40625 75.984375 \r\nL 18.40625 64.59375 \r\nL 9.421875 64.59375 \r\nz\r\n\" id=\"DejaVuSans-105\"/>\r\n      <path d=\"M 18.3125 70.21875 \r\nL 18.3125 54.6875 \r\nL 36.8125 54.6875 \r\nL 36.8125 47.703125 \r\nL 18.3125 47.703125 \r\nL 18.3125 18.015625 \r\nQ 18.3125 11.328125 20.140625 9.421875 \r\nQ 21.96875 7.515625 27.59375 7.515625 \r\nL 36.8125 7.515625 \r\nL 36.8125 0 \r\nL 27.59375 0 \r\nQ 17.1875 0 13.234375 3.875 \r\nQ 9.28125 7.765625 9.28125 18.015625 \r\nL 9.28125 47.703125 \r\nL 2.6875 47.703125 \r\nL 2.6875 54.6875 \r\nL 9.28125 54.6875 \r\nL 9.28125 70.21875 \r\nz\r\n\" id=\"DejaVuSans-116\"/>\r\n      <path d=\"M 34.28125 27.484375 \r\nQ 23.390625 27.484375 19.1875 25 \r\nQ 14.984375 22.515625 14.984375 16.5 \r\nQ 14.984375 11.71875 18.140625 8.90625 \r\nQ 21.296875 6.109375 26.703125 6.109375 \r\nQ 34.1875 6.109375 38.703125 11.40625 \r\nQ 43.21875 16.703125 43.21875 25.484375 \r\nL 43.21875 27.484375 \r\nz\r\nM 52.203125 31.203125 \r\nL 52.203125 0 \r\nL 43.21875 0 \r\nL 43.21875 8.296875 \r\nQ 40.140625 3.328125 35.546875 0.953125 \r\nQ 30.953125 -1.421875 24.3125 -1.421875 \r\nQ 15.921875 -1.421875 10.953125 3.296875 \r\nQ 6 8.015625 6 15.921875 \r\nQ 6 25.140625 12.171875 29.828125 \r\nQ 18.359375 34.515625 30.609375 34.515625 \r\nL 43.21875 34.515625 \r\nL 43.21875 35.40625 \r\nQ 43.21875 41.609375 39.140625 45 \r\nQ 35.0625 48.390625 27.6875 48.390625 \r\nQ 23 48.390625 18.546875 47.265625 \r\nQ 14.109375 46.140625 10.015625 43.890625 \r\nL 10.015625 52.203125 \r\nQ 14.9375 54.109375 19.578125 55.046875 \r\nQ 24.21875 56 28.609375 56 \r\nQ 40.484375 56 46.34375 49.84375 \r\nQ 52.203125 43.703125 52.203125 31.203125 \r\nz\r\n\" id=\"DejaVuSans-97\"/>\r\n      <path d=\"M 48.6875 27.296875 \r\nQ 48.6875 37.203125 44.609375 42.84375 \r\nQ 40.53125 48.484375 33.40625 48.484375 \r\nQ 26.265625 48.484375 22.1875 42.84375 \r\nQ 18.109375 37.203125 18.109375 27.296875 \r\nQ 18.109375 17.390625 22.1875 11.75 \r\nQ 26.265625 6.109375 33.40625 6.109375 \r\nQ 40.53125 6.109375 44.609375 11.75 \r\nQ 48.6875 17.390625 48.6875 27.296875 \r\nz\r\nM 18.109375 46.390625 \r\nQ 20.953125 51.265625 25.265625 53.625 \r\nQ 29.59375 56 35.59375 56 \r\nQ 45.5625 56 51.78125 48.09375 \r\nQ 58.015625 40.1875 58.015625 27.296875 \r\nQ 58.015625 14.40625 51.78125 6.484375 \r\nQ 45.5625 -1.421875 35.59375 -1.421875 \r\nQ 29.59375 -1.421875 25.265625 0.953125 \r\nQ 20.953125 3.328125 18.109375 8.203125 \r\nL 18.109375 0 \r\nL 9.078125 0 \r\nL 9.078125 75.984375 \r\nL 18.109375 75.984375 \r\nz\r\n\" id=\"DejaVuSans-98\"/>\r\n      <path d=\"M 9.421875 75.984375 \r\nL 18.40625 75.984375 \r\nL 18.40625 0 \r\nL 9.421875 0 \r\nz\r\n\" id=\"DejaVuSans-108\"/>\r\n      <path d=\"M 56.203125 29.59375 \r\nL 56.203125 25.203125 \r\nL 14.890625 25.203125 \r\nQ 15.484375 15.921875 20.484375 11.0625 \r\nQ 25.484375 6.203125 34.421875 6.203125 \r\nQ 39.59375 6.203125 44.453125 7.46875 \r\nQ 49.3125 8.734375 54.109375 11.28125 \r\nL 54.109375 2.78125 \r\nQ 49.265625 0.734375 44.1875 -0.34375 \r\nQ 39.109375 -1.421875 33.890625 -1.421875 \r\nQ 20.796875 -1.421875 13.15625 6.1875 \r\nQ 5.515625 13.8125 5.515625 26.8125 \r\nQ 5.515625 40.234375 12.765625 48.109375 \r\nQ 20.015625 56 32.328125 56 \r\nQ 43.359375 56 49.78125 48.890625 \r\nQ 56.203125 41.796875 56.203125 29.59375 \r\nz\r\nM 47.21875 32.234375 \r\nQ 47.125 39.59375 43.09375 43.984375 \r\nQ 39.0625 48.390625 32.421875 48.390625 \r\nQ 24.90625 48.390625 20.390625 44.140625 \r\nQ 15.875 39.890625 15.1875 32.171875 \r\nz\r\n\" id=\"DejaVuSans-101\"/>\r\n      <path id=\"DejaVuSans-32\"/>\r\n      <path d=\"M 45.40625 46.390625 \r\nL 45.40625 75.984375 \r\nL 54.390625 75.984375 \r\nL 54.390625 0 \r\nL 45.40625 0 \r\nL 45.40625 8.203125 \r\nQ 42.578125 3.328125 38.25 0.953125 \r\nQ 33.9375 -1.421875 27.875 -1.421875 \r\nQ 17.96875 -1.421875 11.734375 6.484375 \r\nQ 5.515625 14.40625 5.515625 27.296875 \r\nQ 5.515625 40.1875 11.734375 48.09375 \r\nQ 17.96875 56 27.875 56 \r\nQ 33.9375 56 38.25 53.625 \r\nQ 42.578125 51.265625 45.40625 46.390625 \r\nz\r\nM 14.796875 27.296875 \r\nQ 14.796875 17.390625 18.875 11.75 \r\nQ 22.953125 6.109375 30.078125 6.109375 \r\nQ 37.203125 6.109375 41.296875 11.75 \r\nQ 45.40625 17.390625 45.40625 27.296875 \r\nQ 45.40625 37.203125 41.296875 42.84375 \r\nQ 37.203125 48.484375 30.078125 48.484375 \r\nQ 22.953125 48.484375 18.875 42.84375 \r\nQ 14.796875 37.203125 14.796875 27.296875 \r\nz\r\n\" id=\"DejaVuSans-100\"/>\r\n      <path d=\"M 30.609375 48.390625 \r\nQ 23.390625 48.390625 19.1875 42.75 \r\nQ 14.984375 37.109375 14.984375 27.296875 \r\nQ 14.984375 17.484375 19.15625 11.84375 \r\nQ 23.34375 6.203125 30.609375 6.203125 \r\nQ 37.796875 6.203125 41.984375 11.859375 \r\nQ 46.1875 17.53125 46.1875 27.296875 \r\nQ 46.1875 37.015625 41.984375 42.703125 \r\nQ 37.796875 48.390625 30.609375 48.390625 \r\nz\r\nM 30.609375 56 \r\nQ 42.328125 56 49.015625 48.375 \r\nQ 55.71875 40.765625 55.71875 27.296875 \r\nQ 55.71875 13.875 49.015625 6.21875 \r\nQ 42.328125 -1.421875 30.609375 -1.421875 \r\nQ 18.84375 -1.421875 12.171875 6.21875 \r\nQ 5.515625 13.875 5.515625 27.296875 \r\nQ 5.515625 40.765625 12.171875 48.375 \r\nQ 18.84375 56 30.609375 56 \r\nz\r\n\" id=\"DejaVuSans-111\"/>\r\n      <path d=\"M 48.78125 52.59375 \r\nL 48.78125 44.1875 \r\nQ 44.96875 46.296875 41.140625 47.34375 \r\nQ 37.3125 48.390625 33.40625 48.390625 \r\nQ 24.65625 48.390625 19.8125 42.84375 \r\nQ 14.984375 37.3125 14.984375 27.296875 \r\nQ 14.984375 17.28125 19.8125 11.734375 \r\nQ 24.65625 6.203125 33.40625 6.203125 \r\nQ 37.3125 6.203125 41.140625 7.25 \r\nQ 44.96875 8.296875 48.78125 10.40625 \r\nL 48.78125 2.09375 \r\nQ 45.015625 0.34375 40.984375 -0.53125 \r\nQ 36.96875 -1.421875 32.421875 -1.421875 \r\nQ 20.0625 -1.421875 12.78125 6.34375 \r\nQ 5.515625 14.109375 5.515625 27.296875 \r\nQ 5.515625 40.671875 12.859375 48.328125 \r\nQ 20.21875 56 33.015625 56 \r\nQ 37.15625 56 41.109375 55.140625 \r\nQ 45.0625 54.296875 48.78125 52.59375 \r\nz\r\n\" id=\"DejaVuSans-99\"/>\r\n      <path d=\"M 44.28125 53.078125 \r\nL 44.28125 44.578125 \r\nQ 40.484375 46.53125 36.375 47.5 \r\nQ 32.28125 48.484375 27.875 48.484375 \r\nQ 21.1875 48.484375 17.84375 46.4375 \r\nQ 14.5 44.390625 14.5 40.28125 \r\nQ 14.5 37.15625 16.890625 35.375 \r\nQ 19.28125 33.59375 26.515625 31.984375 \r\nL 29.59375 31.296875 \r\nQ 39.15625 29.25 43.1875 25.515625 \r\nQ 47.21875 21.78125 47.21875 15.09375 \r\nQ 47.21875 7.46875 41.1875 3.015625 \r\nQ 35.15625 -1.421875 24.609375 -1.421875 \r\nQ 20.21875 -1.421875 15.453125 -0.5625 \r\nQ 10.6875 0.296875 5.421875 2 \r\nL 5.421875 11.28125 \r\nQ 10.40625 8.6875 15.234375 7.390625 \r\nQ 20.0625 6.109375 24.8125 6.109375 \r\nQ 31.15625 6.109375 34.5625 8.28125 \r\nQ 37.984375 10.453125 37.984375 14.40625 \r\nQ 37.984375 18.0625 35.515625 20.015625 \r\nQ 33.0625 21.96875 24.703125 23.78125 \r\nL 21.578125 24.515625 \r\nQ 13.234375 26.265625 9.515625 29.90625 \r\nQ 5.8125 33.546875 5.8125 39.890625 \r\nQ 5.8125 47.609375 11.28125 51.796875 \r\nQ 16.75 56 26.8125 56 \r\nQ 31.78125 56 36.171875 55.265625 \r\nQ 40.578125 54.546875 44.28125 53.078125 \r\nz\r\n\" id=\"DejaVuSans-115\"/>\r\n      <path d=\"M 18.109375 8.203125 \r\nL 18.109375 -20.796875 \r\nL 9.078125 -20.796875 \r\nL 9.078125 54.6875 \r\nL 18.109375 54.6875 \r\nL 18.109375 46.390625 \r\nQ 20.953125 51.265625 25.265625 53.625 \r\nQ 29.59375 56 35.59375 56 \r\nQ 45.5625 56 51.78125 48.09375 \r\nQ 58.015625 40.1875 58.015625 27.296875 \r\nQ 58.015625 14.40625 51.78125 6.484375 \r\nQ 45.5625 -1.421875 35.59375 -1.421875 \r\nQ 29.59375 -1.421875 25.265625 0.953125 \r\nQ 20.953125 3.328125 18.109375 8.203125 \r\nz\r\nM 48.6875 27.296875 \r\nQ 48.6875 37.203125 44.609375 42.84375 \r\nQ 40.53125 48.484375 33.40625 48.484375 \r\nQ 26.265625 48.484375 22.1875 42.84375 \r\nQ 18.109375 37.203125 18.109375 27.296875 \r\nQ 18.109375 17.390625 22.1875 11.75 \r\nQ 26.265625 6.109375 33.40625 6.109375 \r\nQ 40.53125 6.109375 44.609375 11.75 \r\nQ 48.6875 17.390625 48.6875 27.296875 \r\nz\r\n\" id=\"DejaVuSans-112\"/>\r\n      <path d=\"M 41.109375 46.296875 \r\nQ 39.59375 47.171875 37.8125 47.578125 \r\nQ 36.03125 48 33.890625 48 \r\nQ 26.265625 48 22.1875 43.046875 \r\nQ 18.109375 38.09375 18.109375 28.8125 \r\nL 18.109375 0 \r\nL 9.078125 0 \r\nL 9.078125 54.6875 \r\nL 18.109375 54.6875 \r\nL 18.109375 46.1875 \r\nQ 20.953125 51.171875 25.484375 53.578125 \r\nQ 30.03125 56 36.53125 56 \r\nQ 37.453125 56 38.578125 55.875 \r\nQ 39.703125 55.765625 41.0625 55.515625 \r\nz\r\n\" id=\"DejaVuSans-114\"/>\r\n     </defs>\r\n     <g transform=\"translate(156.017188 252.916562)scale(0.1 -0.1)\">\r\n      <use xlink:href=\"#DejaVuSans-67\"/>\r\n      <use x=\"69.824219\" xlink:href=\"#DejaVuSans-105\"/>\r\n      <use x=\"97.607422\" xlink:href=\"#DejaVuSans-116\"/>\r\n      <use x=\"136.816406\" xlink:href=\"#DejaVuSans-97\"/>\r\n      <use x=\"198.095703\" xlink:href=\"#DejaVuSans-98\"/>\r\n      <use x=\"261.572266\" xlink:href=\"#DejaVuSans-108\"/>\r\n      <use x=\"289.355469\" xlink:href=\"#DejaVuSans-101\"/>\r\n      <use x=\"350.878906\" xlink:href=\"#DejaVuSans-32\"/>\r\n      <use x=\"382.666016\" xlink:href=\"#DejaVuSans-100\"/>\r\n      <use x=\"446.142578\" xlink:href=\"#DejaVuSans-111\"/>\r\n      <use x=\"507.324219\" xlink:href=\"#DejaVuSans-99\"/>\r\n      <use x=\"562.304688\" xlink:href=\"#DejaVuSans-115\"/>\r\n      <use x=\"614.404297\" xlink:href=\"#DejaVuSans-32\"/>\r\n      <use x=\"646.191406\" xlink:href=\"#DejaVuSans-112\"/>\r\n      <use x=\"709.667969\" xlink:href=\"#DejaVuSans-101\"/>\r\n      <use x=\"771.191406\" xlink:href=\"#DejaVuSans-114\"/>\r\n      <use x=\"812.304688\" xlink:href=\"#DejaVuSans-32\"/>\r\n      <use x=\"844.091797\" xlink:href=\"#DejaVuSans-67\"/>\r\n      <use x=\"913.916016\" xlink:href=\"#DejaVuSans-97\"/>\r\n      <use x=\"975.195312\" xlink:href=\"#DejaVuSans-112\"/>\r\n      <use x=\"1038.671875\" xlink:href=\"#DejaVuSans-105\"/>\r\n      <use x=\"1066.455078\" xlink:href=\"#DejaVuSans-116\"/>\r\n      <use x=\"1105.664062\" xlink:href=\"#DejaVuSans-97\"/>\r\n     </g>\r\n    </g>\r\n   </g>\r\n   <g id=\"matplotlib.axis_2\">\r\n    <g id=\"ytick_1\">\r\n     <g id=\"line2d_8\">\r\n      <defs>\r\n       <path d=\"M 0 0 \r\nL -3.5 0 \r\n\" id=\"m35e53609a4\" style=\"stroke:#000000;stroke-width:0.8;\"/>\r\n      </defs>\r\n      <g>\r\n       <use style=\"stroke:#000000;stroke-width:0.8;\" x=\"46.965625\" xlink:href=\"#m35e53609a4\" y=\"197.185455\"/>\r\n      </g>\r\n     </g>\r\n     <g id=\"text_9\">\r\n      <!-- 50 -->\r\n      <g transform=\"translate(27.240625 200.984673)scale(0.1 -0.1)\">\r\n       <use xlink:href=\"#DejaVuSans-53\"/>\r\n       <use x=\"63.623047\" xlink:href=\"#DejaVuSans-48\"/>\r\n      </g>\r\n     </g>\r\n    </g>\r\n    <g id=\"ytick_2\">\r\n     <g id=\"line2d_9\">\r\n      <g>\r\n       <use style=\"stroke:#000000;stroke-width:0.8;\" x=\"46.965625\" xlink:href=\"#m35e53609a4\" y=\"160.579394\"/>\r\n      </g>\r\n     </g>\r\n     <g id=\"text_10\">\r\n      <!-- 100 -->\r\n      <g transform=\"translate(20.878125 164.378613)scale(0.1 -0.1)\">\r\n       <use xlink:href=\"#DejaVuSans-49\"/>\r\n       <use x=\"63.623047\" xlink:href=\"#DejaVuSans-48\"/>\r\n       <use x=\"127.246094\" xlink:href=\"#DejaVuSans-48\"/>\r\n      </g>\r\n     </g>\r\n    </g>\r\n    <g id=\"ytick_3\">\r\n     <g id=\"line2d_10\">\r\n      <g>\r\n       <use style=\"stroke:#000000;stroke-width:0.8;\" x=\"46.965625\" xlink:href=\"#m35e53609a4\" y=\"123.973333\"/>\r\n      </g>\r\n     </g>\r\n     <g id=\"text_11\">\r\n      <!-- 150 -->\r\n      <g transform=\"translate(20.878125 127.772552)scale(0.1 -0.1)\">\r\n       <use xlink:href=\"#DejaVuSans-49\"/>\r\n       <use x=\"63.623047\" xlink:href=\"#DejaVuSans-53\"/>\r\n       <use x=\"127.246094\" xlink:href=\"#DejaVuSans-48\"/>\r\n      </g>\r\n     </g>\r\n    </g>\r\n    <g id=\"ytick_4\">\r\n     <g id=\"line2d_11\">\r\n      <g>\r\n       <use style=\"stroke:#000000;stroke-width:0.8;\" x=\"46.965625\" xlink:href=\"#m35e53609a4\" y=\"87.367273\"/>\r\n      </g>\r\n     </g>\r\n     <g id=\"text_12\">\r\n      <!-- 200 -->\r\n      <g transform=\"translate(20.878125 91.166491)scale(0.1 -0.1)\">\r\n       <use xlink:href=\"#DejaVuSans-50\"/>\r\n       <use x=\"63.623047\" xlink:href=\"#DejaVuSans-48\"/>\r\n       <use x=\"127.246094\" xlink:href=\"#DejaVuSans-48\"/>\r\n      </g>\r\n     </g>\r\n    </g>\r\n    <g id=\"ytick_5\">\r\n     <g id=\"line2d_12\">\r\n      <g>\r\n       <use style=\"stroke:#000000;stroke-width:0.8;\" x=\"46.965625\" xlink:href=\"#m35e53609a4\" y=\"50.761212\"/>\r\n      </g>\r\n     </g>\r\n     <g id=\"text_13\">\r\n      <!-- 250 -->\r\n      <g transform=\"translate(20.878125 54.560431)scale(0.1 -0.1)\">\r\n       <use xlink:href=\"#DejaVuSans-50\"/>\r\n       <use x=\"63.623047\" xlink:href=\"#DejaVuSans-53\"/>\r\n       <use x=\"127.246094\" xlink:href=\"#DejaVuSans-48\"/>\r\n      </g>\r\n     </g>\r\n    </g>\r\n    <g id=\"ytick_6\">\r\n     <g id=\"line2d_13\">\r\n      <g>\r\n       <use style=\"stroke:#000000;stroke-width:0.8;\" x=\"46.965625\" xlink:href=\"#m35e53609a4\" y=\"14.155152\"/>\r\n      </g>\r\n     </g>\r\n     <g id=\"text_14\">\r\n      <!-- 300 -->\r\n      <g transform=\"translate(20.878125 17.95437)scale(0.1 -0.1)\">\r\n       <use xlink:href=\"#DejaVuSans-51\"/>\r\n       <use x=\"63.623047\" xlink:href=\"#DejaVuSans-48\"/>\r\n       <use x=\"127.246094\" xlink:href=\"#DejaVuSans-48\"/>\r\n      </g>\r\n     </g>\r\n    </g>\r\n    <g id=\"text_15\">\r\n     <!-- Energy Supply per Capita -->\r\n     <defs>\r\n      <path d=\"M 9.8125 72.90625 \r\nL 55.90625 72.90625 \r\nL 55.90625 64.59375 \r\nL 19.671875 64.59375 \r\nL 19.671875 43.015625 \r\nL 54.390625 43.015625 \r\nL 54.390625 34.71875 \r\nL 19.671875 34.71875 \r\nL 19.671875 8.296875 \r\nL 56.78125 8.296875 \r\nL 56.78125 0 \r\nL 9.8125 0 \r\nz\r\n\" id=\"DejaVuSans-69\"/>\r\n      <path d=\"M 54.890625 33.015625 \r\nL 54.890625 0 \r\nL 45.90625 0 \r\nL 45.90625 32.71875 \r\nQ 45.90625 40.484375 42.875 44.328125 \r\nQ 39.84375 48.1875 33.796875 48.1875 \r\nQ 26.515625 48.1875 22.3125 43.546875 \r\nQ 18.109375 38.921875 18.109375 30.90625 \r\nL 18.109375 0 \r\nL 9.078125 0 \r\nL 9.078125 54.6875 \r\nL 18.109375 54.6875 \r\nL 18.109375 46.1875 \r\nQ 21.34375 51.125 25.703125 53.5625 \r\nQ 30.078125 56 35.796875 56 \r\nQ 45.21875 56 50.046875 50.171875 \r\nQ 54.890625 44.34375 54.890625 33.015625 \r\nz\r\n\" id=\"DejaVuSans-110\"/>\r\n      <path d=\"M 45.40625 27.984375 \r\nQ 45.40625 37.75 41.375 43.109375 \r\nQ 37.359375 48.484375 30.078125 48.484375 \r\nQ 22.859375 48.484375 18.828125 43.109375 \r\nQ 14.796875 37.75 14.796875 27.984375 \r\nQ 14.796875 18.265625 18.828125 12.890625 \r\nQ 22.859375 7.515625 30.078125 7.515625 \r\nQ 37.359375 7.515625 41.375 12.890625 \r\nQ 45.40625 18.265625 45.40625 27.984375 \r\nz\r\nM 54.390625 6.78125 \r\nQ 54.390625 -7.171875 48.1875 -13.984375 \r\nQ 42 -20.796875 29.203125 -20.796875 \r\nQ 24.46875 -20.796875 20.265625 -20.09375 \r\nQ 16.0625 -19.390625 12.109375 -17.921875 \r\nL 12.109375 -9.1875 \r\nQ 16.0625 -11.328125 19.921875 -12.34375 \r\nQ 23.78125 -13.375 27.78125 -13.375 \r\nQ 36.625 -13.375 41.015625 -8.765625 \r\nQ 45.40625 -4.15625 45.40625 5.171875 \r\nL 45.40625 9.625 \r\nQ 42.625 4.78125 38.28125 2.390625 \r\nQ 33.9375 0 27.875 0 \r\nQ 17.828125 0 11.671875 7.65625 \r\nQ 5.515625 15.328125 5.515625 27.984375 \r\nQ 5.515625 40.671875 11.671875 48.328125 \r\nQ 17.828125 56 27.875 56 \r\nQ 33.9375 56 38.28125 53.609375 \r\nQ 42.625 51.21875 45.40625 46.390625 \r\nL 45.40625 54.6875 \r\nL 54.390625 54.6875 \r\nz\r\n\" id=\"DejaVuSans-103\"/>\r\n      <path d=\"M 32.171875 -5.078125 \r\nQ 28.375 -14.84375 24.75 -17.8125 \r\nQ 21.140625 -20.796875 15.09375 -20.796875 \r\nL 7.90625 -20.796875 \r\nL 7.90625 -13.28125 \r\nL 13.1875 -13.28125 \r\nQ 16.890625 -13.28125 18.9375 -11.515625 \r\nQ 21 -9.765625 23.484375 -3.21875 \r\nL 25.09375 0.875 \r\nL 2.984375 54.6875 \r\nL 12.5 54.6875 \r\nL 29.59375 11.921875 \r\nL 46.6875 54.6875 \r\nL 56.203125 54.6875 \r\nz\r\n\" id=\"DejaVuSans-121\"/>\r\n      <path d=\"M 53.515625 70.515625 \r\nL 53.515625 60.890625 \r\nQ 47.90625 63.578125 42.921875 64.890625 \r\nQ 37.9375 66.21875 33.296875 66.21875 \r\nQ 25.25 66.21875 20.875 63.09375 \r\nQ 16.5 59.96875 16.5 54.203125 \r\nQ 16.5 49.359375 19.40625 46.890625 \r\nQ 22.3125 44.4375 30.421875 42.921875 \r\nL 36.375 41.703125 \r\nQ 47.40625 39.59375 52.65625 34.296875 \r\nQ 57.90625 29 57.90625 20.125 \r\nQ 57.90625 9.515625 50.796875 4.046875 \r\nQ 43.703125 -1.421875 29.984375 -1.421875 \r\nQ 24.8125 -1.421875 18.96875 -0.25 \r\nQ 13.140625 0.921875 6.890625 3.21875 \r\nL 6.890625 13.375 \r\nQ 12.890625 10.015625 18.65625 8.296875 \r\nQ 24.421875 6.59375 29.984375 6.59375 \r\nQ 38.421875 6.59375 43.015625 9.90625 \r\nQ 47.609375 13.234375 47.609375 19.390625 \r\nQ 47.609375 24.75 44.3125 27.78125 \r\nQ 41.015625 30.8125 33.5 32.328125 \r\nL 27.484375 33.5 \r\nQ 16.453125 35.6875 11.515625 40.375 \r\nQ 6.59375 45.0625 6.59375 53.421875 \r\nQ 6.59375 63.09375 13.40625 68.65625 \r\nQ 20.21875 74.21875 32.171875 74.21875 \r\nQ 37.3125 74.21875 42.625 73.28125 \r\nQ 47.953125 72.359375 53.515625 70.515625 \r\nz\r\n\" id=\"DejaVuSans-83\"/>\r\n      <path d=\"M 8.5 21.578125 \r\nL 8.5 54.6875 \r\nL 17.484375 54.6875 \r\nL 17.484375 21.921875 \r\nQ 17.484375 14.15625 20.5 10.265625 \r\nQ 23.53125 6.390625 29.59375 6.390625 \r\nQ 36.859375 6.390625 41.078125 11.03125 \r\nQ 45.3125 15.671875 45.3125 23.6875 \r\nL 45.3125 54.6875 \r\nL 54.296875 54.6875 \r\nL 54.296875 0 \r\nL 45.3125 0 \r\nL 45.3125 8.40625 \r\nQ 42.046875 3.421875 37.71875 1 \r\nQ 33.40625 -1.421875 27.6875 -1.421875 \r\nQ 18.265625 -1.421875 13.375 4.4375 \r\nQ 8.5 10.296875 8.5 21.578125 \r\nz\r\nM 31.109375 56 \r\nz\r\n\" id=\"DejaVuSans-117\"/>\r\n     </defs>\r\n     <g transform=\"translate(14.798438 179.6825)rotate(-90)scale(0.1 -0.1)\">\r\n      <use xlink:href=\"#DejaVuSans-69\"/>\r\n      <use x=\"63.183594\" xlink:href=\"#DejaVuSans-110\"/>\r\n      <use x=\"126.5625\" xlink:href=\"#DejaVuSans-101\"/>\r\n      <use x=\"188.085938\" xlink:href=\"#DejaVuSans-114\"/>\r\n      <use x=\"227.449219\" xlink:href=\"#DejaVuSans-103\"/>\r\n      <use x=\"290.925781\" xlink:href=\"#DejaVuSans-121\"/>\r\n      <use x=\"350.105469\" xlink:href=\"#DejaVuSans-32\"/>\r\n      <use x=\"381.892578\" xlink:href=\"#DejaVuSans-83\"/>\r\n      <use x=\"445.369141\" xlink:href=\"#DejaVuSans-117\"/>\r\n      <use x=\"508.748047\" xlink:href=\"#DejaVuSans-112\"/>\r\n      <use x=\"572.224609\" xlink:href=\"#DejaVuSans-112\"/>\r\n      <use x=\"635.701172\" xlink:href=\"#DejaVuSans-108\"/>\r\n      <use x=\"663.484375\" xlink:href=\"#DejaVuSans-121\"/>\r\n      <use x=\"722.664062\" xlink:href=\"#DejaVuSans-32\"/>\r\n      <use x=\"754.451172\" xlink:href=\"#DejaVuSans-112\"/>\r\n      <use x=\"817.927734\" xlink:href=\"#DejaVuSans-101\"/>\r\n      <use x=\"879.451172\" xlink:href=\"#DejaVuSans-114\"/>\r\n      <use x=\"920.564453\" xlink:href=\"#DejaVuSans-32\"/>\r\n      <use x=\"952.351562\" xlink:href=\"#DejaVuSans-67\"/>\r\n      <use x=\"1022.175781\" xlink:href=\"#DejaVuSans-97\"/>\r\n      <use x=\"1083.455078\" xlink:href=\"#DejaVuSans-112\"/>\r\n      <use x=\"1146.931641\" xlink:href=\"#DejaVuSans-105\"/>\r\n      <use x=\"1174.714844\" xlink:href=\"#DejaVuSans-116\"/>\r\n      <use x=\"1213.923828\" xlink:href=\"#DejaVuSans-97\"/>\r\n     </g>\r\n    </g>\r\n   </g>\r\n   <g id=\"patch_3\">\r\n    <path d=\"M 46.965625 224.64 \r\nL 46.965625 7.2 \r\n\" style=\"fill:none;stroke:#000000;stroke-linecap:square;stroke-linejoin:miter;stroke-width:0.8;\"/>\r\n   </g>\r\n   <g id=\"patch_4\">\r\n    <path d=\"M 381.765625 224.64 \r\nL 381.765625 7.2 \r\n\" style=\"fill:none;stroke:#000000;stroke-linecap:square;stroke-linejoin:miter;stroke-width:0.8;\"/>\r\n   </g>\r\n   <g id=\"patch_5\">\r\n    <path d=\"M 46.965625 224.64 \r\nL 381.765625 224.64 \r\n\" style=\"fill:none;stroke:#000000;stroke-linecap:square;stroke-linejoin:miter;stroke-width:0.8;\"/>\r\n   </g>\r\n   <g id=\"patch_6\">\r\n    <path d=\"M 46.965625 7.2 \r\nL 381.765625 7.2 \r\n\" style=\"fill:none;stroke:#000000;stroke-linecap:square;stroke-linejoin:miter;stroke-width:0.8;\"/>\r\n   </g>\r\n  </g>\r\n </g>\r\n <defs>\r\n  <clipPath id=\"p8445502c12\">\r\n   <rect height=\"217.44\" width=\"334.8\" x=\"46.965625\" y=\"7.2\"/>\r\n  </clipPath>\r\n </defs>\r\n</svg>\r\n",
      "image/png": "[encoded data removed]"
     },
     "metadata": {
      "needs_background": "light"
     }
    }
   ],
   "source": [
    "# Nomor 9 (PLOT)\n",
    "\n",
    "import matplotlib.pyplot as plt\n",
    "\n",
    "Top15['PopEst'] = Top15['Energy Supply'] / Top15['Energy Supply per Capita']\n",
    "Top15['Citable docs per Capita'] = Top15['Citable documents'] / Top15['PopEst']\n",
    "Top15.plot(x='Citable docs per Capita', y='Energy Supply per Capita', kind='scatter', xlim=[0, 0.0006])"
   ]
  },
  {
   "cell_type": "markdown",
   "metadata": {},
   "source": []
  },
  {
   "cell_type": "code",
   "execution_count": 95,
   "metadata": {},
   "outputs": [
    {
     "output_type": "execute_result",
     "data": {
      "text/plain": "True"
     },
     "metadata": {},
     "execution_count": 95
    }
   ],
   "source": [
    "# ICE BREAKING\n",
    "\n",
    "# Median versi ribet\n",
    "Top15 = df\n",
    "median_ribet = Top15.iloc[round(len(Top15['% Renewable'])/2)]['% Renewable']\n",
    "#######################\n",
    "\n",
    "# Median versi simple\n",
    "\n",
    "Top15 = df\n",
    "median_simple = Top15['% Renewable'].median()\n",
    "\n",
    "median_simple == median_ribet"
   ]
  },
  {
   "cell_type": "code",
   "execution_count": 107,
   "metadata": {},
   "outputs": [
    {
     "output_type": "execute_result",
     "data": {
      "text/plain": "Country\nAustralia             0\nBrazil                1\nCanada                1\nChina                 1\nFrance                1\nGermany               1\nIndia                 0\nIran                  0\nItaly                 1\nJapan                 0\nRussian Federation    1\nSouth Korea           0\nSpain                 1\nUnited Kingdom        0\nUnited States         0\nName: HighRenew, dtype: int64"
     },
     "metadata": {},
     "execution_count": 107
    }
   ],
   "source": [
    "# Nomor 10\n",
    "\n",
    "Top15 = df\n",
    "Top15['HighRenew'] = [1 if x >= Top15['% Renewable'].median() else 0 for x in Top15['% Renewable']]\n",
    "Top15['HighRenew'].sort_index()"
   ]
  },
  {
   "cell_type": "code",
   "execution_count": 110,
   "metadata": {},
   "outputs": [
    {
     "output_type": "error",
     "ename": "SpecificationError",
     "evalue": "nested renamer is not supported",
     "traceback": [
      "\u001b[1;31m---------------------------------------------------------------------------\u001b[0m",
      "\u001b[1;31mSpecificationError\u001b[0m                        Traceback (most recent call last)",
      "\u001b[1;32m<ipython-input-110-5e5155f27f32>\u001b[0m in \u001b[0;36m<module>\u001b[1;34m\u001b[0m\n\u001b[0;32m     22\u001b[0m \u001b[0mTop15\u001b[0m \u001b[1;33m=\u001b[0m \u001b[0mTop15\u001b[0m\u001b[1;33m.\u001b[0m\u001b[0mreset_index\u001b[0m\u001b[1;33m(\u001b[0m\u001b[1;33m)\u001b[0m\u001b[1;33m\u001b[0m\u001b[1;33m\u001b[0m\u001b[0m\n\u001b[0;32m     23\u001b[0m \u001b[0mTop15\u001b[0m\u001b[1;33m[\u001b[0m\u001b[1;34m'Continent'\u001b[0m\u001b[1;33m]\u001b[0m \u001b[1;33m=\u001b[0m \u001b[1;33m[\u001b[0m\u001b[0mContinentDict\u001b[0m\u001b[1;33m[\u001b[0m\u001b[0mcountry\u001b[0m\u001b[1;33m]\u001b[0m \u001b[1;32mfor\u001b[0m \u001b[0mcountry\u001b[0m \u001b[1;32min\u001b[0m \u001b[0mTop15\u001b[0m\u001b[1;33m[\u001b[0m\u001b[1;34m'Country'\u001b[0m\u001b[1;33m]\u001b[0m\u001b[1;33m]\u001b[0m\u001b[1;33m\u001b[0m\u001b[1;33m\u001b[0m\u001b[0m\n\u001b[1;32m---> 24\u001b[1;33m \u001b[0manswer\u001b[0m \u001b[1;33m=\u001b[0m \u001b[0mTop15\u001b[0m\u001b[1;33m.\u001b[0m\u001b[0mset_index\u001b[0m\u001b[1;33m(\u001b[0m\u001b[1;34m'Continent'\u001b[0m\u001b[1;33m)\u001b[0m\u001b[1;33m.\u001b[0m\u001b[0mgroupby\u001b[0m\u001b[1;33m(\u001b[0m\u001b[0mlevel\u001b[0m\u001b[1;33m=\u001b[0m\u001b[1;36m0\u001b[0m\u001b[1;33m)\u001b[0m\u001b[1;33m[\u001b[0m\u001b[1;34m'PopEst'\u001b[0m\u001b[1;33m]\u001b[0m\u001b[1;33m.\u001b[0m\u001b[0magg\u001b[0m\u001b[1;33m(\u001b[0m\u001b[1;33m{\u001b[0m\u001b[1;34m'size'\u001b[0m\u001b[1;33m:\u001b[0m \u001b[0mnp\u001b[0m\u001b[1;33m.\u001b[0m\u001b[0msize\u001b[0m\u001b[1;33m,\u001b[0m \u001b[1;34m'sum'\u001b[0m\u001b[1;33m:\u001b[0m \u001b[0mnp\u001b[0m\u001b[1;33m.\u001b[0m\u001b[0msum\u001b[0m\u001b[1;33m,\u001b[0m \u001b[1;34m'mean'\u001b[0m\u001b[1;33m:\u001b[0m \u001b[0mnp\u001b[0m\u001b[1;33m.\u001b[0m\u001b[0mmean\u001b[0m\u001b[1;33m,\u001b[0m\u001b[1;34m'std'\u001b[0m\u001b[1;33m:\u001b[0m \u001b[0mnp\u001b[0m\u001b[1;33m.\u001b[0m\u001b[0mstd\u001b[0m\u001b[1;33m}\u001b[0m\u001b[1;33m)\u001b[0m\u001b[1;33m\u001b[0m\u001b[1;33m\u001b[0m\u001b[0m\n\u001b[0m\u001b[0;32m     25\u001b[0m \u001b[0manswer\u001b[0m\u001b[1;33m\u001b[0m\u001b[1;33m\u001b[0m\u001b[0m\n\u001b[0;32m     26\u001b[0m \u001b[1;33m\u001b[0m\u001b[0m\n",
      "\u001b[1;32mD:\\anaconda3\\lib\\site-packages\\pandas\\core\\groupby\\generic.py\u001b[0m in \u001b[0;36maggregate\u001b[1;34m(self, func, *args, **kwargs)\u001b[0m\n\u001b[0;32m    251\u001b[0m             \u001b[1;31m# but not the class list / tuple itself.\u001b[0m\u001b[1;33m\u001b[0m\u001b[1;33m\u001b[0m\u001b[1;33m\u001b[0m\u001b[0m\n\u001b[0;32m    252\u001b[0m             \u001b[0mfunc\u001b[0m \u001b[1;33m=\u001b[0m \u001b[0m_maybe_mangle_lambdas\u001b[0m\u001b[1;33m(\u001b[0m\u001b[0mfunc\u001b[0m\u001b[1;33m)\u001b[0m\u001b[1;33m\u001b[0m\u001b[1;33m\u001b[0m\u001b[0m\n\u001b[1;32m--> 253\u001b[1;33m             \u001b[0mret\u001b[0m \u001b[1;33m=\u001b[0m \u001b[0mself\u001b[0m\u001b[1;33m.\u001b[0m\u001b[0m_aggregate_multiple_funcs\u001b[0m\u001b[1;33m(\u001b[0m\u001b[0mfunc\u001b[0m\u001b[1;33m)\u001b[0m\u001b[1;33m\u001b[0m\u001b[1;33m\u001b[0m\u001b[0m\n\u001b[0m\u001b[0;32m    254\u001b[0m             \u001b[1;32mif\u001b[0m \u001b[0mrelabeling\u001b[0m\u001b[1;33m:\u001b[0m\u001b[1;33m\u001b[0m\u001b[1;33m\u001b[0m\u001b[0m\n\u001b[0;32m    255\u001b[0m                 \u001b[0mret\u001b[0m\u001b[1;33m.\u001b[0m\u001b[0mcolumns\u001b[0m \u001b[1;33m=\u001b[0m \u001b[0mcolumns\u001b[0m\u001b[1;33m\u001b[0m\u001b[1;33m\u001b[0m\u001b[0m\n",
      "\u001b[1;32mD:\\anaconda3\\lib\\site-packages\\pandas\\core\\groupby\\generic.py\u001b[0m in \u001b[0;36m_aggregate_multiple_funcs\u001b[1;34m(self, arg)\u001b[0m\n\u001b[0;32m    292\u001b[0m             \u001b[1;31m# GH 15931\u001b[0m\u001b[1;33m\u001b[0m\u001b[1;33m\u001b[0m\u001b[1;33m\u001b[0m\u001b[0m\n\u001b[0;32m    293\u001b[0m             \u001b[1;32mif\u001b[0m \u001b[0misinstance\u001b[0m\u001b[1;33m(\u001b[0m\u001b[0mself\u001b[0m\u001b[1;33m.\u001b[0m\u001b[0m_selected_obj\u001b[0m\u001b[1;33m,\u001b[0m \u001b[0mSeries\u001b[0m\u001b[1;33m)\u001b[0m\u001b[1;33m:\u001b[0m\u001b[1;33m\u001b[0m\u001b[1;33m\u001b[0m\u001b[0m\n\u001b[1;32m--> 294\u001b[1;33m                 \u001b[1;32mraise\u001b[0m \u001b[0mSpecificationError\u001b[0m\u001b[1;33m(\u001b[0m\u001b[1;34m\"nested renamer is not supported\"\u001b[0m\u001b[1;33m)\u001b[0m\u001b[1;33m\u001b[0m\u001b[1;33m\u001b[0m\u001b[0m\n\u001b[0m\u001b[0;32m    295\u001b[0m \u001b[1;33m\u001b[0m\u001b[0m\n\u001b[0;32m    296\u001b[0m             \u001b[0mcolumns\u001b[0m \u001b[1;33m=\u001b[0m \u001b[0mlist\u001b[0m\u001b[1;33m(\u001b[0m\u001b[0marg\u001b[0m\u001b[1;33m.\u001b[0m\u001b[0mkeys\u001b[0m\u001b[1;33m(\u001b[0m\u001b[1;33m)\u001b[0m\u001b[1;33m)\u001b[0m\u001b[1;33m\u001b[0m\u001b[1;33m\u001b[0m\u001b[0m\n",
      "\u001b[1;31mSpecificationError\u001b[0m: nested renamer is not supported"
     ]
    }
   ],
   "source": [
    "# Nomor 11\n",
    "\n",
    "Top15 = df\n",
    "\n",
    "    ContinentDict  = {'China':'Asia', \n",
    "                    'United States':'North America', \n",
    "                    'Japan':'Asia', \n",
    "                    'United Kingdom':'Europe', \n",
    "                    'Russian Federation':'Europe', \n",
    "                    'Canada':'North America', \n",
    "                    'Germany':'Europe', \n",
    "                    'India':'Asia',\n",
    "                    'France':'Europe', \n",
    "                    'South Korea':'Asia', \n",
    "                    'Italy':'Europe', \n",
    "                    'Spain':'Europe', \n",
    "                    'Iran':'Asia',\n",
    "                    'Australia':'Australia', \n",
    "                    'Brazil':'South America'}\n",
    "\n",
    "    Top15['EstPop'] = (Top15['Energy Supply'] / Top15['Energy Supply per Capita']).astype(float)\n",
    "    Top15 = Top15.reset_index()\n",
    "    Top15['Continent'] = [ContinentDict[country] for country in Top15['Country']]\n",
    "    answer = Top15.set_index('Continent').groupby(level=0)['PopEst'].agg({'size': np.size, 'sum': np.sum, 'mean': np.mean,'std': np.std})\n",
    "    answer = answer[['size', 'sum', 'mean', 'std']]\n",
    "\n",
    "\n",
    "\n",
    "\n"
   ]
  },
  {
   "cell_type": "code",
   "execution_count": 112,
   "metadata": {},
   "outputs": [],
   "source": [
    "# Nomor 12\n",
    "import pandas as pd\n",
    "import numpy as np\n",
    "Top15 = df\n",
    "ContinentDict  = {'China':'Asia', \n",
    "                  'United States':'North America', \n",
    "                  'Japan':'Asia', \n",
    "                  'United Kingdom':'Europe', \n",
    "                  'Russian Federation':'Europe', \n",
    "                  'Canada':'North America', \n",
    "                  'Germany':'Europe', \n",
    "                  'India':'Asia',\n",
    "                  'France':'Europe', \n",
    "                  'South Korea':'Asia', \n",
    "                  'Italy':'Europe', \n",
    "                  'Spain':'Europe', \n",
    "                  'Iran':'Asia',\n",
    "                  'Australia':'Australia', \n",
    "                  'Brazil':'South America'}\n",
    "Top15 = Top15.reset_index()\n",
    "Top15['Continent'] = [ContinentDict[country] for country in Top15['Country']]\n",
    "Top15['bins'] = pd.cut(Top15['% Renewable'],5)"
   ]
  },
  {
   "cell_type": "code",
   "execution_count": 119,
   "metadata": {},
   "outputs": [
    {
     "output_type": "execute_result",
     "data": {
      "text/plain": "['1,367,645,161.290322542',\n '317,615,384.615384638',\n '127,409,395.973154366',\n '63,870,967.741935484',\n '143,500,000.000000000',\n '35,239,864.864864863',\n '80,369,696.969696969',\n '1,276,730,769.230769157',\n '63,837,349.397590362',\n '49,805,429.864253394',\n '59,908,256.880733944',\n '46,443,396.226415098',\n '77,075,630.252100840',\n '23,316,017.316017315',\n '205,915,254.237288147']"
     },
     "metadata": {},
     "execution_count": 119
    }
   ],
   "source": [
    "# Nomor 13\n",
    "# Buat angka ribuan dengan koma\n",
    "\n",
    "\n",
    "import locale\n",
    "locale.setlocale(locale.LC_ALL, 'en_US.utf8')\n",
    "\n",
    "Top15 = df\n",
    "Top15['PopEst'] = (Top15['Energy Supply'] / Top15['Energy Supply per Capita']).astype(float)\n",
    "Top15['PopEst']\n",
    "\n",
    "stringg = []\n",
    "\n",
    "for num in Top15['PopEst']:\n",
    "    stringg.append(locale.format('%.9f', num, grouping=True))\n",
    "\n",
    "Top15['PopEst'] = stringg\n",
    "Top15['PopEst']\n",
    "\n",
    "stringg"
   ]
  }
 ]
}