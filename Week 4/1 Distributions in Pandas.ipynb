{
 "metadata": {
  "language_info": {
   "codemirror_mode": {
    "name": "ipython",
    "version": 3
   },
   "file_extension": ".py",
   "mimetype": "text/x-python",
   "name": "python",
   "nbconvert_exporter": "python",
   "pygments_lexer": "ipython3",
   "version": "3.8.3-final"
  },
  "orig_nbformat": 2,
  "kernelspec": {
   "name": "python_defaultSpec_1598156565747",
   "display_name": "Python 3.8.3 64-bit ('base': conda)"
  }
 },
 "nbformat": 4,
 "nbformat_minor": 2,
 "cells": [
  {
   "cell_type": "code",
   "execution_count": 2,
   "metadata": {},
   "outputs": [],
   "source": [
    "import pandas as pd\n",
    "import numpy as np"
   ]
  },
  {
   "cell_type": "code",
   "execution_count": 115,
   "metadata": {},
   "outputs": [],
   "source": [
    "# Membuat binomial (jumlah lempar, probability, jumlah testing)\n",
    "# Anggap aja lempar koin\n",
    "\n",
    "koin = np.random.binomial(1000000,0.5,100)/1000000 # Berapa kali angka 1 muncul"
   ]
  },
  {
   "cell_type": "code",
   "execution_count": 116,
   "metadata": {},
   "outputs": [
    {
     "output_type": "execute_result",
     "data": {
      "text/plain": "0.49995294000000007"
     },
     "metadata": {},
     "execution_count": 116
    }
   ],
   "source": [
    "np.mean(koin)"
   ]
  },
  {
   "cell_type": "code",
   "execution_count": 157,
   "metadata": {},
   "outputs": [
    {
     "output_type": "execute_result",
     "data": {
      "text/plain": "0.0232"
     },
     "metadata": {},
     "execution_count": 157
    }
   ],
   "source": [
    "# Membuat rata-rata\n",
    "# Lempar 20x, simulasikan sebanyak 10000\n",
    "# hitung rata-rata semua percobaan yang koin nya muncul 15x atau lebih\n",
    "\n",
    "koin = np.random.binomial(20, .5, 10000)\n",
    "(koin>=15).mean()"
   ]
  },
  {
   "cell_type": "code",
   "execution_count": 163,
   "metadata": {},
   "outputs": [
    {
     "output_type": "execute_result",
     "data": {
      "text/plain": "15"
     },
     "metadata": {},
     "execution_count": 163
    }
   ],
   "source": [
    "# Mencoba hitung peluang tornado dapat fi ...abs\n",
    "\n",
    "chance_of_tornado = 0.01/100\n",
    "np.random.binomial(100000, chance_of_tornado)"
   ]
  },
  {
   "cell_type": "code",
   "execution_count": 166,
   "metadata": {
    "tags": []
   },
   "outputs": [
    {
     "output_type": "stream",
     "name": "stdout",
     "text": "80 tornadoes back to back in 2739.72602739726 years\n1 tornado back to back every 29.14602156805596 years\n"
    }
   ],
   "source": [
    "# Hitung tornado ada di satu tempat 2x berturut turut\n",
    "\n",
    "chance_of_tornado = 0.01\n",
    "\n",
    "tornado_events = np.random.binomial(1, chance_of_tornado, 1000000)\n",
    "\n",
    "two_days_in_rows = 0\n",
    "\n",
    "for j in range(1, len(tornado_events)-1):\n",
    "    if tornado_events[j] == 1 and tornado_events[j-1] == 1: # Jika sekarang 1 dan sebelumnya juga 1\n",
    "        two_days_in_rows += 1\n",
    "\n",
    "print('{} tornadoes back to back in {} years'.format(two_days_in_rows, 1000000/365))\n",
    "print('1 tornado back to back every {} years'.format(1000000/365/94))"
   ]
  },
  {
   "cell_type": "code",
   "execution_count": null,
   "metadata": {},
   "outputs": [],
   "source": []
  }
 ]
}