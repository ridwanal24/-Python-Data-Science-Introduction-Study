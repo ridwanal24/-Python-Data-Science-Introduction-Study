{
 "metadata": {
  "language_info": {
   "codemirror_mode": {
    "name": "ipython",
    "version": 3
   },
   "file_extension": ".py",
   "mimetype": "text/x-python",
   "name": "python",
   "nbconvert_exporter": "python",
   "pygments_lexer": "ipython3",
   "version": "3.8.3-final"
  },
  "orig_nbformat": 2,
  "kernelspec": {
   "name": "python_defaultSpec_1598158753671",
   "display_name": "Python 3.8.3 64-bit ('base': conda)"
  }
 },
 "nbformat": 4,
 "nbformat_minor": 2,
 "cells": [
  {
   "cell_type": "code",
   "execution_count": 1,
   "metadata": {},
   "outputs": [],
   "source": [
    "import pandas as pandas\n",
    "import numpy as np"
   ]
  },
  {
   "cell_type": "code",
   "execution_count": 51,
   "metadata": {},
   "outputs": [
    {
     "output_type": "execute_result",
     "data": {
      "text/plain": "0.9931219762425444"
     },
     "metadata": {},
     "execution_count": 51
    }
   ],
   "source": [
    "# Standard deviation\n",
    "\n",
    "distribution = np.random.normal(0.15, size=1000)\n",
    "np.sqrt( np.sum( (np.mean(distribution) - distribution ) ** 2)/len(distribution) ) # Standar deviation"
   ]
  },
  {
   "cell_type": "code",
   "execution_count": 86,
   "metadata": {},
   "outputs": [],
   "source": [
    "# Function standar deviation\n",
    "\n",
    "def s_dev(array):\n",
    "    return np.sqrt( np.sum( (np.mean(array) - array ) ** 2)/len(array) )\n"
   ]
  },
  {
   "cell_type": "code",
   "execution_count": 98,
   "metadata": {},
   "outputs": [
    {
     "output_type": "execute_result",
     "data": {
      "text/plain": "0.9888209239845673"
     },
     "metadata": {},
     "execution_count": 98
    }
   ],
   "source": [
    "oke = np.random.normal(0.75, size=1000)\n",
    "s_dev(oke)\n",
    "# oke"
   ]
  },
  {
   "cell_type": "code",
   "execution_count": 99,
   "metadata": {},
   "outputs": [
    {
     "output_type": "execute_result",
     "data": {
      "text/plain": "True"
     },
     "metadata": {},
     "execution_count": 99
    }
   ],
   "source": [
    "# Standard deviation pake numpy function\n",
    "np.std(oke) == s_dev(oke)"
   ]
  },
  {
   "cell_type": "code",
   "execution_count": 100,
   "metadata": {},
   "outputs": [
    {
     "output_type": "execute_result",
     "data": {
      "text/plain": "0.09234341128991952"
     },
     "metadata": {},
     "execution_count": 100
    }
   ],
   "source": [
    "# Kurtosis, derajat keruncingan\n",
    "import scipy.stats as stats\n",
    "\n",
    "stats.kurtosis(oke)"
   ]
  },
  {
   "cell_type": "code",
   "execution_count": 103,
   "metadata": {},
   "outputs": [
    {
     "output_type": "execute_result",
     "data": {
      "text/plain": "-0.04946662373437091"
     },
     "metadata": {},
     "execution_count": 103
    }
   ],
   "source": [
    "# Skewness, kemiringan\n",
    "\n",
    "stats.skew(oke)"
   ]
  },
  {
   "cell_type": "code",
   "execution_count": 104,
   "metadata": {},
   "outputs": [
    {
     "output_type": "execute_result",
     "data": {
      "text/plain": "1.977345584245215"
     },
     "metadata": {},
     "execution_count": 104
    }
   ],
   "source": [
    "chi_squared_df2 = np.random.chisquare(2, size=10000)\n",
    "stats.skew(chi_squared_df2)"
   ]
  },
  {
   "cell_type": "code",
   "execution_count": 106,
   "metadata": {},
   "outputs": [
    {
     "output_type": "execute_result",
     "data": {
      "text/plain": "1.3232569780531065"
     },
     "metadata": {},
     "execution_count": 106
    }
   ],
   "source": [
    "chi_squared_df5 = np.random.chisquare(5, size=10000)\n",
    "stats.skew(chi_squared_df5)"
   ]
  },
  {
   "cell_type": "code",
   "execution_count": 108,
   "metadata": {},
   "outputs": [
    {
     "output_type": "execute_result",
     "data": {
      "text/plain": "<matplotlib.legend.Legend at 0x26de7d9bf40>"
     },
     "metadata": {},
     "execution_count": 108
    },
    {
     "output_type": "display_data",
     "data": {
      "text/plain": "<Figure size 432x288 with 1 Axes>",
      "image/svg+xml": "<?xml version=\"1.0\" encoding=\"utf-8\" standalone=\"no\"?>\r\n<!DOCTYPE svg PUBLIC \"-//W3C//DTD SVG 1.1//EN\"\r\n  \"http://www.w3.org/Graphics/SVG/1.1/DTD/svg11.dtd\">\r\n<!-- Created with matplotlib (https://matplotlib.org/) -->\r\n<svg height=\"250.322323pt\" version=\"1.1\" viewBox=\"0 0 381.65 250.322323\" width=\"381.65pt\" xmlns=\"http://www.w3.org/2000/svg\" xmlns:xlink=\"http://www.w3.org/1999/xlink\">\r\n <defs>\r\n  <style type=\"text/css\">\r\n*{stroke-linecap:butt;stroke-linejoin:round;}\r\n  </style>\r\n </defs>\r\n <g id=\"figure_1\">\r\n  <g id=\"patch_1\">\r\n   <path d=\"M -0 250.322323 \r\nL 381.65 250.322323 \r\nL 381.65 0 \r\nL -0 0 \r\nz\r\n\" style=\"fill:none;\"/>\r\n  </g>\r\n  <g id=\"axes_1\">\r\n   <g id=\"patch_2\">\r\n    <path d=\"M 39.65 226.444198 \r\nL 374.45 226.444198 \r\nL 374.45 9.004198 \r\nL 39.65 9.004198 \r\nz\r\n\" style=\"fill:#ffffff;\"/>\r\n   </g>\r\n   <g id=\"patch_3\">\r\n    <path clip-path=\"url(#p668269c36f)\" d=\"M 54.868182 226.444198 \r\nL 54.868182 219.549959 \r\nL 60.955455 219.549959 \r\nL 60.955455 201.538759 \r\nL 67.042727 201.538759 \r\nL 67.042727 177.322743 \r\nL 73.13 177.322743 \r\nL 73.13 165.688714 \r\nL 79.217273 165.688714 \r\nL 79.217273 158.966831 \r\nL 85.304545 158.966831 \r\nL 85.304545 160.173323 \r\nL 91.391818 160.173323 \r\nL 91.391818 157.932695 \r\nL 97.479091 157.932695 \r\nL 97.479091 163.620442 \r\nL 103.566364 163.620442 \r\nL 103.566364 162.327772 \r\nL 109.653636 162.327772 \r\nL 109.653636 171.548817 \r\nL 115.740909 171.548817 \r\nL 115.740909 174.995937 \r\nL 121.828182 174.995937 \r\nL 121.828182 179.391015 \r\nL 127.915455 179.391015 \r\nL 127.915455 187.922636 \r\nL 134.002727 187.922636 \r\nL 134.002727 193.438027 \r\nL 140.09 193.438027 \r\nL 140.09 200.332267 \r\nL 146.177273 200.332267 \r\nL 146.177273 201.883471 \r\nL 152.264545 201.883471 \r\nL 152.264545 207.829752 \r\nL 158.351818 207.829752 \r\nL 158.351818 209.984202 \r\nL 164.439091 209.984202 \r\nL 164.439091 213.776033 \r\nL 170.526364 213.776033 \r\nL 170.526364 213.517499 \r\nL 176.613636 213.517499 \r\nL 176.613636 215.844305 \r\nL 182.700909 215.844305 \r\nL 182.700909 219.894671 \r\nL 188.788182 219.894671 \r\nL 188.788182 219.894671 \r\nL 194.875455 219.894671 \r\nL 194.875455 220.411739 \r\nL 200.962727 220.411739 \r\nL 200.962727 222.393833 \r\nL 207.05 222.393833 \r\nL 207.05 222.566189 \r\nL 213.137273 222.566189 \r\nL 213.137273 222.910901 \r\nL 219.224545 222.910901 \r\nL 219.224545 224.63446 \r\nL 225.311818 224.63446 \r\nL 225.311818 224.462104 \r\nL 231.399091 224.462104 \r\nL 231.399091 224.375926 \r\nL 237.486364 224.375926 \r\nL 237.486364 224.548282 \r\nL 243.573636 224.548282 \r\nL 243.573636 225.323884 \r\nL 249.660909 225.323884 \r\nL 249.660909 225.582418 \r\nL 255.748182 225.582418 \r\nL 255.748182 225.840952 \r\nL 261.835455 225.840952 \r\nL 261.835455 225.92713 \r\nL 267.922727 225.92713 \r\nL 267.922727 226.099486 \r\nL 274.01 226.099486 \r\nL 274.01 226.013308 \r\nL 280.097273 226.013308 \r\nL 280.097273 226.099486 \r\nL 286.184545 226.099486 \r\nL 286.184545 226.099486 \r\nL 292.271818 226.099486 \r\nL 292.271818 226.271842 \r\nL 298.359091 226.271842 \r\nL 298.359091 226.271842 \r\nL 304.446364 226.271842 \r\nL 304.446364 226.271842 \r\nL 310.533636 226.271842 \r\nL 310.533636 226.35802 \r\nL 316.620909 226.35802 \r\nL 316.620909 226.444198 \r\nL 322.708182 226.444198 \r\nL 322.708182 226.271842 \r\nL 328.795455 226.271842 \r\nL 328.795455 226.35802 \r\nL 334.882727 226.35802 \r\nL 334.882727 226.35802 \r\nL 340.97 226.35802 \r\nL 340.97 226.35802 \r\nL 347.057273 226.35802 \r\nL 347.057273 226.444198 \r\nL 353.144545 226.444198 \r\nL 353.144545 226.35802 \r\nL 359.231818 226.35802 \r\nL 359.231818 226.444198 \r\n\" style=\"fill:none;stroke:#ff7f0e;stroke-linejoin:miter;\"/>\r\n   </g>\r\n   <g id=\"patch_4\">\r\n    <path clip-path=\"url(#p668269c36f)\" d=\"M 54.868182 226.444198 \r\nL 54.868182 19.358484 \r\nL 60.955455 19.358484 \r\nL 60.955455 76.666848 \r\nL 67.042727 76.666848 \r\nL 67.042727 111.310401 \r\nL 73.13 111.310401 \r\nL 73.13 135.957307 \r\nL 79.217273 135.957307 \r\nL 79.217273 156.553847 \r\nL 85.304545 156.553847 \r\nL 85.304545 172.927665 \r\nL 91.391818 172.927665 \r\nL 91.391818 185.682008 \r\nL 97.479091 185.682008 \r\nL 97.479091 196.885147 \r\nL 103.566364 196.885147 \r\nL 103.566364 202.572895 \r\nL 109.653636 202.572895 \r\nL 109.653636 206.278548 \r\nL 115.740909 206.278548 \r\nL 115.740909 210.242736 \r\nL 121.828182 210.242736 \r\nL 121.828182 215.930483 \r\nL 127.915455 215.930483 \r\nL 127.915455 219.549959 \r\nL 134.002727 219.549959 \r\nL 134.002727 219.980849 \r\nL 140.09 219.980849 \r\nL 140.09 221.187341 \r\nL 146.177273 221.187341 \r\nL 146.177273 223.427969 \r\nL 152.264545 223.427969 \r\nL 152.264545 223.686503 \r\nL 158.351818 223.686503 \r\nL 158.351818 223.77268 \r\nL 164.439091 223.77268 \r\nL 164.439091 224.720638 \r\nL 170.526364 224.720638 \r\nL 170.526364 224.806816 \r\nL 176.613636 224.806816 \r\nL 176.613636 225.151528 \r\nL 182.700909 225.151528 \r\nL 182.700909 225.92713 \r\nL 188.788182 225.92713 \r\nL 188.788182 225.668596 \r\nL 194.875455 225.668596 \r\nL 194.875455 225.92713 \r\nL 200.962727 225.92713 \r\nL 200.962727 226.185664 \r\nL 207.05 226.185664 \r\nL 207.05 226.35802 \r\nL 213.137273 226.35802 \r\nL 213.137273 226.271842 \r\nL 219.224545 226.271842 \r\nL 219.224545 226.35802 \r\nL 225.311818 226.35802 \r\nL 225.311818 226.444198 \r\nL 231.399091 226.444198 \r\nL 231.399091 226.099486 \r\nL 237.486364 226.099486 \r\nL 237.486364 226.271842 \r\nL 243.573636 226.271842 \r\nL 243.573636 226.35802 \r\nL 249.660909 226.35802 \r\nL 249.660909 226.444198 \r\nL 255.748182 226.444198 \r\nL 255.748182 226.444198 \r\nL 261.835455 226.444198 \r\nL 261.835455 226.35802 \r\nL 267.922727 226.35802 \r\nL 267.922727 226.444198 \r\nL 274.01 226.444198 \r\nL 274.01 226.444198 \r\nL 280.097273 226.444198 \r\nL 280.097273 226.444198 \r\nL 286.184545 226.444198 \r\nL 286.184545 226.444198 \r\nL 292.271818 226.444198 \r\nL 292.271818 226.444198 \r\nL 298.359091 226.444198 \r\nL 298.359091 226.444198 \r\nL 304.446364 226.444198 \r\nL 304.446364 226.444198 \r\nL 310.533636 226.444198 \r\nL 310.533636 226.444198 \r\nL 316.620909 226.444198 \r\nL 316.620909 226.444198 \r\nL 322.708182 226.444198 \r\nL 322.708182 226.444198 \r\nL 328.795455 226.444198 \r\nL 328.795455 226.444198 \r\nL 334.882727 226.444198 \r\nL 334.882727 226.444198 \r\nL 340.97 226.444198 \r\nL 340.97 226.444198 \r\nL 347.057273 226.444198 \r\nL 347.057273 226.444198 \r\nL 353.144545 226.444198 \r\nL 353.144545 226.444198 \r\nL 359.231818 226.444198 \r\nL 359.231818 226.444198 \r\n\" style=\"fill:none;stroke:#1f77b4;stroke-linejoin:miter;\"/>\r\n   </g>\r\n   <g id=\"matplotlib.axis_1\">\r\n    <g id=\"xtick_1\">\r\n     <g id=\"line2d_1\">\r\n      <defs>\r\n       <path d=\"M 0 0 \r\nL 0 3.5 \r\n\" id=\"m6c3b5de848\" style=\"stroke:#000000;stroke-width:0.8;\"/>\r\n      </defs>\r\n      <g>\r\n       <use style=\"stroke:#000000;stroke-width:0.8;\" x=\"54.867415\" xlink:href=\"#m6c3b5de848\" y=\"226.444198\"/>\r\n      </g>\r\n     </g>\r\n     <g id=\"text_1\">\r\n      <!-- 0 -->\r\n      <defs>\r\n       <path d=\"M 31.78125 66.40625 \r\nQ 24.171875 66.40625 20.328125 58.90625 \r\nQ 16.5 51.421875 16.5 36.375 \r\nQ 16.5 21.390625 20.328125 13.890625 \r\nQ 24.171875 6.390625 31.78125 6.390625 \r\nQ 39.453125 6.390625 43.28125 13.890625 \r\nQ 47.125 21.390625 47.125 36.375 \r\nQ 47.125 51.421875 43.28125 58.90625 \r\nQ 39.453125 66.40625 31.78125 66.40625 \r\nz\r\nM 31.78125 74.21875 \r\nQ 44.046875 74.21875 50.515625 64.515625 \r\nQ 56.984375 54.828125 56.984375 36.375 \r\nQ 56.984375 17.96875 50.515625 8.265625 \r\nQ 44.046875 -1.421875 31.78125 -1.421875 \r\nQ 19.53125 -1.421875 13.0625 8.265625 \r\nQ 6.59375 17.96875 6.59375 36.375 \r\nQ 6.59375 54.828125 13.0625 64.515625 \r\nQ 19.53125 74.21875 31.78125 74.21875 \r\nz\r\n\" id=\"DejaVuSans-48\"/>\r\n      </defs>\r\n      <g transform=\"translate(51.686165 241.042636)scale(0.1 -0.1)\">\r\n       <use xlink:href=\"#DejaVuSans-48\"/>\r\n      </g>\r\n     </g>\r\n    </g>\r\n    <g id=\"xtick_2\">\r\n     <g id=\"line2d_2\">\r\n      <g>\r\n       <use style=\"stroke:#000000;stroke-width:0.8;\" x=\"112.256535\" xlink:href=\"#m6c3b5de848\" y=\"226.444198\"/>\r\n      </g>\r\n     </g>\r\n     <g id=\"text_2\">\r\n      <!-- 5 -->\r\n      <defs>\r\n       <path d=\"M 10.796875 72.90625 \r\nL 49.515625 72.90625 \r\nL 49.515625 64.59375 \r\nL 19.828125 64.59375 \r\nL 19.828125 46.734375 \r\nQ 21.96875 47.46875 24.109375 47.828125 \r\nQ 26.265625 48.1875 28.421875 48.1875 \r\nQ 40.625 48.1875 47.75 41.5 \r\nQ 54.890625 34.8125 54.890625 23.390625 \r\nQ 54.890625 11.625 47.5625 5.09375 \r\nQ 40.234375 -1.421875 26.90625 -1.421875 \r\nQ 22.3125 -1.421875 17.546875 -0.640625 \r\nQ 12.796875 0.140625 7.71875 1.703125 \r\nL 7.71875 11.625 \r\nQ 12.109375 9.234375 16.796875 8.0625 \r\nQ 21.484375 6.890625 26.703125 6.890625 \r\nQ 35.15625 6.890625 40.078125 11.328125 \r\nQ 45.015625 15.765625 45.015625 23.390625 \r\nQ 45.015625 31 40.078125 35.4375 \r\nQ 35.15625 39.890625 26.703125 39.890625 \r\nQ 22.75 39.890625 18.8125 39.015625 \r\nQ 14.890625 38.140625 10.796875 36.28125 \r\nz\r\n\" id=\"DejaVuSans-53\"/>\r\n      </defs>\r\n      <g transform=\"translate(109.075285 241.042636)scale(0.1 -0.1)\">\r\n       <use xlink:href=\"#DejaVuSans-53\"/>\r\n      </g>\r\n     </g>\r\n    </g>\r\n    <g id=\"xtick_3\">\r\n     <g id=\"line2d_3\">\r\n      <g>\r\n       <use style=\"stroke:#000000;stroke-width:0.8;\" x=\"169.645655\" xlink:href=\"#m6c3b5de848\" y=\"226.444198\"/>\r\n      </g>\r\n     </g>\r\n     <g id=\"text_3\">\r\n      <!-- 10 -->\r\n      <defs>\r\n       <path d=\"M 12.40625 8.296875 \r\nL 28.515625 8.296875 \r\nL 28.515625 63.921875 \r\nL 10.984375 60.40625 \r\nL 10.984375 69.390625 \r\nL 28.421875 72.90625 \r\nL 38.28125 72.90625 \r\nL 38.28125 8.296875 \r\nL 54.390625 8.296875 \r\nL 54.390625 0 \r\nL 12.40625 0 \r\nz\r\n\" id=\"DejaVuSans-49\"/>\r\n      </defs>\r\n      <g transform=\"translate(163.283155 241.042636)scale(0.1 -0.1)\">\r\n       <use xlink:href=\"#DejaVuSans-49\"/>\r\n       <use x=\"63.623047\" xlink:href=\"#DejaVuSans-48\"/>\r\n      </g>\r\n     </g>\r\n    </g>\r\n    <g id=\"xtick_4\">\r\n     <g id=\"line2d_4\">\r\n      <g>\r\n       <use style=\"stroke:#000000;stroke-width:0.8;\" x=\"227.034775\" xlink:href=\"#m6c3b5de848\" y=\"226.444198\"/>\r\n      </g>\r\n     </g>\r\n     <g id=\"text_4\">\r\n      <!-- 15 -->\r\n      <g transform=\"translate(220.672275 241.042636)scale(0.1 -0.1)\">\r\n       <use xlink:href=\"#DejaVuSans-49\"/>\r\n       <use x=\"63.623047\" xlink:href=\"#DejaVuSans-53\"/>\r\n      </g>\r\n     </g>\r\n    </g>\r\n    <g id=\"xtick_5\">\r\n     <g id=\"line2d_5\">\r\n      <g>\r\n       <use style=\"stroke:#000000;stroke-width:0.8;\" x=\"284.423895\" xlink:href=\"#m6c3b5de848\" y=\"226.444198\"/>\r\n      </g>\r\n     </g>\r\n     <g id=\"text_5\">\r\n      <!-- 20 -->\r\n      <defs>\r\n       <path d=\"M 19.1875 8.296875 \r\nL 53.609375 8.296875 \r\nL 53.609375 0 \r\nL 7.328125 0 \r\nL 7.328125 8.296875 \r\nQ 12.9375 14.109375 22.625 23.890625 \r\nQ 32.328125 33.6875 34.8125 36.53125 \r\nQ 39.546875 41.84375 41.421875 45.53125 \r\nQ 43.3125 49.21875 43.3125 52.78125 \r\nQ 43.3125 58.59375 39.234375 62.25 \r\nQ 35.15625 65.921875 28.609375 65.921875 \r\nQ 23.96875 65.921875 18.8125 64.3125 \r\nQ 13.671875 62.703125 7.8125 59.421875 \r\nL 7.8125 69.390625 \r\nQ 13.765625 71.78125 18.9375 73 \r\nQ 24.125 74.21875 28.421875 74.21875 \r\nQ 39.75 74.21875 46.484375 68.546875 \r\nQ 53.21875 62.890625 53.21875 53.421875 \r\nQ 53.21875 48.921875 51.53125 44.890625 \r\nQ 49.859375 40.875 45.40625 35.40625 \r\nQ 44.1875 33.984375 37.640625 27.21875 \r\nQ 31.109375 20.453125 19.1875 8.296875 \r\nz\r\n\" id=\"DejaVuSans-50\"/>\r\n      </defs>\r\n      <g transform=\"translate(278.061395 241.042636)scale(0.1 -0.1)\">\r\n       <use xlink:href=\"#DejaVuSans-50\"/>\r\n       <use x=\"63.623047\" xlink:href=\"#DejaVuSans-48\"/>\r\n      </g>\r\n     </g>\r\n    </g>\r\n    <g id=\"xtick_6\">\r\n     <g id=\"line2d_6\">\r\n      <g>\r\n       <use style=\"stroke:#000000;stroke-width:0.8;\" x=\"341.813015\" xlink:href=\"#m6c3b5de848\" y=\"226.444198\"/>\r\n      </g>\r\n     </g>\r\n     <g id=\"text_6\">\r\n      <!-- 25 -->\r\n      <g transform=\"translate(335.450515 241.042636)scale(0.1 -0.1)\">\r\n       <use xlink:href=\"#DejaVuSans-50\"/>\r\n       <use x=\"63.623047\" xlink:href=\"#DejaVuSans-53\"/>\r\n      </g>\r\n     </g>\r\n    </g>\r\n   </g>\r\n   <g id=\"matplotlib.axis_2\">\r\n    <g id=\"ytick_1\">\r\n     <g id=\"line2d_7\">\r\n      <defs>\r\n       <path d=\"M 0 0 \r\nL -3.5 0 \r\n\" id=\"mdefdcca2eb\" style=\"stroke:#000000;stroke-width:0.8;\"/>\r\n      </defs>\r\n      <g>\r\n       <use style=\"stroke:#000000;stroke-width:0.8;\" x=\"39.65\" xlink:href=\"#mdefdcca2eb\" y=\"226.444198\"/>\r\n      </g>\r\n     </g>\r\n     <g id=\"text_7\">\r\n      <!-- 0 -->\r\n      <g transform=\"translate(26.2875 230.243417)scale(0.1 -0.1)\">\r\n       <use xlink:href=\"#DejaVuSans-48\"/>\r\n      </g>\r\n     </g>\r\n    </g>\r\n    <g id=\"ytick_2\">\r\n     <g id=\"line2d_8\">\r\n      <g>\r\n       <use style=\"stroke:#000000;stroke-width:0.8;\" x=\"39.65\" xlink:href=\"#mdefdcca2eb\" y=\"183.355202\"/>\r\n      </g>\r\n     </g>\r\n     <g id=\"text_8\">\r\n      <!-- 500 -->\r\n      <g transform=\"translate(13.5625 187.154421)scale(0.1 -0.1)\">\r\n       <use xlink:href=\"#DejaVuSans-53\"/>\r\n       <use x=\"63.623047\" xlink:href=\"#DejaVuSans-48\"/>\r\n       <use x=\"127.246094\" xlink:href=\"#DejaVuSans-48\"/>\r\n      </g>\r\n     </g>\r\n    </g>\r\n    <g id=\"ytick_3\">\r\n     <g id=\"line2d_9\">\r\n      <g>\r\n       <use style=\"stroke:#000000;stroke-width:0.8;\" x=\"39.65\" xlink:href=\"#mdefdcca2eb\" y=\"140.266206\"/>\r\n      </g>\r\n     </g>\r\n     <g id=\"text_9\">\r\n      <!-- 1000 -->\r\n      <g transform=\"translate(7.2 144.065425)scale(0.1 -0.1)\">\r\n       <use xlink:href=\"#DejaVuSans-49\"/>\r\n       <use x=\"63.623047\" xlink:href=\"#DejaVuSans-48\"/>\r\n       <use x=\"127.246094\" xlink:href=\"#DejaVuSans-48\"/>\r\n       <use x=\"190.869141\" xlink:href=\"#DejaVuSans-48\"/>\r\n      </g>\r\n     </g>\r\n    </g>\r\n    <g id=\"ytick_4\">\r\n     <g id=\"line2d_10\">\r\n      <g>\r\n       <use style=\"stroke:#000000;stroke-width:0.8;\" x=\"39.65\" xlink:href=\"#mdefdcca2eb\" y=\"97.177211\"/>\r\n      </g>\r\n     </g>\r\n     <g id=\"text_10\">\r\n      <!-- 1500 -->\r\n      <g transform=\"translate(7.2 100.976429)scale(0.1 -0.1)\">\r\n       <use xlink:href=\"#DejaVuSans-49\"/>\r\n       <use x=\"63.623047\" xlink:href=\"#DejaVuSans-53\"/>\r\n       <use x=\"127.246094\" xlink:href=\"#DejaVuSans-48\"/>\r\n       <use x=\"190.869141\" xlink:href=\"#DejaVuSans-48\"/>\r\n      </g>\r\n     </g>\r\n    </g>\r\n    <g id=\"ytick_5\">\r\n     <g id=\"line2d_11\">\r\n      <g>\r\n       <use style=\"stroke:#000000;stroke-width:0.8;\" x=\"39.65\" xlink:href=\"#mdefdcca2eb\" y=\"54.088215\"/>\r\n      </g>\r\n     </g>\r\n     <g id=\"text_11\">\r\n      <!-- 2000 -->\r\n      <g transform=\"translate(7.2 57.887433)scale(0.1 -0.1)\">\r\n       <use xlink:href=\"#DejaVuSans-50\"/>\r\n       <use x=\"63.623047\" xlink:href=\"#DejaVuSans-48\"/>\r\n       <use x=\"127.246094\" xlink:href=\"#DejaVuSans-48\"/>\r\n       <use x=\"190.869141\" xlink:href=\"#DejaVuSans-48\"/>\r\n      </g>\r\n     </g>\r\n    </g>\r\n    <g id=\"ytick_6\">\r\n     <g id=\"line2d_12\">\r\n      <g>\r\n       <use style=\"stroke:#000000;stroke-width:0.8;\" x=\"39.65\" xlink:href=\"#mdefdcca2eb\" y=\"10.999219\"/>\r\n      </g>\r\n     </g>\r\n     <g id=\"text_12\">\r\n      <!-- 2500 -->\r\n      <g transform=\"translate(7.2 14.798437)scale(0.1 -0.1)\">\r\n       <use xlink:href=\"#DejaVuSans-50\"/>\r\n       <use x=\"63.623047\" xlink:href=\"#DejaVuSans-53\"/>\r\n       <use x=\"127.246094\" xlink:href=\"#DejaVuSans-48\"/>\r\n       <use x=\"190.869141\" xlink:href=\"#DejaVuSans-48\"/>\r\n      </g>\r\n     </g>\r\n    </g>\r\n   </g>\r\n   <g id=\"patch_5\">\r\n    <path d=\"M 39.65 226.444198 \r\nL 39.65 9.004198 \r\n\" style=\"fill:none;stroke:#000000;stroke-linecap:square;stroke-linejoin:miter;stroke-width:0.8;\"/>\r\n   </g>\r\n   <g id=\"patch_6\">\r\n    <path d=\"M 374.45 226.444198 \r\nL 374.45 9.004198 \r\n\" style=\"fill:none;stroke:#000000;stroke-linecap:square;stroke-linejoin:miter;stroke-width:0.8;\"/>\r\n   </g>\r\n   <g id=\"patch_7\">\r\n    <path d=\"M 39.65 226.444198 \r\nL 374.45 226.444198 \r\n\" style=\"fill:none;stroke:#000000;stroke-linecap:square;stroke-linejoin:miter;stroke-width:0.8;\"/>\r\n   </g>\r\n   <g id=\"patch_8\">\r\n    <path d=\"M 39.65 9.004198 \r\nL 374.45 9.004198 \r\n\" style=\"fill:none;stroke:#000000;stroke-linecap:square;stroke-linejoin:miter;stroke-width:0.8;\"/>\r\n   </g>\r\n   <g id=\"legend_1\">\r\n    <g id=\"patch_9\">\r\n     <path d=\"M 227.742188 46.360448 \r\nL 367.45 46.360448 \r\nQ 369.45 46.360448 369.45 44.360448 \r\nL 369.45 16.004198 \r\nQ 369.45 14.004198 367.45 14.004198 \r\nL 227.742188 14.004198 \r\nQ 225.742188 14.004198 225.742188 16.004198 \r\nL 225.742188 44.360448 \r\nQ 225.742188 46.360448 227.742188 46.360448 \r\nz\r\n\" style=\"fill:#ffffff;opacity:0.8;stroke:#cccccc;stroke-linejoin:miter;\"/>\r\n    </g>\r\n    <g id=\"patch_10\">\r\n     <path d=\"M 229.742188 25.602636 \r\nL 249.742188 25.602636 \r\nL 249.742188 18.602636 \r\nL 229.742188 18.602636 \r\nz\r\n\" style=\"fill:none;stroke:#ff7f0e;stroke-linejoin:miter;\"/>\r\n    </g>\r\n    <g id=\"text_13\">\r\n     <!-- 5 degrees of freedom -->\r\n     <defs>\r\n      <path id=\"DejaVuSans-32\"/>\r\n      <path d=\"M 45.40625 46.390625 \r\nL 45.40625 75.984375 \r\nL 54.390625 75.984375 \r\nL 54.390625 0 \r\nL 45.40625 0 \r\nL 45.40625 8.203125 \r\nQ 42.578125 3.328125 38.25 0.953125 \r\nQ 33.9375 -1.421875 27.875 -1.421875 \r\nQ 17.96875 -1.421875 11.734375 6.484375 \r\nQ 5.515625 14.40625 5.515625 27.296875 \r\nQ 5.515625 40.1875 11.734375 48.09375 \r\nQ 17.96875 56 27.875 56 \r\nQ 33.9375 56 38.25 53.625 \r\nQ 42.578125 51.265625 45.40625 46.390625 \r\nz\r\nM 14.796875 27.296875 \r\nQ 14.796875 17.390625 18.875 11.75 \r\nQ 22.953125 6.109375 30.078125 6.109375 \r\nQ 37.203125 6.109375 41.296875 11.75 \r\nQ 45.40625 17.390625 45.40625 27.296875 \r\nQ 45.40625 37.203125 41.296875 42.84375 \r\nQ 37.203125 48.484375 30.078125 48.484375 \r\nQ 22.953125 48.484375 18.875 42.84375 \r\nQ 14.796875 37.203125 14.796875 27.296875 \r\nz\r\n\" id=\"DejaVuSans-100\"/>\r\n      <path d=\"M 56.203125 29.59375 \r\nL 56.203125 25.203125 \r\nL 14.890625 25.203125 \r\nQ 15.484375 15.921875 20.484375 11.0625 \r\nQ 25.484375 6.203125 34.421875 6.203125 \r\nQ 39.59375 6.203125 44.453125 7.46875 \r\nQ 49.3125 8.734375 54.109375 11.28125 \r\nL 54.109375 2.78125 \r\nQ 49.265625 0.734375 44.1875 -0.34375 \r\nQ 39.109375 -1.421875 33.890625 -1.421875 \r\nQ 20.796875 -1.421875 13.15625 6.1875 \r\nQ 5.515625 13.8125 5.515625 26.8125 \r\nQ 5.515625 40.234375 12.765625 48.109375 \r\nQ 20.015625 56 32.328125 56 \r\nQ 43.359375 56 49.78125 48.890625 \r\nQ 56.203125 41.796875 56.203125 29.59375 \r\nz\r\nM 47.21875 32.234375 \r\nQ 47.125 39.59375 43.09375 43.984375 \r\nQ 39.0625 48.390625 32.421875 48.390625 \r\nQ 24.90625 48.390625 20.390625 44.140625 \r\nQ 15.875 39.890625 15.1875 32.171875 \r\nz\r\n\" id=\"DejaVuSans-101\"/>\r\n      <path d=\"M 45.40625 27.984375 \r\nQ 45.40625 37.75 41.375 43.109375 \r\nQ 37.359375 48.484375 30.078125 48.484375 \r\nQ 22.859375 48.484375 18.828125 43.109375 \r\nQ 14.796875 37.75 14.796875 27.984375 \r\nQ 14.796875 18.265625 18.828125 12.890625 \r\nQ 22.859375 7.515625 30.078125 7.515625 \r\nQ 37.359375 7.515625 41.375 12.890625 \r\nQ 45.40625 18.265625 45.40625 27.984375 \r\nz\r\nM 54.390625 6.78125 \r\nQ 54.390625 -7.171875 48.1875 -13.984375 \r\nQ 42 -20.796875 29.203125 -20.796875 \r\nQ 24.46875 -20.796875 20.265625 -20.09375 \r\nQ 16.0625 -19.390625 12.109375 -17.921875 \r\nL 12.109375 -9.1875 \r\nQ 16.0625 -11.328125 19.921875 -12.34375 \r\nQ 23.78125 -13.375 27.78125 -13.375 \r\nQ 36.625 -13.375 41.015625 -8.765625 \r\nQ 45.40625 -4.15625 45.40625 5.171875 \r\nL 45.40625 9.625 \r\nQ 42.625 4.78125 38.28125 2.390625 \r\nQ 33.9375 0 27.875 0 \r\nQ 17.828125 0 11.671875 7.65625 \r\nQ 5.515625 15.328125 5.515625 27.984375 \r\nQ 5.515625 40.671875 11.671875 48.328125 \r\nQ 17.828125 56 27.875 56 \r\nQ 33.9375 56 38.28125 53.609375 \r\nQ 42.625 51.21875 45.40625 46.390625 \r\nL 45.40625 54.6875 \r\nL 54.390625 54.6875 \r\nz\r\n\" id=\"DejaVuSans-103\"/>\r\n      <path d=\"M 41.109375 46.296875 \r\nQ 39.59375 47.171875 37.8125 47.578125 \r\nQ 36.03125 48 33.890625 48 \r\nQ 26.265625 48 22.1875 43.046875 \r\nQ 18.109375 38.09375 18.109375 28.8125 \r\nL 18.109375 0 \r\nL 9.078125 0 \r\nL 9.078125 54.6875 \r\nL 18.109375 54.6875 \r\nL 18.109375 46.1875 \r\nQ 20.953125 51.171875 25.484375 53.578125 \r\nQ 30.03125 56 36.53125 56 \r\nQ 37.453125 56 38.578125 55.875 \r\nQ 39.703125 55.765625 41.0625 55.515625 \r\nz\r\n\" id=\"DejaVuSans-114\"/>\r\n      <path d=\"M 44.28125 53.078125 \r\nL 44.28125 44.578125 \r\nQ 40.484375 46.53125 36.375 47.5 \r\nQ 32.28125 48.484375 27.875 48.484375 \r\nQ 21.1875 48.484375 17.84375 46.4375 \r\nQ 14.5 44.390625 14.5 40.28125 \r\nQ 14.5 37.15625 16.890625 35.375 \r\nQ 19.28125 33.59375 26.515625 31.984375 \r\nL 29.59375 31.296875 \r\nQ 39.15625 29.25 43.1875 25.515625 \r\nQ 47.21875 21.78125 47.21875 15.09375 \r\nQ 47.21875 7.46875 41.1875 3.015625 \r\nQ 35.15625 -1.421875 24.609375 -1.421875 \r\nQ 20.21875 -1.421875 15.453125 -0.5625 \r\nQ 10.6875 0.296875 5.421875 2 \r\nL 5.421875 11.28125 \r\nQ 10.40625 8.6875 15.234375 7.390625 \r\nQ 20.0625 6.109375 24.8125 6.109375 \r\nQ 31.15625 6.109375 34.5625 8.28125 \r\nQ 37.984375 10.453125 37.984375 14.40625 \r\nQ 37.984375 18.0625 35.515625 20.015625 \r\nQ 33.0625 21.96875 24.703125 23.78125 \r\nL 21.578125 24.515625 \r\nQ 13.234375 26.265625 9.515625 29.90625 \r\nQ 5.8125 33.546875 5.8125 39.890625 \r\nQ 5.8125 47.609375 11.28125 51.796875 \r\nQ 16.75 56 26.8125 56 \r\nQ 31.78125 56 36.171875 55.265625 \r\nQ 40.578125 54.546875 44.28125 53.078125 \r\nz\r\n\" id=\"DejaVuSans-115\"/>\r\n      <path d=\"M 30.609375 48.390625 \r\nQ 23.390625 48.390625 19.1875 42.75 \r\nQ 14.984375 37.109375 14.984375 27.296875 \r\nQ 14.984375 17.484375 19.15625 11.84375 \r\nQ 23.34375 6.203125 30.609375 6.203125 \r\nQ 37.796875 6.203125 41.984375 11.859375 \r\nQ 46.1875 17.53125 46.1875 27.296875 \r\nQ 46.1875 37.015625 41.984375 42.703125 \r\nQ 37.796875 48.390625 30.609375 48.390625 \r\nz\r\nM 30.609375 56 \r\nQ 42.328125 56 49.015625 48.375 \r\nQ 55.71875 40.765625 55.71875 27.296875 \r\nQ 55.71875 13.875 49.015625 6.21875 \r\nQ 42.328125 -1.421875 30.609375 -1.421875 \r\nQ 18.84375 -1.421875 12.171875 6.21875 \r\nQ 5.515625 13.875 5.515625 27.296875 \r\nQ 5.515625 40.765625 12.171875 48.375 \r\nQ 18.84375 56 30.609375 56 \r\nz\r\n\" id=\"DejaVuSans-111\"/>\r\n      <path d=\"M 37.109375 75.984375 \r\nL 37.109375 68.5 \r\nL 28.515625 68.5 \r\nQ 23.6875 68.5 21.796875 66.546875 \r\nQ 19.921875 64.59375 19.921875 59.515625 \r\nL 19.921875 54.6875 \r\nL 34.71875 54.6875 \r\nL 34.71875 47.703125 \r\nL 19.921875 47.703125 \r\nL 19.921875 0 \r\nL 10.890625 0 \r\nL 10.890625 47.703125 \r\nL 2.296875 47.703125 \r\nL 2.296875 54.6875 \r\nL 10.890625 54.6875 \r\nL 10.890625 58.5 \r\nQ 10.890625 67.625 15.140625 71.796875 \r\nQ 19.390625 75.984375 28.609375 75.984375 \r\nz\r\n\" id=\"DejaVuSans-102\"/>\r\n      <path d=\"M 52 44.1875 \r\nQ 55.375 50.25 60.0625 53.125 \r\nQ 64.75 56 71.09375 56 \r\nQ 79.640625 56 84.28125 50.015625 \r\nQ 88.921875 44.046875 88.921875 33.015625 \r\nL 88.921875 0 \r\nL 79.890625 0 \r\nL 79.890625 32.71875 \r\nQ 79.890625 40.578125 77.09375 44.375 \r\nQ 74.3125 48.1875 68.609375 48.1875 \r\nQ 61.625 48.1875 57.5625 43.546875 \r\nQ 53.515625 38.921875 53.515625 30.90625 \r\nL 53.515625 0 \r\nL 44.484375 0 \r\nL 44.484375 32.71875 \r\nQ 44.484375 40.625 41.703125 44.40625 \r\nQ 38.921875 48.1875 33.109375 48.1875 \r\nQ 26.21875 48.1875 22.15625 43.53125 \r\nQ 18.109375 38.875 18.109375 30.90625 \r\nL 18.109375 0 \r\nL 9.078125 0 \r\nL 9.078125 54.6875 \r\nL 18.109375 54.6875 \r\nL 18.109375 46.1875 \r\nQ 21.1875 51.21875 25.484375 53.609375 \r\nQ 29.78125 56 35.6875 56 \r\nQ 41.65625 56 45.828125 52.96875 \r\nQ 50 49.953125 52 44.1875 \r\nz\r\n\" id=\"DejaVuSans-109\"/>\r\n     </defs>\r\n     <g transform=\"translate(257.742188 25.602636)scale(0.1 -0.1)\">\r\n      <use xlink:href=\"#DejaVuSans-53\"/>\r\n      <use x=\"63.623047\" xlink:href=\"#DejaVuSans-32\"/>\r\n      <use x=\"95.410156\" xlink:href=\"#DejaVuSans-100\"/>\r\n      <use x=\"158.886719\" xlink:href=\"#DejaVuSans-101\"/>\r\n      <use x=\"220.410156\" xlink:href=\"#DejaVuSans-103\"/>\r\n      <use x=\"283.886719\" xlink:href=\"#DejaVuSans-114\"/>\r\n      <use x=\"322.75\" xlink:href=\"#DejaVuSans-101\"/>\r\n      <use x=\"384.273438\" xlink:href=\"#DejaVuSans-101\"/>\r\n      <use x=\"445.796875\" xlink:href=\"#DejaVuSans-115\"/>\r\n      <use x=\"497.896484\" xlink:href=\"#DejaVuSans-32\"/>\r\n      <use x=\"529.683594\" xlink:href=\"#DejaVuSans-111\"/>\r\n      <use x=\"590.865234\" xlink:href=\"#DejaVuSans-102\"/>\r\n      <use x=\"626.070312\" xlink:href=\"#DejaVuSans-32\"/>\r\n      <use x=\"657.857422\" xlink:href=\"#DejaVuSans-102\"/>\r\n      <use x=\"693.0625\" xlink:href=\"#DejaVuSans-114\"/>\r\n      <use x=\"731.925781\" xlink:href=\"#DejaVuSans-101\"/>\r\n      <use x=\"793.449219\" xlink:href=\"#DejaVuSans-101\"/>\r\n      <use x=\"854.972656\" xlink:href=\"#DejaVuSans-100\"/>\r\n      <use x=\"918.449219\" xlink:href=\"#DejaVuSans-111\"/>\r\n      <use x=\"979.630859\" xlink:href=\"#DejaVuSans-109\"/>\r\n     </g>\r\n    </g>\r\n    <g id=\"patch_11\">\r\n     <path d=\"M 229.742188 40.280761 \r\nL 249.742188 40.280761 \r\nL 249.742188 33.280761 \r\nL 229.742188 33.280761 \r\nz\r\n\" style=\"fill:none;stroke:#1f77b4;stroke-linejoin:miter;\"/>\r\n    </g>\r\n    <g id=\"text_14\">\r\n     <!-- 2 degrees of freedom -->\r\n     <g transform=\"translate(257.742188 40.280761)scale(0.1 -0.1)\">\r\n      <use xlink:href=\"#DejaVuSans-50\"/>\r\n      <use x=\"63.623047\" xlink:href=\"#DejaVuSans-32\"/>\r\n      <use x=\"95.410156\" xlink:href=\"#DejaVuSans-100\"/>\r\n      <use x=\"158.886719\" xlink:href=\"#DejaVuSans-101\"/>\r\n      <use x=\"220.410156\" xlink:href=\"#DejaVuSans-103\"/>\r\n      <use x=\"283.886719\" xlink:href=\"#DejaVuSans-114\"/>\r\n      <use x=\"322.75\" xlink:href=\"#DejaVuSans-101\"/>\r\n      <use x=\"384.273438\" xlink:href=\"#DejaVuSans-101\"/>\r\n      <use x=\"445.796875\" xlink:href=\"#DejaVuSans-115\"/>\r\n      <use x=\"497.896484\" xlink:href=\"#DejaVuSans-32\"/>\r\n      <use x=\"529.683594\" xlink:href=\"#DejaVuSans-111\"/>\r\n      <use x=\"590.865234\" xlink:href=\"#DejaVuSans-102\"/>\r\n      <use x=\"626.070312\" xlink:href=\"#DejaVuSans-32\"/>\r\n      <use x=\"657.857422\" xlink:href=\"#DejaVuSans-102\"/>\r\n      <use x=\"693.0625\" xlink:href=\"#DejaVuSans-114\"/>\r\n      <use x=\"731.925781\" xlink:href=\"#DejaVuSans-101\"/>\r\n      <use x=\"793.449219\" xlink:href=\"#DejaVuSans-101\"/>\r\n      <use x=\"854.972656\" xlink:href=\"#DejaVuSans-100\"/>\r\n      <use x=\"918.449219\" xlink:href=\"#DejaVuSans-111\"/>\r\n      <use x=\"979.630859\" xlink:href=\"#DejaVuSans-109\"/>\r\n     </g>\r\n    </g>\r\n   </g>\r\n  </g>\r\n </g>\r\n <defs>\r\n  <clipPath id=\"p668269c36f\">\r\n   <rect height=\"217.44\" width=\"334.8\" x=\"39.65\" y=\"9.004198\"/>\r\n  </clipPath>\r\n </defs>\r\n</svg>\r\n",
      "image/png": "[encoded data removed]"
     },
     "metadata": {
      "needs_background": "light"
     }
    }
   ],
   "source": [
    "%matplotlib inline\n",
    "import matplotlib\n",
    "import matplotlib.pyplot as plt\n",
    "\n",
    "output = plt.hist([chi_squared_df2,chi_squared_df5], bins=50, histtype='step', \n",
    "                  label=['2 degrees of freedom','5 degrees of freedom'])\n",
    "plt.legend(loc='upper right')"
   ]
  },
  {
   "cell_type": "code",
   "execution_count": null,
   "metadata": {},
   "outputs": [],
   "source": [
    "# Hypothesis testing\n",
    "\n"
   ]
  }
 ]
}